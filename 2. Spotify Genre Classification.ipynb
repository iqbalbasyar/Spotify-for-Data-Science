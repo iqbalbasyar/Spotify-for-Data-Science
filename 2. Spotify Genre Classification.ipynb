{
 "cells": [
  {
   "cell_type": "markdown",
   "metadata": {},
   "source": [
    "# Spotify Genre Classification "
   ]
  },
  {
   "cell_type": "markdown",
   "metadata": {},
   "source": [
    "Before we get started, let's define our workflow. Workflow can keep your works as works. It could helps you to do a effective or efficient jobs. There are plenty of workflow, and it's absolutely up to you to choose what workflow to use. In this case, let's use the most common ML workflow as described below\n",
    "![](res/workflow-oreilly.png)\n",
    "*source: https://www.oreilly.com/ideas/how-graph-algorithms-improve-machine-learning*\n",
    "\n",
    "We will call the second process as \"Exploratory Data Analysis\", and will not do a loop for further analysis. \n"
   ]
  },
  {
   "cell_type": "markdown",
   "metadata": {},
   "source": [
    "# Data Load"
   ]
  },
  {
   "cell_type": "code",
   "execution_count": 63,
   "metadata": {
    "ExecuteTime": {
     "end_time": "2019-12-17T03:11:00.099138Z",
     "start_time": "2019-12-17T03:10:57.414198Z"
    }
   },
   "outputs": [
    {
     "data": {
      "text/html": [
       "<div>\n",
       "<style scoped>\n",
       "    .dataframe tbody tr th:only-of-type {\n",
       "        vertical-align: middle;\n",
       "    }\n",
       "\n",
       "    .dataframe tbody tr th {\n",
       "        vertical-align: top;\n",
       "    }\n",
       "\n",
       "    .dataframe thead th {\n",
       "        text-align: right;\n",
       "    }\n",
       "</style>\n",
       "<table border=\"1\" class=\"dataframe\">\n",
       "  <thead>\n",
       "    <tr style=\"text-align: right;\">\n",
       "      <th></th>\n",
       "      <th>genre</th>\n",
       "      <th>artist_name</th>\n",
       "      <th>track_name</th>\n",
       "      <th>track_id</th>\n",
       "      <th>popularity</th>\n",
       "      <th>acousticness</th>\n",
       "      <th>danceability</th>\n",
       "      <th>duration_ms</th>\n",
       "      <th>energy</th>\n",
       "      <th>instrumentalness</th>\n",
       "      <th>key</th>\n",
       "      <th>liveness</th>\n",
       "      <th>loudness</th>\n",
       "      <th>mode</th>\n",
       "      <th>speechiness</th>\n",
       "      <th>tempo</th>\n",
       "      <th>time_signature</th>\n",
       "      <th>valence</th>\n",
       "    </tr>\n",
       "  </thead>\n",
       "  <tbody>\n",
       "    <tr>\n",
       "      <td>0</td>\n",
       "      <td>Movie</td>\n",
       "      <td>Henri Salvador</td>\n",
       "      <td>C'est beau de faire un Show</td>\n",
       "      <td>0BRjO6ga9RKCKjfDqeFgWV</td>\n",
       "      <td>0</td>\n",
       "      <td>0.611</td>\n",
       "      <td>0.389</td>\n",
       "      <td>99373</td>\n",
       "      <td>0.910</td>\n",
       "      <td>0.000</td>\n",
       "      <td>C#</td>\n",
       "      <td>0.3460</td>\n",
       "      <td>-1.828</td>\n",
       "      <td>Major</td>\n",
       "      <td>0.0525</td>\n",
       "      <td>166.969</td>\n",
       "      <td>4/4</td>\n",
       "      <td>0.814</td>\n",
       "    </tr>\n",
       "    <tr>\n",
       "      <td>1</td>\n",
       "      <td>Movie</td>\n",
       "      <td>Martin &amp; les fées</td>\n",
       "      <td>Perdu d'avance (par Gad Elmaleh)</td>\n",
       "      <td>0BjC1NfoEOOusryehmNudP</td>\n",
       "      <td>1</td>\n",
       "      <td>0.246</td>\n",
       "      <td>0.590</td>\n",
       "      <td>137373</td>\n",
       "      <td>0.737</td>\n",
       "      <td>0.000</td>\n",
       "      <td>F#</td>\n",
       "      <td>0.1510</td>\n",
       "      <td>-5.559</td>\n",
       "      <td>Minor</td>\n",
       "      <td>0.0868</td>\n",
       "      <td>174.003</td>\n",
       "      <td>4/4</td>\n",
       "      <td>0.816</td>\n",
       "    </tr>\n",
       "    <tr>\n",
       "      <td>2</td>\n",
       "      <td>Movie</td>\n",
       "      <td>Joseph Williams</td>\n",
       "      <td>Don't Let Me Be Lonely Tonight</td>\n",
       "      <td>0CoSDzoNIKCRs124s9uTVy</td>\n",
       "      <td>3</td>\n",
       "      <td>0.952</td>\n",
       "      <td>0.663</td>\n",
       "      <td>170267</td>\n",
       "      <td>0.131</td>\n",
       "      <td>0.000</td>\n",
       "      <td>C</td>\n",
       "      <td>0.1030</td>\n",
       "      <td>-13.879</td>\n",
       "      <td>Minor</td>\n",
       "      <td>0.0362</td>\n",
       "      <td>99.488</td>\n",
       "      <td>5/4</td>\n",
       "      <td>0.368</td>\n",
       "    </tr>\n",
       "    <tr>\n",
       "      <td>3</td>\n",
       "      <td>Movie</td>\n",
       "      <td>Henri Salvador</td>\n",
       "      <td>Dis-moi Monsieur Gordon Cooper</td>\n",
       "      <td>0Gc6TVm52BwZD07Ki6tIvf</td>\n",
       "      <td>0</td>\n",
       "      <td>0.703</td>\n",
       "      <td>0.240</td>\n",
       "      <td>152427</td>\n",
       "      <td>0.326</td>\n",
       "      <td>0.000</td>\n",
       "      <td>C#</td>\n",
       "      <td>0.0985</td>\n",
       "      <td>-12.178</td>\n",
       "      <td>Major</td>\n",
       "      <td>0.0395</td>\n",
       "      <td>171.758</td>\n",
       "      <td>4/4</td>\n",
       "      <td>0.227</td>\n",
       "    </tr>\n",
       "    <tr>\n",
       "      <td>4</td>\n",
       "      <td>Movie</td>\n",
       "      <td>Fabien Nataf</td>\n",
       "      <td>Ouverture</td>\n",
       "      <td>0IuslXpMROHdEPvSl1fTQK</td>\n",
       "      <td>4</td>\n",
       "      <td>0.950</td>\n",
       "      <td>0.331</td>\n",
       "      <td>82625</td>\n",
       "      <td>0.225</td>\n",
       "      <td>0.123</td>\n",
       "      <td>F</td>\n",
       "      <td>0.2020</td>\n",
       "      <td>-21.150</td>\n",
       "      <td>Major</td>\n",
       "      <td>0.0456</td>\n",
       "      <td>140.576</td>\n",
       "      <td>4/4</td>\n",
       "      <td>0.390</td>\n",
       "    </tr>\n",
       "  </tbody>\n",
       "</table>\n",
       "</div>"
      ],
      "text/plain": [
       "   genre        artist_name                        track_name  \\\n",
       "0  Movie     Henri Salvador       C'est beau de faire un Show   \n",
       "1  Movie  Martin & les fées  Perdu d'avance (par Gad Elmaleh)   \n",
       "2  Movie    Joseph Williams    Don't Let Me Be Lonely Tonight   \n",
       "3  Movie     Henri Salvador    Dis-moi Monsieur Gordon Cooper   \n",
       "4  Movie       Fabien Nataf                         Ouverture   \n",
       "\n",
       "                 track_id  popularity  acousticness  danceability  \\\n",
       "0  0BRjO6ga9RKCKjfDqeFgWV           0         0.611         0.389   \n",
       "1  0BjC1NfoEOOusryehmNudP           1         0.246         0.590   \n",
       "2  0CoSDzoNIKCRs124s9uTVy           3         0.952         0.663   \n",
       "3  0Gc6TVm52BwZD07Ki6tIvf           0         0.703         0.240   \n",
       "4  0IuslXpMROHdEPvSl1fTQK           4         0.950         0.331   \n",
       "\n",
       "   duration_ms  energy  instrumentalness key  liveness  loudness   mode  \\\n",
       "0        99373   0.910             0.000  C#    0.3460    -1.828  Major   \n",
       "1       137373   0.737             0.000  F#    0.1510    -5.559  Minor   \n",
       "2       170267   0.131             0.000   C    0.1030   -13.879  Minor   \n",
       "3       152427   0.326             0.000  C#    0.0985   -12.178  Major   \n",
       "4        82625   0.225             0.123   F    0.2020   -21.150  Major   \n",
       "\n",
       "   speechiness    tempo time_signature  valence  \n",
       "0       0.0525  166.969            4/4    0.814  \n",
       "1       0.0868  174.003            4/4    0.816  \n",
       "2       0.0362   99.488            5/4    0.368  \n",
       "3       0.0395  171.758            4/4    0.227  \n",
       "4       0.0456  140.576            4/4    0.390  "
      ]
     },
     "execution_count": 63,
     "metadata": {},
     "output_type": "execute_result"
    }
   ],
   "source": [
    "import pandas as pd\n",
    "data = pd.read_csv('data/SpotifyFeatures.csv')\n",
    "data.head()"
   ]
  },
  {
   "cell_type": "markdown",
   "metadata": {},
   "source": [
    "# Exploratory Data Analysis"
   ]
  },
  {
   "cell_type": "markdown",
   "metadata": {},
   "source": [
    "## Inspect Structure\n",
    "First thing to do with our data, is to take a peek onto its structure. Let's use info, describe, and head to see it. "
   ]
  },
  {
   "cell_type": "code",
   "execution_count": 64,
   "metadata": {
    "ExecuteTime": {
     "end_time": "2019-12-17T03:11:00.387695Z",
     "start_time": "2019-12-17T03:11:00.213156Z"
    }
   },
   "outputs": [
    {
     "name": "stdout",
     "output_type": "stream",
     "text": [
      "<class 'pandas.core.frame.DataFrame'>\n",
      "RangeIndex: 232725 entries, 0 to 232724\n",
      "Data columns (total 18 columns):\n",
      "genre               232725 non-null object\n",
      "artist_name         232725 non-null object\n",
      "track_name          232725 non-null object\n",
      "track_id            232725 non-null object\n",
      "popularity          232725 non-null int64\n",
      "acousticness        232725 non-null float64\n",
      "danceability        232725 non-null float64\n",
      "duration_ms         232725 non-null int64\n",
      "energy              232725 non-null float64\n",
      "instrumentalness    232725 non-null float64\n",
      "key                 232725 non-null object\n",
      "liveness            232725 non-null float64\n",
      "loudness            232725 non-null float64\n",
      "mode                232725 non-null object\n",
      "speechiness         232725 non-null float64\n",
      "tempo               232725 non-null float64\n",
      "time_signature      232725 non-null object\n",
      "valence             232725 non-null float64\n",
      "dtypes: float64(9), int64(2), object(7)\n",
      "memory usage: 32.0+ MB\n"
     ]
    }
   ],
   "source": [
    "data.info()"
   ]
  },
  {
   "cell_type": "code",
   "execution_count": 65,
   "metadata": {
    "ExecuteTime": {
     "end_time": "2019-12-17T03:11:01.555779Z",
     "start_time": "2019-12-17T03:11:00.646204Z"
    }
   },
   "outputs": [
    {
     "data": {
      "text/html": [
       "<div>\n",
       "<style scoped>\n",
       "    .dataframe tbody tr th:only-of-type {\n",
       "        vertical-align: middle;\n",
       "    }\n",
       "\n",
       "    .dataframe tbody tr th {\n",
       "        vertical-align: top;\n",
       "    }\n",
       "\n",
       "    .dataframe thead th {\n",
       "        text-align: right;\n",
       "    }\n",
       "</style>\n",
       "<table border=\"1\" class=\"dataframe\">\n",
       "  <thead>\n",
       "    <tr style=\"text-align: right;\">\n",
       "      <th></th>\n",
       "      <th>popularity</th>\n",
       "      <th>acousticness</th>\n",
       "      <th>danceability</th>\n",
       "      <th>duration_ms</th>\n",
       "      <th>energy</th>\n",
       "      <th>instrumentalness</th>\n",
       "      <th>liveness</th>\n",
       "      <th>loudness</th>\n",
       "      <th>speechiness</th>\n",
       "      <th>tempo</th>\n",
       "      <th>valence</th>\n",
       "    </tr>\n",
       "  </thead>\n",
       "  <tbody>\n",
       "    <tr>\n",
       "      <td>count</td>\n",
       "      <td>232725.000000</td>\n",
       "      <td>232725.000000</td>\n",
       "      <td>232725.000000</td>\n",
       "      <td>2.327250e+05</td>\n",
       "      <td>232725.000000</td>\n",
       "      <td>232725.000000</td>\n",
       "      <td>232725.000000</td>\n",
       "      <td>232725.000000</td>\n",
       "      <td>232725.000000</td>\n",
       "      <td>232725.000000</td>\n",
       "      <td>232725.000000</td>\n",
       "    </tr>\n",
       "    <tr>\n",
       "      <td>mean</td>\n",
       "      <td>41.127502</td>\n",
       "      <td>0.368560</td>\n",
       "      <td>0.554364</td>\n",
       "      <td>2.351223e+05</td>\n",
       "      <td>0.570958</td>\n",
       "      <td>0.148301</td>\n",
       "      <td>0.215009</td>\n",
       "      <td>-9.569885</td>\n",
       "      <td>0.120765</td>\n",
       "      <td>117.666585</td>\n",
       "      <td>0.454917</td>\n",
       "    </tr>\n",
       "    <tr>\n",
       "      <td>std</td>\n",
       "      <td>18.189948</td>\n",
       "      <td>0.354768</td>\n",
       "      <td>0.185608</td>\n",
       "      <td>1.189359e+05</td>\n",
       "      <td>0.263456</td>\n",
       "      <td>0.302768</td>\n",
       "      <td>0.198273</td>\n",
       "      <td>5.998204</td>\n",
       "      <td>0.185518</td>\n",
       "      <td>30.898907</td>\n",
       "      <td>0.260065</td>\n",
       "    </tr>\n",
       "    <tr>\n",
       "      <td>min</td>\n",
       "      <td>0.000000</td>\n",
       "      <td>0.000000</td>\n",
       "      <td>0.056900</td>\n",
       "      <td>1.538700e+04</td>\n",
       "      <td>0.000020</td>\n",
       "      <td>0.000000</td>\n",
       "      <td>0.009670</td>\n",
       "      <td>-52.457000</td>\n",
       "      <td>0.022200</td>\n",
       "      <td>30.379000</td>\n",
       "      <td>0.000000</td>\n",
       "    </tr>\n",
       "    <tr>\n",
       "      <td>25%</td>\n",
       "      <td>29.000000</td>\n",
       "      <td>0.037600</td>\n",
       "      <td>0.435000</td>\n",
       "      <td>1.828570e+05</td>\n",
       "      <td>0.385000</td>\n",
       "      <td>0.000000</td>\n",
       "      <td>0.097400</td>\n",
       "      <td>-11.771000</td>\n",
       "      <td>0.036700</td>\n",
       "      <td>92.959000</td>\n",
       "      <td>0.237000</td>\n",
       "    </tr>\n",
       "    <tr>\n",
       "      <td>50%</td>\n",
       "      <td>43.000000</td>\n",
       "      <td>0.232000</td>\n",
       "      <td>0.571000</td>\n",
       "      <td>2.204270e+05</td>\n",
       "      <td>0.605000</td>\n",
       "      <td>0.000044</td>\n",
       "      <td>0.128000</td>\n",
       "      <td>-7.762000</td>\n",
       "      <td>0.050100</td>\n",
       "      <td>115.778000</td>\n",
       "      <td>0.444000</td>\n",
       "    </tr>\n",
       "    <tr>\n",
       "      <td>75%</td>\n",
       "      <td>55.000000</td>\n",
       "      <td>0.722000</td>\n",
       "      <td>0.692000</td>\n",
       "      <td>2.657680e+05</td>\n",
       "      <td>0.787000</td>\n",
       "      <td>0.035800</td>\n",
       "      <td>0.264000</td>\n",
       "      <td>-5.501000</td>\n",
       "      <td>0.105000</td>\n",
       "      <td>139.054000</td>\n",
       "      <td>0.660000</td>\n",
       "    </tr>\n",
       "    <tr>\n",
       "      <td>max</td>\n",
       "      <td>100.000000</td>\n",
       "      <td>0.996000</td>\n",
       "      <td>0.989000</td>\n",
       "      <td>5.552917e+06</td>\n",
       "      <td>0.999000</td>\n",
       "      <td>0.999000</td>\n",
       "      <td>1.000000</td>\n",
       "      <td>3.744000</td>\n",
       "      <td>0.967000</td>\n",
       "      <td>242.903000</td>\n",
       "      <td>1.000000</td>\n",
       "    </tr>\n",
       "  </tbody>\n",
       "</table>\n",
       "</div>"
      ],
      "text/plain": [
       "          popularity   acousticness   danceability   duration_ms  \\\n",
       "count  232725.000000  232725.000000  232725.000000  2.327250e+05   \n",
       "mean       41.127502       0.368560       0.554364  2.351223e+05   \n",
       "std        18.189948       0.354768       0.185608  1.189359e+05   \n",
       "min         0.000000       0.000000       0.056900  1.538700e+04   \n",
       "25%        29.000000       0.037600       0.435000  1.828570e+05   \n",
       "50%        43.000000       0.232000       0.571000  2.204270e+05   \n",
       "75%        55.000000       0.722000       0.692000  2.657680e+05   \n",
       "max       100.000000       0.996000       0.989000  5.552917e+06   \n",
       "\n",
       "              energy  instrumentalness       liveness       loudness  \\\n",
       "count  232725.000000     232725.000000  232725.000000  232725.000000   \n",
       "mean        0.570958          0.148301       0.215009      -9.569885   \n",
       "std         0.263456          0.302768       0.198273       5.998204   \n",
       "min         0.000020          0.000000       0.009670     -52.457000   \n",
       "25%         0.385000          0.000000       0.097400     -11.771000   \n",
       "50%         0.605000          0.000044       0.128000      -7.762000   \n",
       "75%         0.787000          0.035800       0.264000      -5.501000   \n",
       "max         0.999000          0.999000       1.000000       3.744000   \n",
       "\n",
       "         speechiness          tempo        valence  \n",
       "count  232725.000000  232725.000000  232725.000000  \n",
       "mean        0.120765     117.666585       0.454917  \n",
       "std         0.185518      30.898907       0.260065  \n",
       "min         0.022200      30.379000       0.000000  \n",
       "25%         0.036700      92.959000       0.237000  \n",
       "50%         0.050100     115.778000       0.444000  \n",
       "75%         0.105000     139.054000       0.660000  \n",
       "max         0.967000     242.903000       1.000000  "
      ]
     },
     "execution_count": 65,
     "metadata": {},
     "output_type": "execute_result"
    }
   ],
   "source": [
    "data.describe()"
   ]
  },
  {
   "cell_type": "code",
   "execution_count": 66,
   "metadata": {
    "ExecuteTime": {
     "end_time": "2019-12-17T03:11:01.728622Z",
     "start_time": "2019-12-17T03:11:01.702688Z"
    }
   },
   "outputs": [
    {
     "data": {
      "text/html": [
       "<div>\n",
       "<style scoped>\n",
       "    .dataframe tbody tr th:only-of-type {\n",
       "        vertical-align: middle;\n",
       "    }\n",
       "\n",
       "    .dataframe tbody tr th {\n",
       "        vertical-align: top;\n",
       "    }\n",
       "\n",
       "    .dataframe thead th {\n",
       "        text-align: right;\n",
       "    }\n",
       "</style>\n",
       "<table border=\"1\" class=\"dataframe\">\n",
       "  <thead>\n",
       "    <tr style=\"text-align: right;\">\n",
       "      <th></th>\n",
       "      <th>genre</th>\n",
       "      <th>artist_name</th>\n",
       "      <th>track_name</th>\n",
       "      <th>track_id</th>\n",
       "      <th>popularity</th>\n",
       "      <th>acousticness</th>\n",
       "      <th>danceability</th>\n",
       "      <th>duration_ms</th>\n",
       "      <th>energy</th>\n",
       "      <th>instrumentalness</th>\n",
       "      <th>key</th>\n",
       "      <th>liveness</th>\n",
       "      <th>loudness</th>\n",
       "      <th>mode</th>\n",
       "      <th>speechiness</th>\n",
       "      <th>tempo</th>\n",
       "      <th>time_signature</th>\n",
       "      <th>valence</th>\n",
       "    </tr>\n",
       "  </thead>\n",
       "  <tbody>\n",
       "    <tr>\n",
       "      <td>0</td>\n",
       "      <td>Movie</td>\n",
       "      <td>Henri Salvador</td>\n",
       "      <td>C'est beau de faire un Show</td>\n",
       "      <td>0BRjO6ga9RKCKjfDqeFgWV</td>\n",
       "      <td>0</td>\n",
       "      <td>0.611</td>\n",
       "      <td>0.389</td>\n",
       "      <td>99373</td>\n",
       "      <td>0.910</td>\n",
       "      <td>0.000</td>\n",
       "      <td>C#</td>\n",
       "      <td>0.3460</td>\n",
       "      <td>-1.828</td>\n",
       "      <td>Major</td>\n",
       "      <td>0.0525</td>\n",
       "      <td>166.969</td>\n",
       "      <td>4/4</td>\n",
       "      <td>0.814</td>\n",
       "    </tr>\n",
       "    <tr>\n",
       "      <td>1</td>\n",
       "      <td>Movie</td>\n",
       "      <td>Martin &amp; les fées</td>\n",
       "      <td>Perdu d'avance (par Gad Elmaleh)</td>\n",
       "      <td>0BjC1NfoEOOusryehmNudP</td>\n",
       "      <td>1</td>\n",
       "      <td>0.246</td>\n",
       "      <td>0.590</td>\n",
       "      <td>137373</td>\n",
       "      <td>0.737</td>\n",
       "      <td>0.000</td>\n",
       "      <td>F#</td>\n",
       "      <td>0.1510</td>\n",
       "      <td>-5.559</td>\n",
       "      <td>Minor</td>\n",
       "      <td>0.0868</td>\n",
       "      <td>174.003</td>\n",
       "      <td>4/4</td>\n",
       "      <td>0.816</td>\n",
       "    </tr>\n",
       "    <tr>\n",
       "      <td>2</td>\n",
       "      <td>Movie</td>\n",
       "      <td>Joseph Williams</td>\n",
       "      <td>Don't Let Me Be Lonely Tonight</td>\n",
       "      <td>0CoSDzoNIKCRs124s9uTVy</td>\n",
       "      <td>3</td>\n",
       "      <td>0.952</td>\n",
       "      <td>0.663</td>\n",
       "      <td>170267</td>\n",
       "      <td>0.131</td>\n",
       "      <td>0.000</td>\n",
       "      <td>C</td>\n",
       "      <td>0.1030</td>\n",
       "      <td>-13.879</td>\n",
       "      <td>Minor</td>\n",
       "      <td>0.0362</td>\n",
       "      <td>99.488</td>\n",
       "      <td>5/4</td>\n",
       "      <td>0.368</td>\n",
       "    </tr>\n",
       "    <tr>\n",
       "      <td>3</td>\n",
       "      <td>Movie</td>\n",
       "      <td>Henri Salvador</td>\n",
       "      <td>Dis-moi Monsieur Gordon Cooper</td>\n",
       "      <td>0Gc6TVm52BwZD07Ki6tIvf</td>\n",
       "      <td>0</td>\n",
       "      <td>0.703</td>\n",
       "      <td>0.240</td>\n",
       "      <td>152427</td>\n",
       "      <td>0.326</td>\n",
       "      <td>0.000</td>\n",
       "      <td>C#</td>\n",
       "      <td>0.0985</td>\n",
       "      <td>-12.178</td>\n",
       "      <td>Major</td>\n",
       "      <td>0.0395</td>\n",
       "      <td>171.758</td>\n",
       "      <td>4/4</td>\n",
       "      <td>0.227</td>\n",
       "    </tr>\n",
       "    <tr>\n",
       "      <td>4</td>\n",
       "      <td>Movie</td>\n",
       "      <td>Fabien Nataf</td>\n",
       "      <td>Ouverture</td>\n",
       "      <td>0IuslXpMROHdEPvSl1fTQK</td>\n",
       "      <td>4</td>\n",
       "      <td>0.950</td>\n",
       "      <td>0.331</td>\n",
       "      <td>82625</td>\n",
       "      <td>0.225</td>\n",
       "      <td>0.123</td>\n",
       "      <td>F</td>\n",
       "      <td>0.2020</td>\n",
       "      <td>-21.150</td>\n",
       "      <td>Major</td>\n",
       "      <td>0.0456</td>\n",
       "      <td>140.576</td>\n",
       "      <td>4/4</td>\n",
       "      <td>0.390</td>\n",
       "    </tr>\n",
       "  </tbody>\n",
       "</table>\n",
       "</div>"
      ],
      "text/plain": [
       "   genre        artist_name                        track_name  \\\n",
       "0  Movie     Henri Salvador       C'est beau de faire un Show   \n",
       "1  Movie  Martin & les fées  Perdu d'avance (par Gad Elmaleh)   \n",
       "2  Movie    Joseph Williams    Don't Let Me Be Lonely Tonight   \n",
       "3  Movie     Henri Salvador    Dis-moi Monsieur Gordon Cooper   \n",
       "4  Movie       Fabien Nataf                         Ouverture   \n",
       "\n",
       "                 track_id  popularity  acousticness  danceability  \\\n",
       "0  0BRjO6ga9RKCKjfDqeFgWV           0         0.611         0.389   \n",
       "1  0BjC1NfoEOOusryehmNudP           1         0.246         0.590   \n",
       "2  0CoSDzoNIKCRs124s9uTVy           3         0.952         0.663   \n",
       "3  0Gc6TVm52BwZD07Ki6tIvf           0         0.703         0.240   \n",
       "4  0IuslXpMROHdEPvSl1fTQK           4         0.950         0.331   \n",
       "\n",
       "   duration_ms  energy  instrumentalness key  liveness  loudness   mode  \\\n",
       "0        99373   0.910             0.000  C#    0.3460    -1.828  Major   \n",
       "1       137373   0.737             0.000  F#    0.1510    -5.559  Minor   \n",
       "2       170267   0.131             0.000   C    0.1030   -13.879  Minor   \n",
       "3       152427   0.326             0.000  C#    0.0985   -12.178  Major   \n",
       "4        82625   0.225             0.123   F    0.2020   -21.150  Major   \n",
       "\n",
       "   speechiness    tempo time_signature  valence  \n",
       "0       0.0525  166.969            4/4    0.814  \n",
       "1       0.0868  174.003            4/4    0.816  \n",
       "2       0.0362   99.488            5/4    0.368  \n",
       "3       0.0395  171.758            4/4    0.227  \n",
       "4       0.0456  140.576            4/4    0.390  "
      ]
     },
     "execution_count": 66,
     "metadata": {},
     "output_type": "execute_result"
    }
   ],
   "source": [
    "data.head()"
   ]
  },
  {
   "cell_type": "markdown",
   "metadata": {},
   "source": [
    "If you already read the previous notebook, you might notice that most of the features are the same. The only feature that haven't introduced are `genre`. But since it's so clear, that `genre` contains string denoting the genre of the music, we will not discuss any further. If you are not familiar with the feature, or haven't read previous notebook, please take a look on [Spotify Data Collection and Analysis]()"
   ]
  },
  {
   "cell_type": "markdown",
   "metadata": {},
   "source": [
    "## Feature Drop"
   ]
  },
  {
   "cell_type": "markdown",
   "metadata": {},
   "source": [
    "In this notebook, the goal is to classify music's genre by it's audio feature. So we don't need `artist_name`, `track_name`, and `track_id` as they have nothing to do with the genre. What about `duration_ms`? by theory, there is a relation between genre and duration. You can see it whether this feature affect model's performance in feature importance. <span style=\"background-color:lightgreen\">Update 1: Feature Importance</span>"
   ]
  },
  {
   "cell_type": "markdown",
   "metadata": {},
   "source": [
    "Now, let's drop them off"
   ]
  },
  {
   "cell_type": "code",
   "execution_count": 67,
   "metadata": {
    "ExecuteTime": {
     "end_time": "2019-12-17T03:11:07.919715Z",
     "start_time": "2019-12-17T03:11:07.595832Z"
    }
   },
   "outputs": [],
   "source": [
    "unused_col = ['artist_name', 'track_name', 'track_id']\n",
    "df = data.drop(columns=unused_col).reset_index(drop=True)"
   ]
  },
  {
   "cell_type": "code",
   "execution_count": 68,
   "metadata": {
    "ExecuteTime": {
     "end_time": "2019-12-17T03:11:08.082243Z",
     "start_time": "2019-12-17T03:11:08.042347Z"
    }
   },
   "outputs": [
    {
     "data": {
      "text/html": [
       "<div>\n",
       "<style scoped>\n",
       "    .dataframe tbody tr th:only-of-type {\n",
       "        vertical-align: middle;\n",
       "    }\n",
       "\n",
       "    .dataframe tbody tr th {\n",
       "        vertical-align: top;\n",
       "    }\n",
       "\n",
       "    .dataframe thead th {\n",
       "        text-align: right;\n",
       "    }\n",
       "</style>\n",
       "<table border=\"1\" class=\"dataframe\">\n",
       "  <thead>\n",
       "    <tr style=\"text-align: right;\">\n",
       "      <th></th>\n",
       "      <th>genre</th>\n",
       "      <th>popularity</th>\n",
       "      <th>acousticness</th>\n",
       "      <th>danceability</th>\n",
       "      <th>duration_ms</th>\n",
       "      <th>energy</th>\n",
       "      <th>instrumentalness</th>\n",
       "      <th>key</th>\n",
       "      <th>liveness</th>\n",
       "      <th>loudness</th>\n",
       "      <th>mode</th>\n",
       "      <th>speechiness</th>\n",
       "      <th>tempo</th>\n",
       "      <th>time_signature</th>\n",
       "      <th>valence</th>\n",
       "    </tr>\n",
       "  </thead>\n",
       "  <tbody>\n",
       "    <tr>\n",
       "      <td>0</td>\n",
       "      <td>Movie</td>\n",
       "      <td>0</td>\n",
       "      <td>0.611</td>\n",
       "      <td>0.389</td>\n",
       "      <td>99373</td>\n",
       "      <td>0.910</td>\n",
       "      <td>0.000</td>\n",
       "      <td>C#</td>\n",
       "      <td>0.3460</td>\n",
       "      <td>-1.828</td>\n",
       "      <td>Major</td>\n",
       "      <td>0.0525</td>\n",
       "      <td>166.969</td>\n",
       "      <td>4/4</td>\n",
       "      <td>0.814</td>\n",
       "    </tr>\n",
       "    <tr>\n",
       "      <td>1</td>\n",
       "      <td>Movie</td>\n",
       "      <td>1</td>\n",
       "      <td>0.246</td>\n",
       "      <td>0.590</td>\n",
       "      <td>137373</td>\n",
       "      <td>0.737</td>\n",
       "      <td>0.000</td>\n",
       "      <td>F#</td>\n",
       "      <td>0.1510</td>\n",
       "      <td>-5.559</td>\n",
       "      <td>Minor</td>\n",
       "      <td>0.0868</td>\n",
       "      <td>174.003</td>\n",
       "      <td>4/4</td>\n",
       "      <td>0.816</td>\n",
       "    </tr>\n",
       "    <tr>\n",
       "      <td>2</td>\n",
       "      <td>Movie</td>\n",
       "      <td>3</td>\n",
       "      <td>0.952</td>\n",
       "      <td>0.663</td>\n",
       "      <td>170267</td>\n",
       "      <td>0.131</td>\n",
       "      <td>0.000</td>\n",
       "      <td>C</td>\n",
       "      <td>0.1030</td>\n",
       "      <td>-13.879</td>\n",
       "      <td>Minor</td>\n",
       "      <td>0.0362</td>\n",
       "      <td>99.488</td>\n",
       "      <td>5/4</td>\n",
       "      <td>0.368</td>\n",
       "    </tr>\n",
       "    <tr>\n",
       "      <td>3</td>\n",
       "      <td>Movie</td>\n",
       "      <td>0</td>\n",
       "      <td>0.703</td>\n",
       "      <td>0.240</td>\n",
       "      <td>152427</td>\n",
       "      <td>0.326</td>\n",
       "      <td>0.000</td>\n",
       "      <td>C#</td>\n",
       "      <td>0.0985</td>\n",
       "      <td>-12.178</td>\n",
       "      <td>Major</td>\n",
       "      <td>0.0395</td>\n",
       "      <td>171.758</td>\n",
       "      <td>4/4</td>\n",
       "      <td>0.227</td>\n",
       "    </tr>\n",
       "    <tr>\n",
       "      <td>4</td>\n",
       "      <td>Movie</td>\n",
       "      <td>4</td>\n",
       "      <td>0.950</td>\n",
       "      <td>0.331</td>\n",
       "      <td>82625</td>\n",
       "      <td>0.225</td>\n",
       "      <td>0.123</td>\n",
       "      <td>F</td>\n",
       "      <td>0.2020</td>\n",
       "      <td>-21.150</td>\n",
       "      <td>Major</td>\n",
       "      <td>0.0456</td>\n",
       "      <td>140.576</td>\n",
       "      <td>4/4</td>\n",
       "      <td>0.390</td>\n",
       "    </tr>\n",
       "  </tbody>\n",
       "</table>\n",
       "</div>"
      ],
      "text/plain": [
       "   genre  popularity  acousticness  danceability  duration_ms  energy  \\\n",
       "0  Movie           0         0.611         0.389        99373   0.910   \n",
       "1  Movie           1         0.246         0.590       137373   0.737   \n",
       "2  Movie           3         0.952         0.663       170267   0.131   \n",
       "3  Movie           0         0.703         0.240       152427   0.326   \n",
       "4  Movie           4         0.950         0.331        82625   0.225   \n",
       "\n",
       "   instrumentalness key  liveness  loudness   mode  speechiness    tempo  \\\n",
       "0             0.000  C#    0.3460    -1.828  Major       0.0525  166.969   \n",
       "1             0.000  F#    0.1510    -5.559  Minor       0.0868  174.003   \n",
       "2             0.000   C    0.1030   -13.879  Minor       0.0362   99.488   \n",
       "3             0.000  C#    0.0985   -12.178  Major       0.0395  171.758   \n",
       "4             0.123   F    0.2020   -21.150  Major       0.0456  140.576   \n",
       "\n",
       "  time_signature  valence  \n",
       "0            4/4    0.814  \n",
       "1            4/4    0.816  \n",
       "2            5/4    0.368  \n",
       "3            4/4    0.227  \n",
       "4            4/4    0.390  "
      ]
     },
     "execution_count": 68,
     "metadata": {},
     "output_type": "execute_result"
    }
   ],
   "source": [
    "df.head()"
   ]
  },
  {
   "cell_type": "markdown",
   "metadata": {},
   "source": [
    "## Feature Engineering"
   ]
  },
  {
   "cell_type": "markdown",
   "metadata": {},
   "source": [
    "Now, we need our data to be able to be applied with mathematical expressions (since that how machine learning do that). So, let's change several feature values and cast them into numerical."
   ]
  },
  {
   "cell_type": "code",
   "execution_count": 69,
   "metadata": {
    "ExecuteTime": {
     "end_time": "2019-12-17T03:11:11.800324Z",
     "start_time": "2019-12-17T03:11:11.704554Z"
    }
   },
   "outputs": [
    {
     "data": {
      "text/html": [
       "<div>\n",
       "<style scoped>\n",
       "    .dataframe tbody tr th:only-of-type {\n",
       "        vertical-align: middle;\n",
       "    }\n",
       "\n",
       "    .dataframe tbody tr th {\n",
       "        vertical-align: top;\n",
       "    }\n",
       "\n",
       "    .dataframe thead th {\n",
       "        text-align: right;\n",
       "    }\n",
       "</style>\n",
       "<table border=\"1\" class=\"dataframe\">\n",
       "  <thead>\n",
       "    <tr style=\"text-align: right;\">\n",
       "      <th></th>\n",
       "      <th>genre</th>\n",
       "      <th>key</th>\n",
       "      <th>mode</th>\n",
       "      <th>time_signature</th>\n",
       "    </tr>\n",
       "  </thead>\n",
       "  <tbody>\n",
       "    <tr>\n",
       "      <td>0</td>\n",
       "      <td>Movie</td>\n",
       "      <td>C#</td>\n",
       "      <td>Major</td>\n",
       "      <td>4/4</td>\n",
       "    </tr>\n",
       "    <tr>\n",
       "      <td>1</td>\n",
       "      <td>Movie</td>\n",
       "      <td>F#</td>\n",
       "      <td>Minor</td>\n",
       "      <td>4/4</td>\n",
       "    </tr>\n",
       "    <tr>\n",
       "      <td>2</td>\n",
       "      <td>Movie</td>\n",
       "      <td>C</td>\n",
       "      <td>Minor</td>\n",
       "      <td>5/4</td>\n",
       "    </tr>\n",
       "    <tr>\n",
       "      <td>3</td>\n",
       "      <td>Movie</td>\n",
       "      <td>C#</td>\n",
       "      <td>Major</td>\n",
       "      <td>4/4</td>\n",
       "    </tr>\n",
       "    <tr>\n",
       "      <td>4</td>\n",
       "      <td>Movie</td>\n",
       "      <td>F</td>\n",
       "      <td>Major</td>\n",
       "      <td>4/4</td>\n",
       "    </tr>\n",
       "  </tbody>\n",
       "</table>\n",
       "</div>"
      ],
      "text/plain": [
       "   genre key   mode time_signature\n",
       "0  Movie  C#  Major            4/4\n",
       "1  Movie  F#  Minor            4/4\n",
       "2  Movie   C  Minor            5/4\n",
       "3  Movie  C#  Major            4/4\n",
       "4  Movie   F  Major            4/4"
      ]
     },
     "execution_count": 69,
     "metadata": {},
     "output_type": "execute_result"
    }
   ],
   "source": [
    "df.select_dtypes(exclude='number').head()"
   ]
  },
  {
   "cell_type": "code",
   "execution_count": 70,
   "metadata": {
    "ExecuteTime": {
     "end_time": "2019-12-17T03:11:14.052675Z",
     "start_time": "2019-12-17T03:11:13.898002Z"
    }
   },
   "outputs": [
    {
     "data": {
      "text/plain": [
       "['4/4', '5/4', '3/4', '1/4', '0/4']"
      ]
     },
     "execution_count": 70,
     "metadata": {},
     "output_type": "execute_result"
    }
   ],
   "source": [
    "df['time_signature'].unique().tolist()"
   ]
  },
  {
   "cell_type": "markdown",
   "metadata": {},
   "source": [
    "If you remember from the previous notebook, the `time_signature` are ranging from 3 to 7. I assume changing its value into the first numeric value (ie: 4/4 -> 4) won't remove the informations, because all the signature have and supposed to be have the same denominator. "
   ]
  },
  {
   "cell_type": "code",
   "execution_count": 71,
   "metadata": {
    "ExecuteTime": {
     "end_time": "2019-12-17T03:11:14.628327Z",
     "start_time": "2019-12-17T03:11:14.614322Z"
    }
   },
   "outputs": [
    {
     "data": {
      "text/plain": [
       "['Major', 'Minor']"
      ]
     },
     "execution_count": 71,
     "metadata": {},
     "output_type": "execute_result"
    }
   ],
   "source": [
    "df['mode'].unique().tolist()"
   ]
  },
  {
   "cell_type": "markdown",
   "metadata": {},
   "source": [
    "Let's change the value of Major -> 1 and Minor -> 0. Even if it's not a numerical, but since it's only have 2 value, we can change it into binary (0,1). With 0 means the absence of Major (wich means Minor), and 1 means the occurence of Major"
   ]
  },
  {
   "cell_type": "code",
   "execution_count": 72,
   "metadata": {
    "ExecuteTime": {
     "end_time": "2019-12-17T03:11:15.706437Z",
     "start_time": "2019-12-17T03:11:15.692476Z"
    }
   },
   "outputs": [
    {
     "data": {
      "text/plain": [
       "['C#', 'F#', 'C', 'F', 'G', 'E', 'D#', 'G#', 'D', 'A#', 'A', 'B']"
      ]
     },
     "execution_count": 72,
     "metadata": {},
     "output_type": "execute_result"
    }
   ],
   "source": [
    "df['key'].unique().tolist()"
   ]
  },
  {
   "cell_type": "markdown",
   "metadata": {},
   "source": [
    "<span style=\"background-color:lightgreen\">Update #2 : Citation</span>\n",
    "\n",
    "In music theory, the basic scale used are chromatic scale, wich divide the tone into 12 keys (C, C#, D, D#, E, F, F#, G, G#, A, A#, B). Let's not argue of why it should be 12, why not 5, 9, etc. But if you are curious enough, you may visit Daniel White's dissertation: [Potential Mathematical Models for the Western Musical Scale](https://www.skytopia.com/music/theory/scale-dissertation.html), or his [blogpost](https://www.skytopia.com/project/scale.html)\n",
    "\n",
    "\n",
    "Since it contains the value of order, we can safely transform the key into numerical representations. \n",
    "Let's say, 1 to 12."
   ]
  },
  {
   "cell_type": "code",
   "execution_count": 73,
   "metadata": {
    "ExecuteTime": {
     "end_time": "2019-12-17T03:11:17.224757Z",
     "start_time": "2019-12-17T03:11:16.646937Z"
    }
   },
   "outputs": [
    {
     "data": {
      "text/html": [
       "<div>\n",
       "<style scoped>\n",
       "    .dataframe tbody tr th:only-of-type {\n",
       "        vertical-align: middle;\n",
       "    }\n",
       "\n",
       "    .dataframe tbody tr th {\n",
       "        vertical-align: top;\n",
       "    }\n",
       "\n",
       "    .dataframe thead th {\n",
       "        text-align: right;\n",
       "    }\n",
       "</style>\n",
       "<table border=\"1\" class=\"dataframe\">\n",
       "  <thead>\n",
       "    <tr style=\"text-align: right;\">\n",
       "      <th></th>\n",
       "      <th>genre</th>\n",
       "      <th>popularity</th>\n",
       "      <th>acousticness</th>\n",
       "      <th>danceability</th>\n",
       "      <th>duration_ms</th>\n",
       "      <th>energy</th>\n",
       "      <th>instrumentalness</th>\n",
       "      <th>key</th>\n",
       "      <th>liveness</th>\n",
       "      <th>loudness</th>\n",
       "      <th>mode</th>\n",
       "      <th>speechiness</th>\n",
       "      <th>tempo</th>\n",
       "      <th>time_signature</th>\n",
       "      <th>valence</th>\n",
       "    </tr>\n",
       "  </thead>\n",
       "  <tbody>\n",
       "    <tr>\n",
       "      <td>0</td>\n",
       "      <td>Movie</td>\n",
       "      <td>0</td>\n",
       "      <td>0.611</td>\n",
       "      <td>0.389</td>\n",
       "      <td>99373</td>\n",
       "      <td>0.910</td>\n",
       "      <td>0.000</td>\n",
       "      <td>2</td>\n",
       "      <td>0.3460</td>\n",
       "      <td>-1.828</td>\n",
       "      <td>1</td>\n",
       "      <td>0.0525</td>\n",
       "      <td>166.969</td>\n",
       "      <td>4</td>\n",
       "      <td>0.814</td>\n",
       "    </tr>\n",
       "    <tr>\n",
       "      <td>1</td>\n",
       "      <td>Movie</td>\n",
       "      <td>1</td>\n",
       "      <td>0.246</td>\n",
       "      <td>0.590</td>\n",
       "      <td>137373</td>\n",
       "      <td>0.737</td>\n",
       "      <td>0.000</td>\n",
       "      <td>7</td>\n",
       "      <td>0.1510</td>\n",
       "      <td>-5.559</td>\n",
       "      <td>0</td>\n",
       "      <td>0.0868</td>\n",
       "      <td>174.003</td>\n",
       "      <td>4</td>\n",
       "      <td>0.816</td>\n",
       "    </tr>\n",
       "    <tr>\n",
       "      <td>2</td>\n",
       "      <td>Movie</td>\n",
       "      <td>3</td>\n",
       "      <td>0.952</td>\n",
       "      <td>0.663</td>\n",
       "      <td>170267</td>\n",
       "      <td>0.131</td>\n",
       "      <td>0.000</td>\n",
       "      <td>1</td>\n",
       "      <td>0.1030</td>\n",
       "      <td>-13.879</td>\n",
       "      <td>0</td>\n",
       "      <td>0.0362</td>\n",
       "      <td>99.488</td>\n",
       "      <td>5</td>\n",
       "      <td>0.368</td>\n",
       "    </tr>\n",
       "    <tr>\n",
       "      <td>3</td>\n",
       "      <td>Movie</td>\n",
       "      <td>0</td>\n",
       "      <td>0.703</td>\n",
       "      <td>0.240</td>\n",
       "      <td>152427</td>\n",
       "      <td>0.326</td>\n",
       "      <td>0.000</td>\n",
       "      <td>2</td>\n",
       "      <td>0.0985</td>\n",
       "      <td>-12.178</td>\n",
       "      <td>1</td>\n",
       "      <td>0.0395</td>\n",
       "      <td>171.758</td>\n",
       "      <td>4</td>\n",
       "      <td>0.227</td>\n",
       "    </tr>\n",
       "    <tr>\n",
       "      <td>4</td>\n",
       "      <td>Movie</td>\n",
       "      <td>4</td>\n",
       "      <td>0.950</td>\n",
       "      <td>0.331</td>\n",
       "      <td>82625</td>\n",
       "      <td>0.225</td>\n",
       "      <td>0.123</td>\n",
       "      <td>6</td>\n",
       "      <td>0.2020</td>\n",
       "      <td>-21.150</td>\n",
       "      <td>1</td>\n",
       "      <td>0.0456</td>\n",
       "      <td>140.576</td>\n",
       "      <td>4</td>\n",
       "      <td>0.390</td>\n",
       "    </tr>\n",
       "  </tbody>\n",
       "</table>\n",
       "</div>"
      ],
      "text/plain": [
       "   genre  popularity  acousticness  danceability  duration_ms  energy  \\\n",
       "0  Movie           0         0.611         0.389        99373   0.910   \n",
       "1  Movie           1         0.246         0.590       137373   0.737   \n",
       "2  Movie           3         0.952         0.663       170267   0.131   \n",
       "3  Movie           0         0.703         0.240       152427   0.326   \n",
       "4  Movie           4         0.950         0.331        82625   0.225   \n",
       "\n",
       "   instrumentalness  key  liveness  loudness  mode  speechiness    tempo  \\\n",
       "0             0.000    2    0.3460    -1.828     1       0.0525  166.969   \n",
       "1             0.000    7    0.1510    -5.559     0       0.0868  174.003   \n",
       "2             0.000    1    0.1030   -13.879     0       0.0362   99.488   \n",
       "3             0.000    2    0.0985   -12.178     1       0.0395  171.758   \n",
       "4             0.123    6    0.2020   -21.150     1       0.0456  140.576   \n",
       "\n",
       "   time_signature  valence  \n",
       "0               4    0.814  \n",
       "1               4    0.816  \n",
       "2               5    0.368  \n",
       "3               4    0.227  \n",
       "4               4    0.390  "
      ]
     },
     "execution_count": 73,
     "metadata": {},
     "output_type": "execute_result"
    }
   ],
   "source": [
    "mode_dict = {'Major' : 1, 'Minor' : 0}\n",
    "key_dict = {'C' : 1, 'C#' : 2, 'D' : 3, 'D#' : 4, 'E' : 5, 'F' : 6, \n",
    "        'F#' : 7, 'G' : 9, 'G#' : 10, 'A' : 11, 'A#' : 12, 'B' : 12}\n",
    "\n",
    "df['time_signature'] = df['time_signature'].apply(lambda x : int(x[0]))\n",
    "df['mode'].replace(mode_dict, inplace=True)\n",
    "df['key'] = df['key'].replace(key_dict).astype(int)\n",
    "\n",
    "df.head()"
   ]
  },
  {
   "cell_type": "markdown",
   "metadata": {},
   "source": [
    "Let's save this into a module so that we can use it later on the same dataset (saved on `scripts/preprocessing.py`)"
   ]
  },
  {
   "cell_type": "markdown",
   "metadata": {},
   "source": [
    "## Correlation\n",
    "The easiest way to see data's correlation is by look into its pairplot. Pairplot gives you a brief information about correlation between two features and each feature's distribution."
   ]
  },
  {
   "cell_type": "code",
   "execution_count": 74,
   "metadata": {
    "ExecuteTime": {
     "end_time": "2019-12-17T03:11:21.167478Z",
     "start_time": "2019-12-17T03:11:21.163487Z"
    }
   },
   "outputs": [],
   "source": [
    "import seaborn as sns\n",
    "# sns.pairplot(df) #it may take a while since the data is pretty large"
   ]
  },
  {
   "cell_type": "markdown",
   "metadata": {},
   "source": [
    "![](res/pairplot.png)"
   ]
  },
  {
   "cell_type": "markdown",
   "metadata": {},
   "source": [
    "If we pairplot the features (not the genre), we can see that most of the features have a little correlations (based on the plot). \n",
    "\n",
    "<span style=\"background-color:lightgreen\">Update 3: Pairplot Insight</span>\n",
    "\n",
    "Look closer to `key`, `mode`, and `time_signature`. The variance are highly condensed on specific value. This is because `key`, `mode`, and `time_signature` was previously a categorical value so there won't be any values other than that converted values. On the other hand, most of the feature forms a random scatter, wich is good because we don't want any feature have correlation. \n",
    "\n",
    "But, there are few feature that creates a pattern. Let's say `loudness - energy` creates sigmoidal pattern. `duration - popularity` and `duration-tempo` creates normal-like distribution.\n",
    "\n",
    "We can, let's say, drop the `loudness-energy-populairty-tempo`. But wich one? we will later see from feature importance. Let's drop it later to conclude the hypothesis that the absence of those feature can cure the performance.  \n"
   ]
  },
  {
   "cell_type": "markdown",
   "metadata": {},
   "source": [
    "## Check for missing values"
   ]
  },
  {
   "cell_type": "code",
   "execution_count": 75,
   "metadata": {
    "ExecuteTime": {
     "end_time": "2019-12-17T03:11:23.949738Z",
     "start_time": "2019-12-17T03:11:23.914841Z"
    }
   },
   "outputs": [
    {
     "data": {
      "text/plain": [
       "0"
      ]
     },
     "execution_count": 75,
     "metadata": {},
     "output_type": "execute_result"
    }
   ],
   "source": [
    "df.isna().sum().sum()"
   ]
  },
  {
   "cell_type": "markdown",
   "metadata": {},
   "source": [
    "## Check for duplicates"
   ]
  },
  {
   "cell_type": "markdown",
   "metadata": {},
   "source": [
    "<span style=\"background-color:lightgreen\">Update 5: Duplicates Check and why top-5 (multiclass) measurement matters</span>\n",
    "\n",
    "Each row of this data represents a song. However, there are songs that labelled into multiple genre. Take a look at this data"
   ]
  },
  {
   "cell_type": "code",
   "execution_count": 86,
   "metadata": {
    "ExecuteTime": {
     "end_time": "2019-12-17T04:53:18.442310Z",
     "start_time": "2019-12-17T04:53:18.278200Z"
    }
   },
   "outputs": [],
   "source": [
    "duplicated_all = data[data.duplicated(subset = 'track_id', keep=False)]\n",
    "duplicated = data[data.duplicated(subset = 'track_id', keep='first')]"
   ]
  },
  {
   "cell_type": "code",
   "execution_count": 87,
   "metadata": {
    "ExecuteTime": {
     "end_time": "2019-12-17T04:53:18.590022Z",
     "start_time": "2019-12-17T04:53:18.548445Z"
    }
   },
   "outputs": [
    {
     "data": {
      "text/html": [
       "<div>\n",
       "<style scoped>\n",
       "    .dataframe tbody tr th:only-of-type {\n",
       "        vertical-align: middle;\n",
       "    }\n",
       "\n",
       "    .dataframe tbody tr th {\n",
       "        vertical-align: top;\n",
       "    }\n",
       "\n",
       "    .dataframe thead th {\n",
       "        text-align: right;\n",
       "    }\n",
       "</style>\n",
       "<table border=\"1\" class=\"dataframe\">\n",
       "  <thead>\n",
       "    <tr style=\"text-align: right;\">\n",
       "      <th></th>\n",
       "      <th>genre</th>\n",
       "      <th>artist_name</th>\n",
       "      <th>track_name</th>\n",
       "      <th>track_id</th>\n",
       "      <th>popularity</th>\n",
       "      <th>acousticness</th>\n",
       "      <th>danceability</th>\n",
       "      <th>duration_ms</th>\n",
       "      <th>energy</th>\n",
       "      <th>instrumentalness</th>\n",
       "      <th>key</th>\n",
       "      <th>liveness</th>\n",
       "      <th>loudness</th>\n",
       "      <th>mode</th>\n",
       "      <th>speechiness</th>\n",
       "      <th>tempo</th>\n",
       "      <th>time_signature</th>\n",
       "      <th>valence</th>\n",
       "    </tr>\n",
       "  </thead>\n",
       "  <tbody>\n",
       "    <tr>\n",
       "      <td>257</td>\n",
       "      <td>R&amp;B</td>\n",
       "      <td>Doja Cat</td>\n",
       "      <td>Go To Town</td>\n",
       "      <td>6iOvnACn4ChlAw4lWUU4dd</td>\n",
       "      <td>64</td>\n",
       "      <td>0.0716</td>\n",
       "      <td>0.71</td>\n",
       "      <td>217813</td>\n",
       "      <td>0.71</td>\n",
       "      <td>0.000001</td>\n",
       "      <td>C</td>\n",
       "      <td>0.206</td>\n",
       "      <td>-2.474</td>\n",
       "      <td>Major</td>\n",
       "      <td>0.0579</td>\n",
       "      <td>169.944</td>\n",
       "      <td>4/4</td>\n",
       "      <td>0.7</td>\n",
       "    </tr>\n",
       "    <tr>\n",
       "      <td>1348</td>\n",
       "      <td>Alternative</td>\n",
       "      <td>Doja Cat</td>\n",
       "      <td>Go To Town</td>\n",
       "      <td>6iOvnACn4ChlAw4lWUU4dd</td>\n",
       "      <td>64</td>\n",
       "      <td>0.0716</td>\n",
       "      <td>0.71</td>\n",
       "      <td>217813</td>\n",
       "      <td>0.71</td>\n",
       "      <td>0.000001</td>\n",
       "      <td>C</td>\n",
       "      <td>0.206</td>\n",
       "      <td>-2.474</td>\n",
       "      <td>Major</td>\n",
       "      <td>0.0579</td>\n",
       "      <td>169.944</td>\n",
       "      <td>4/4</td>\n",
       "      <td>0.7</td>\n",
       "    </tr>\n",
       "    <tr>\n",
       "      <td>77710</td>\n",
       "      <td>Children’s Music</td>\n",
       "      <td>Doja Cat</td>\n",
       "      <td>Go To Town</td>\n",
       "      <td>6iOvnACn4ChlAw4lWUU4dd</td>\n",
       "      <td>64</td>\n",
       "      <td>0.0716</td>\n",
       "      <td>0.71</td>\n",
       "      <td>217813</td>\n",
       "      <td>0.71</td>\n",
       "      <td>0.000001</td>\n",
       "      <td>C</td>\n",
       "      <td>0.206</td>\n",
       "      <td>-2.474</td>\n",
       "      <td>Major</td>\n",
       "      <td>0.0579</td>\n",
       "      <td>169.944</td>\n",
       "      <td>4/4</td>\n",
       "      <td>0.7</td>\n",
       "    </tr>\n",
       "    <tr>\n",
       "      <td>93651</td>\n",
       "      <td>Indie</td>\n",
       "      <td>Doja Cat</td>\n",
       "      <td>Go To Town</td>\n",
       "      <td>6iOvnACn4ChlAw4lWUU4dd</td>\n",
       "      <td>64</td>\n",
       "      <td>0.0716</td>\n",
       "      <td>0.71</td>\n",
       "      <td>217813</td>\n",
       "      <td>0.71</td>\n",
       "      <td>0.000001</td>\n",
       "      <td>C</td>\n",
       "      <td>0.206</td>\n",
       "      <td>-2.474</td>\n",
       "      <td>Major</td>\n",
       "      <td>0.0579</td>\n",
       "      <td>169.944</td>\n",
       "      <td>4/4</td>\n",
       "      <td>0.7</td>\n",
       "    </tr>\n",
       "    <tr>\n",
       "      <td>113770</td>\n",
       "      <td>Pop</td>\n",
       "      <td>Doja Cat</td>\n",
       "      <td>Go To Town</td>\n",
       "      <td>6iOvnACn4ChlAw4lWUU4dd</td>\n",
       "      <td>64</td>\n",
       "      <td>0.0716</td>\n",
       "      <td>0.71</td>\n",
       "      <td>217813</td>\n",
       "      <td>0.71</td>\n",
       "      <td>0.000001</td>\n",
       "      <td>C</td>\n",
       "      <td>0.206</td>\n",
       "      <td>-2.474</td>\n",
       "      <td>Major</td>\n",
       "      <td>0.0579</td>\n",
       "      <td>169.944</td>\n",
       "      <td>4/4</td>\n",
       "      <td>0.7</td>\n",
       "    </tr>\n",
       "  </tbody>\n",
       "</table>\n",
       "</div>"
      ],
      "text/plain": [
       "                   genre artist_name  track_name                track_id  \\\n",
       "257                  R&B    Doja Cat  Go To Town  6iOvnACn4ChlAw4lWUU4dd   \n",
       "1348         Alternative    Doja Cat  Go To Town  6iOvnACn4ChlAw4lWUU4dd   \n",
       "77710   Children’s Music    Doja Cat  Go To Town  6iOvnACn4ChlAw4lWUU4dd   \n",
       "93651              Indie    Doja Cat  Go To Town  6iOvnACn4ChlAw4lWUU4dd   \n",
       "113770               Pop    Doja Cat  Go To Town  6iOvnACn4ChlAw4lWUU4dd   \n",
       "\n",
       "        popularity  acousticness  danceability  duration_ms  energy  \\\n",
       "257             64        0.0716          0.71       217813    0.71   \n",
       "1348            64        0.0716          0.71       217813    0.71   \n",
       "77710           64        0.0716          0.71       217813    0.71   \n",
       "93651           64        0.0716          0.71       217813    0.71   \n",
       "113770          64        0.0716          0.71       217813    0.71   \n",
       "\n",
       "        instrumentalness key  liveness  loudness   mode  speechiness    tempo  \\\n",
       "257             0.000001   C     0.206    -2.474  Major       0.0579  169.944   \n",
       "1348            0.000001   C     0.206    -2.474  Major       0.0579  169.944   \n",
       "77710           0.000001   C     0.206    -2.474  Major       0.0579  169.944   \n",
       "93651           0.000001   C     0.206    -2.474  Major       0.0579  169.944   \n",
       "113770          0.000001   C     0.206    -2.474  Major       0.0579  169.944   \n",
       "\n",
       "       time_signature  valence  \n",
       "257               4/4      0.7  \n",
       "1348              4/4      0.7  \n",
       "77710             4/4      0.7  \n",
       "93651             4/4      0.7  \n",
       "113770            4/4      0.7  "
      ]
     },
     "execution_count": 87,
     "metadata": {},
     "output_type": "execute_result"
    }
   ],
   "source": [
    "data[data['track_id'] == duplicated['track_id'].iloc[0]]"
   ]
  },
  {
   "cell_type": "markdown",
   "metadata": {},
   "source": [
    "Imagine, if you're going to classify same data characterisics over a different classes. Isn't that frustate you ? well, this goes the same with our model later. This is **current limitation** of spotify dataset API. AFAIK, They don't provide a multilabel data on genre, at least, until this notebook was created.  "
   ]
  },
  {
   "cell_type": "code",
   "execution_count": 88,
   "metadata": {
    "ExecuteTime": {
     "end_time": "2019-12-17T04:53:19.895069Z",
     "start_time": "2019-12-17T04:53:19.890151Z"
    }
   },
   "outputs": [
    {
     "name": "stdout",
     "output_type": "stream",
     "text": [
      "Unique Duplicates: 55951\n",
      "Total Duplicates: 91075\n",
      "Total Data: 232725\n",
      "Duplicates %: 39.13\n"
     ]
    }
   ],
   "source": [
    "print(f'''Unique Duplicates: {duplicated.shape[0]}\n",
    "Total Duplicates: {duplicated_all.shape[0]}\n",
    "Total Data: {data.shape[0]}\n",
    "Duplicates %: {round(duplicated_all.shape[0]/data.shape[0]*100, 2)}''')"
   ]
  },
  {
   "cell_type": "markdown",
   "metadata": {},
   "source": [
    "How bad is our model perform on this type of dataset that contains total 39% of duplicates? Let's see it later. For now, let's just use the data as it is. "
   ]
  },
  {
   "cell_type": "markdown",
   "metadata": {},
   "source": [
    "# Class Balance\n",
    "\n"
   ]
  },
  {
   "cell_type": "code",
   "execution_count": 90,
   "metadata": {
    "ExecuteTime": {
     "end_time": "2019-12-17T07:11:38.560304Z",
     "start_time": "2019-12-17T07:11:38.087636Z"
    },
    "cell_style": "split"
   },
   "outputs": [
    {
     "data": {
      "text/plain": [
       "Comedy              0.041598\n",
       "Soundtrack          0.041448\n",
       "Indie               0.041005\n",
       "Jazz                0.040567\n",
       "Pop                 0.040331\n",
       "Electronic          0.040292\n",
       "Children’s Music    0.040189\n",
       "Folk                0.039957\n",
       "Hip-Hop             0.039940\n",
       "Rock                0.039841\n",
       "Alternative         0.039802\n",
       "Classical           0.039772\n",
       "Rap                 0.039669\n",
       "World               0.039085\n",
       "Soul                0.039055\n",
       "Blues               0.038771\n",
       "R&B                 0.038638\n",
       "Anime               0.038397\n",
       "Reggaeton           0.038359\n",
       "Ska                 0.038131\n",
       "Reggae              0.037688\n",
       "Dance               0.037387\n",
       "Country             0.037228\n",
       "Opera               0.035578\n",
       "Movie               0.033542\n",
       "Children's Music    0.023216\n",
       "A Capella           0.000511\n",
       "Name: genre, dtype: float64"
      ]
     },
     "execution_count": 90,
     "metadata": {},
     "output_type": "execute_result"
    }
   ],
   "source": [
    "data['genre'].value_counts()/len(data)"
   ]
  },
  {
   "cell_type": "code",
   "execution_count": 98,
   "metadata": {
    "ExecuteTime": {
     "end_time": "2019-12-17T07:33:48.849788Z",
     "start_time": "2019-12-17T07:33:48.555945Z"
    },
    "cell_style": "split",
    "scrolled": true
   },
   "outputs": [
    {
     "data": {
      "text/plain": [
       "<matplotlib.axes._subplots.AxesSubplot at 0x284e508d630>"
      ]
     },
     "execution_count": 98,
     "metadata": {},
     "output_type": "execute_result"
    },
    {
     "data": {
      "image/png": "[encoded data removed]",
      "text/plain": [
       "<Figure size 432x288 with 1 Axes>"
      ]
     },
     "metadata": {
      "needs_background": "light"
     },
     "output_type": "display_data"
    }
   ],
   "source": [
    "sns.countplot(y=\"genre\", data=data, color='green')"
   ]
  },
  {
   "cell_type": "markdown",
   "metadata": {},
   "source": [
    "<span style=\"background-color:lightgreen\">Update 6: Class Balance</span>\n",
    "\n",
    "Based on the class frequency, there's a huge different of value in `A Capella` Class. Other classes reach at least 2.3% of the data. But `A Capella` only reach 0.05% of the data. This is highly imbalance for `A Capella`. We will later see the effect of class-balancing on model's performance. "
   ]
  },
  {
   "cell_type": "markdown",
   "metadata": {
    "cell_style": "split"
   },
   "source": [
    "# Data Preparation"
   ]
  },
  {
   "cell_type": "markdown",
   "metadata": {},
   "source": [
    "## Cross Validation"
   ]
  },
  {
   "cell_type": "code",
   "execution_count": 16,
   "metadata": {
    "ExecuteTime": {
     "end_time": "2019-12-16T07:00:29.348486Z",
     "start_time": "2019-12-16T07:00:16.858065Z"
    }
   },
   "outputs": [],
   "source": [
    "from sklearn.model_selection import train_test_split\n",
    "import time"
   ]
  },
  {
   "cell_type": "code",
   "execution_count": 17,
   "metadata": {
    "ExecuteTime": {
     "end_time": "2019-12-16T07:00:29.643594Z",
     "start_time": "2019-12-16T07:00:29.387217Z"
    }
   },
   "outputs": [],
   "source": [
    "X = df.drop(columns=['genre'])\n",
    "y = df['genre']\n",
    "random_state = 11\n",
    "test_size = 0.2\n",
    "X_train, X_valid, y_train, y_valid = train_test_split(X, y, test_size=test_size, random_state=random_state)"
   ]
  },
  {
   "cell_type": "code",
   "execution_count": 18,
   "metadata": {
    "ExecuteTime": {
     "end_time": "2019-12-16T07:00:29.781576Z",
     "start_time": "2019-12-16T07:00:29.712408Z"
    },
    "cell_style": "split",
    "scrolled": false
   },
   "outputs": [
    {
     "data": {
      "text/plain": [
       "A Capella             94\n",
       "Alternative         7372\n",
       "Anime               7145\n",
       "Blues               7260\n",
       "Children's Music    4356\n",
       "Children’s Music    7530\n",
       "Classical           7373\n",
       "Comedy              7742\n",
       "Country             6982\n",
       "Dance               6938\n",
       "Electronic          7547\n",
       "Folk                7439\n",
       "Hip-Hop             7390\n",
       "Indie               7637\n",
       "Jazz                7495\n",
       "Movie               6263\n",
       "Opera               6663\n",
       "Pop                 7477\n",
       "R&B                 7232\n",
       "Rap                 7458\n",
       "Reggae              6986\n",
       "Reggaeton           7090\n",
       "Rock                7479\n",
       "Ska                 7053\n",
       "Soul                7318\n",
       "Soundtrack          7598\n",
       "World               7263\n",
       "Name: genre, dtype: int64"
      ]
     },
     "execution_count": 18,
     "metadata": {},
     "output_type": "execute_result"
    }
   ],
   "source": [
    "y_train.value_counts().sort_index()"
   ]
  },
  {
   "cell_type": "code",
   "execution_count": 19,
   "metadata": {
    "ExecuteTime": {
     "end_time": "2019-12-16T07:00:29.878339Z",
     "start_time": "2019-12-16T07:00:29.866335Z"
    },
    "cell_style": "split"
   },
   "outputs": [
    {
     "data": {
      "text/plain": [
       "A Capella             25\n",
       "Alternative         1891\n",
       "Anime               1791\n",
       "Blues               1763\n",
       "Children's Music    1047\n",
       "Children’s Music    1823\n",
       "Classical           1883\n",
       "Comedy              1939\n",
       "Country             1682\n",
       "Dance               1763\n",
       "Electronic          1830\n",
       "Folk                1860\n",
       "Hip-Hop             1905\n",
       "Indie               1906\n",
       "Jazz                1946\n",
       "Movie               1543\n",
       "Opera               1617\n",
       "Pop                 1909\n",
       "R&B                 1760\n",
       "Rap                 1774\n",
       "Reggae              1785\n",
       "Reggaeton           1837\n",
       "Rock                1793\n",
       "Ska                 1821\n",
       "Soul                1771\n",
       "Soundtrack          2048\n",
       "World               1833\n",
       "Name: genre, dtype: int64"
      ]
     },
     "execution_count": 19,
     "metadata": {},
     "output_type": "execute_result"
    }
   ],
   "source": [
    "y_valid.value_counts().sort_index()"
   ]
  },
  {
   "cell_type": "markdown",
   "metadata": {},
   "source": [
    "# Modelling and Training"
   ]
  },
  {
   "cell_type": "markdown",
   "metadata": {},
   "source": [
    "In this case, let's use LogisticRegression. Even it's not best suited with multi class problem, let's just try how it works."
   ]
  },
  {
   "cell_type": "code",
   "execution_count": 20,
   "metadata": {
    "ExecuteTime": {
     "end_time": "2019-12-16T07:00:33.138471Z",
     "start_time": "2019-12-16T07:00:32.177010Z"
    }
   },
   "outputs": [],
   "source": [
    "from sklearn.linear_model import LogisticRegression"
   ]
  },
  {
   "cell_type": "code",
   "execution_count": 21,
   "metadata": {
    "ExecuteTime": {
     "end_time": "2019-12-16T07:00:33.214756Z",
     "start_time": "2019-12-16T07:00:33.209752Z"
    }
   },
   "outputs": [],
   "source": [
    "model = LogisticRegression(multi_class = 'multinomial', solver='lbfgs', max_iter=200)"
   ]
  },
  {
   "cell_type": "markdown",
   "metadata": {},
   "source": [
    "With the `multi_class = 'multinomial'` means in multiclass case (like our data), the loss is measured using cross entropy. The`solver='lbfgs'` are merekly optimizer, like `gradient_descent`. For further information, don't hesitate to go to [Sklearn's Page](https://scikit-learn.org/stable/modules/generated/sklearn.linear_model.LogisticRegression.html)"
   ]
  },
  {
   "cell_type": "markdown",
   "metadata": {},
   "source": [
    "# Evaluation"
   ]
  },
  {
   "cell_type": "code",
   "execution_count": 22,
   "metadata": {
    "ExecuteTime": {
     "end_time": "2019-12-16T07:00:51.017143Z",
     "start_time": "2019-12-16T07:00:35.490845Z"
    }
   },
   "outputs": [
    {
     "data": {
      "text/plain": [
       "LogisticRegression(C=1.0, class_weight=None, dual=False, fit_intercept=True,\n",
       "                   intercept_scaling=1, l1_ratio=None, max_iter=200,\n",
       "                   multi_class='multinomial', n_jobs=None, penalty='l2',\n",
       "                   random_state=None, solver='lbfgs', tol=0.0001, verbose=0,\n",
       "                   warm_start=False)"
      ]
     },
     "execution_count": 22,
     "metadata": {},
     "output_type": "execute_result"
    }
   ],
   "source": [
    "model.fit(X_train, y_train)"
   ]
  },
  {
   "cell_type": "code",
   "execution_count": 23,
   "metadata": {
    "ExecuteTime": {
     "end_time": "2019-12-16T07:00:51.149788Z",
     "start_time": "2019-12-16T07:00:51.098925Z"
    }
   },
   "outputs": [],
   "source": [
    "y_pred = model.predict(X_valid)"
   ]
  },
  {
   "cell_type": "code",
   "execution_count": 24,
   "metadata": {
    "ExecuteTime": {
     "end_time": "2019-12-16T07:00:52.641277Z",
     "start_time": "2019-12-16T07:00:51.231570Z"
    }
   },
   "outputs": [
    {
     "name": "stderr",
     "output_type": "stream",
     "text": [
      "C:\\Users\\dzul\\Anaconda3\\lib\\site-packages\\sklearn\\metrics\\classification.py:1437: UndefinedMetricWarning: Precision and F-score are ill-defined and being set to 0.0 in labels with no predicted samples.\n",
      "  'precision', 'predicted', average, warn_for)\n"
     ]
    },
    {
     "name": "stdout",
     "output_type": "stream",
     "text": [
      "                  precision    recall  f1-score   support\n",
      "\n",
      "       A Capella       0.00      0.00      0.00        25\n",
      "     Alternative       0.00      0.00      0.00      1891\n",
      "           Anime       0.11      0.24      0.15      1791\n",
      "           Blues       0.00      0.00      0.00      1763\n",
      "Children's Music       0.00      0.00      0.00      1047\n",
      "Children’s Music       0.04      0.02      0.02      1823\n",
      "       Classical       0.29      0.17      0.22      1883\n",
      "          Comedy       0.12      0.01      0.03      1939\n",
      "         Country       0.00      0.00      0.00      1682\n",
      "           Dance       0.00      0.00      0.00      1763\n",
      "      Electronic       0.07      0.27      0.12      1830\n",
      "            Folk       0.04      0.00      0.00      1860\n",
      "         Hip-Hop       0.00      0.00      0.00      1905\n",
      "           Indie       0.01      0.00      0.00      1906\n",
      "            Jazz       0.06      0.12      0.08      1946\n",
      "           Movie       0.19      0.01      0.01      1543\n",
      "           Opera       0.44      0.15      0.22      1617\n",
      "             Pop       0.13      0.67      0.21      1909\n",
      "             R&B       0.00      0.00      0.00      1760\n",
      "             Rap       0.02      0.00      0.00      1774\n",
      "          Reggae       0.00      0.00      0.00      1785\n",
      "       Reggaeton       0.00      0.00      0.00      1837\n",
      "            Rock       0.07      0.22      0.11      1793\n",
      "             Ska       0.11      0.50      0.18      1821\n",
      "            Soul       0.00      0.00      0.00      1771\n",
      "      Soundtrack       0.45      0.04      0.08      2048\n",
      "           World       0.13      0.33      0.18      1833\n",
      "\n",
      "        accuracy                           0.11     46545\n",
      "       macro avg       0.08      0.10      0.06     46545\n",
      "    weighted avg       0.09      0.11      0.06     46545\n",
      "\n"
     ]
    }
   ],
   "source": [
    "from sklearn.metrics import classification_report\n",
    "print(classification_report(y_valid, y_pred))"
   ]
  },
  {
   "cell_type": "markdown",
   "metadata": {},
   "source": [
    "It's amazing to see such a performance. Let's try other baseline "
   ]
  },
  {
   "cell_type": "code",
   "execution_count": 25,
   "metadata": {
    "ExecuteTime": {
     "end_time": "2019-12-16T07:01:18.829285Z",
     "start_time": "2019-12-16T07:00:52.714855Z"
    }
   },
   "outputs": [
    {
     "data": {
      "text/plain": [
       "RandomForestClassifier(bootstrap=True, class_weight=None, criterion='gini',\n",
       "                       max_depth=None, max_features='auto', max_leaf_nodes=None,\n",
       "                       min_impurity_decrease=0.0, min_impurity_split=None,\n",
       "                       min_samples_leaf=1, min_samples_split=2,\n",
       "                       min_weight_fraction_leaf=0.0, n_estimators=30,\n",
       "                       n_jobs=None, oob_score=False, random_state=42, verbose=0,\n",
       "                       warm_start=False)"
      ]
     },
     "execution_count": 25,
     "metadata": {},
     "output_type": "execute_result"
    }
   ],
   "source": [
    "from sklearn.ensemble import RandomForestClassifier\n",
    "\n",
    "rfc = RandomForestClassifier(n_estimators=30, random_state=42)\n",
    "rfc.fit(X_train, y_train)"
   ]
  },
  {
   "cell_type": "code",
   "execution_count": 26,
   "metadata": {
    "ExecuteTime": {
     "end_time": "2019-12-16T07:01:20.036457Z",
     "start_time": "2019-12-16T07:01:18.923762Z"
    }
   },
   "outputs": [],
   "source": [
    "y_rfc = rfc.predict(X_valid)"
   ]
  },
  {
   "cell_type": "code",
   "execution_count": 27,
   "metadata": {
    "ExecuteTime": {
     "end_time": "2019-12-16T07:01:21.536473Z",
     "start_time": "2019-12-16T07:01:20.125220Z"
    }
   },
   "outputs": [
    {
     "name": "stdout",
     "output_type": "stream",
     "text": [
      "                  precision    recall  f1-score   support\n",
      "\n",
      "       A Capella       1.00      0.20      0.33        25\n",
      "     Alternative       0.15      0.12      0.13      1891\n",
      "           Anime       0.62      0.58      0.60      1791\n",
      "           Blues       0.36      0.38      0.37      1763\n",
      "Children's Music       0.74      0.76      0.75      1047\n",
      "Children’s Music       0.03      0.04      0.03      1823\n",
      "       Classical       0.60      0.59      0.60      1883\n",
      "          Comedy       0.97      0.95      0.96      1939\n",
      "         Country       0.34      0.39      0.36      1682\n",
      "           Dance       0.11      0.10      0.11      1763\n",
      "      Electronic       0.50      0.53      0.51      1830\n",
      "            Folk       0.18      0.20      0.19      1860\n",
      "         Hip-Hop       0.12      0.13      0.13      1905\n",
      "           Indie       0.04      0.04      0.04      1906\n",
      "            Jazz       0.34      0.31      0.33      1946\n",
      "           Movie       0.58      0.53      0.55      1543\n",
      "           Opera       0.75      0.84      0.79      1617\n",
      "             Pop       0.10      0.11      0.11      1909\n",
      "             R&B       0.09      0.09      0.09      1760\n",
      "             Rap       0.05      0.05      0.05      1774\n",
      "          Reggae       0.41      0.36      0.39      1785\n",
      "       Reggaeton       0.54      0.57      0.56      1837\n",
      "            Rock       0.11      0.12      0.11      1793\n",
      "             Ska       0.59      0.54      0.56      1821\n",
      "            Soul       0.11      0.09      0.10      1771\n",
      "      Soundtrack       0.65      0.72      0.68      2048\n",
      "           World       0.49      0.39      0.44      1833\n",
      "\n",
      "        accuracy                           0.36     46545\n",
      "       macro avg       0.39      0.36      0.37     46545\n",
      "    weighted avg       0.36      0.36      0.36     46545\n",
      "\n"
     ]
    }
   ],
   "source": [
    "print(classification_report(y_valid, y_rfc))"
   ]
  },
  {
   "cell_type": "markdown",
   "metadata": {},
   "source": [
    "Now, it's clear that the data might need more complex model and data engineering. Well done, data.\n",
    "We will come back later. \n",
    "\n",
    "You might wondering of why is it such a disaster. Well, first of all, it's a multi-class problem. Don't compare with binomial problem. The second thing is, we did't do a deep feature selection/extraction. And the third, is what you should guest on the first time. Duplicates. The data contains duplicates. It's true that one track could be labeled as multiple genres. This same data on the different classes will confuse our classifier, and ruin our metric score unless we use **top5** approach. "
   ]
  },
  {
   "cell_type": "markdown",
   "metadata": {},
   "source": [
    "## Feature Importance\n",
    "<span style=\"background-color:lightgreen\">Update 1, 5: Feature Importace on DT</span>\n",
    "There's so many way to do a feature importance. In some models like `random forest`, they already have built-in feature importance measurement. In Logistic Regression case, we will try to use **Recusive Feature Eliminiation (RFE)**. "
   ]
  },
  {
   "cell_type": "code",
   "execution_count": 55,
   "metadata": {
    "ExecuteTime": {
     "end_time": "2019-12-16T10:25:05.379554Z",
     "start_time": "2019-12-16T10:15:26.170557Z"
    }
   },
   "outputs": [
    {
     "name": "stderr",
     "output_type": "stream",
     "text": [
      "C:\\Users\\dzul\\Anaconda3\\lib\\site-packages\\sklearn\\linear_model\\logistic.py:947: ConvergenceWarning: lbfgs failed to converge. Increase the number of iterations.\n",
      "  \"of iterations.\", ConvergenceWarning)\n",
      "C:\\Users\\dzul\\Anaconda3\\lib\\site-packages\\sklearn\\linear_model\\logistic.py:947: ConvergenceWarning: lbfgs failed to converge. Increase the number of iterations.\n",
      "  \"of iterations.\", ConvergenceWarning)\n",
      "C:\\Users\\dzul\\Anaconda3\\lib\\site-packages\\sklearn\\linear_model\\logistic.py:947: ConvergenceWarning: lbfgs failed to converge. Increase the number of iterations.\n",
      "  \"of iterations.\", ConvergenceWarning)\n",
      "C:\\Users\\dzul\\Anaconda3\\lib\\site-packages\\sklearn\\linear_model\\logistic.py:947: ConvergenceWarning: lbfgs failed to converge. Increase the number of iterations.\n",
      "  \"of iterations.\", ConvergenceWarning)\n",
      "C:\\Users\\dzul\\Anaconda3\\lib\\site-packages\\sklearn\\linear_model\\logistic.py:947: ConvergenceWarning: lbfgs failed to converge. Increase the number of iterations.\n",
      "  \"of iterations.\", ConvergenceWarning)\n",
      "C:\\Users\\dzul\\Anaconda3\\lib\\site-packages\\sklearn\\linear_model\\logistic.py:947: ConvergenceWarning: lbfgs failed to converge. Increase the number of iterations.\n",
      "  \"of iterations.\", ConvergenceWarning)\n",
      "C:\\Users\\dzul\\Anaconda3\\lib\\site-packages\\sklearn\\linear_model\\logistic.py:947: ConvergenceWarning: lbfgs failed to converge. Increase the number of iterations.\n",
      "  \"of iterations.\", ConvergenceWarning)\n",
      "C:\\Users\\dzul\\Anaconda3\\lib\\site-packages\\sklearn\\linear_model\\logistic.py:947: ConvergenceWarning: lbfgs failed to converge. Increase the number of iterations.\n",
      "  \"of iterations.\", ConvergenceWarning)\n",
      "C:\\Users\\dzul\\Anaconda3\\lib\\site-packages\\sklearn\\linear_model\\logistic.py:947: ConvergenceWarning: lbfgs failed to converge. Increase the number of iterations.\n",
      "  \"of iterations.\", ConvergenceWarning)\n",
      "C:\\Users\\dzul\\Anaconda3\\lib\\site-packages\\sklearn\\linear_model\\logistic.py:947: ConvergenceWarning: lbfgs failed to converge. Increase the number of iterations.\n",
      "  \"of iterations.\", ConvergenceWarning)\n"
     ]
    },
    {
     "data": {
      "text/plain": [
       "RFE(estimator=LogisticRegression(C=1.0, class_weight=None, dual=False,\n",
       "                                 fit_intercept=True, intercept_scaling=1,\n",
       "                                 l1_ratio=None, max_iter=200,\n",
       "                                 multi_class='multinomial', n_jobs=None,\n",
       "                                 penalty='l2', random_state=None,\n",
       "                                 solver='lbfgs', tol=0.0001, verbose=0,\n",
       "                                 warm_start=False),\n",
       "    n_features_to_select=1, step=1, verbose=0)"
      ]
     },
     "execution_count": 55,
     "metadata": {},
     "output_type": "execute_result"
    }
   ],
   "source": [
    "from sklearn.feature_selection import RFE\n",
    "selector = RFE(model, n_features_to_select=1)\n",
    "selector.fit(X_train, y_train)"
   ]
  },
  {
   "cell_type": "code",
   "execution_count": 56,
   "metadata": {
    "ExecuteTime": {
     "end_time": "2019-12-16T10:25:05.495246Z",
     "start_time": "2019-12-16T10:25:05.490257Z"
    }
   },
   "outputs": [
    {
     "name": "stdout",
     "output_type": "stream",
     "text": [
      "Model's Feature Importance\n",
      "#1: loudness \n",
      "#2: danceability \n",
      "#3: acousticness \n",
      "#4: valence \n",
      "#5: energy \n",
      "#6: duration_ms \n",
      "#7: tempo \n",
      "#8: key \n",
      "#9: speechiness \n",
      "#10: mode \n",
      "#11: popularity \n",
      "#12: time_signature \n",
      "#13: liveness \n",
      "#14: instrumentalness \n"
     ]
    }
   ],
   "source": [
    "print(f\"Model's Feature Importance\")\n",
    "for i in range(len(selector.ranking_)):\n",
    "    print(f\"#{i+1}: {X.columns[selector.ranking_[i]-1]} \")"
   ]
  },
  {
   "cell_type": "markdown",
   "metadata": {},
   "source": [
    "From feature importance using sklearn's RFE above, we can say that <span style=\"background-color:lightgreen\">duration have greater impact to model's performance</span> compared to most of the feature like `key`, `speechiness`, `mode`, etc "
   ]
  },
  {
   "cell_type": "markdown",
   "metadata": {},
   "source": [
    "# Model Improvement"
   ]
  },
  {
   "cell_type": "markdown",
   "metadata": {},
   "source": [
    "## Class Rebalancing "
   ]
  },
  {
   "cell_type": "code",
   "execution_count": 236,
   "metadata": {
    "ExecuteTime": {
     "end_time": "2019-12-17T08:32:08.909161Z",
     "start_time": "2019-12-17T08:32:08.902182Z"
    }
   },
   "outputs": [],
   "source": [
    "def rebalance(data):\n",
    "    from tqdm import tqdm\n",
    "    # remove `a capella class`\n",
    "    data = data[data['genre'] != 'A Capella']\n",
    "    # set maximum occurence of data\n",
    "    max_val = 5400 \n",
    "    # create new dataframe \n",
    "    _data = pd.DataFrame(columns=data.columns)\n",
    "    \n",
    "    # iteratively add sample of songs based on genre \n",
    "    for genre in tqdm(data['genre'].unique()):\n",
    "        _data = _data.append(data[data['genre'] == genre].sample(n=max_val, random_state=1), ignore_index=True, sort=False)  \n",
    "    return _data"
   ]
  },
  {
   "cell_type": "code",
   "execution_count": 267,
   "metadata": {
    "ExecuteTime": {
     "end_time": "2019-12-17T09:15:29.149723Z",
     "start_time": "2019-12-17T09:15:26.943475Z"
    }
   },
   "outputs": [
    {
     "name": "stderr",
     "output_type": "stream",
     "text": [
      "100%|██████████████████████████████████████████████████████████████████████████████████| 26/26 [00:01<00:00, 14.70it/s]\n"
     ]
    }
   ],
   "source": [
    "balanced_df = rebalance(data).drop(columns=unused_col).reset_index(drop=True)\n",
    "balanced_df['duration_ms'] = balanced_df['duration_ms'].astype(int)\n",
    "balanced_df['time_signature'] = balanced_df['time_signature'].apply(lambda x : int(x[0]))\n",
    "balanced_df['mode'].replace(mode_dict, inplace=True)\n",
    "balanced_df['key'] = balanced_df['key'].replace(key_dict).astype(int)\n",
    "balanced_df['popularity'] = balanced_df['popularity'].astype(int)\n",
    "X_train, X_valid, y_train, y_valid = train_test_split(balanced_df.drop(columns='genre'),balanced_df['genre'], test_size=0.2, random_state=1)"
   ]
  },
  {
   "cell_type": "code",
   "execution_count": 268,
   "metadata": {
    "ExecuteTime": {
     "end_time": "2019-12-17T09:15:52.692127Z",
     "start_time": "2019-12-17T09:15:30.742760Z"
    }
   },
   "outputs": [],
   "source": [
    "lrm_rebalance = LogisticRegression(multi_class = 'multinomial', solver='lbfgs', max_iter=200).fit(X_train, y_train)"
   ]
  },
  {
   "cell_type": "code",
   "execution_count": 269,
   "metadata": {
    "ExecuteTime": {
     "end_time": "2019-12-17T09:15:53.660575Z",
     "start_time": "2019-12-17T09:15:52.807870Z"
    }
   },
   "outputs": [
    {
     "name": "stderr",
     "output_type": "stream",
     "text": [
      "C:\\Users\\dzul\\Anaconda3\\lib\\site-packages\\sklearn\\metrics\\classification.py:1437: UndefinedMetricWarning: Precision and F-score are ill-defined and being set to 0.0 in labels with no predicted samples.\n",
      "  'precision', 'predicted', average, warn_for)\n"
     ]
    },
    {
     "name": "stdout",
     "output_type": "stream",
     "text": [
      "                  precision    recall  f1-score   support\n",
      "\n",
      "     Alternative       0.08      0.05      0.07      1113\n",
      "           Anime       0.28      0.29      0.29      1091\n",
      "           Blues       0.07      0.00      0.00      1043\n",
      "Children's Music       0.45      0.61      0.52      1070\n",
      "Children’s Music       0.11      0.05      0.07      1102\n",
      "       Classical       0.30      0.38      0.33      1095\n",
      "          Comedy       0.17      0.07      0.10      1029\n",
      "         Country       0.09      0.19      0.12      1081\n",
      "           Dance       0.19      0.04      0.07      1074\n",
      "      Electronic       0.14      0.11      0.13      1060\n",
      "            Folk       0.13      0.09      0.11      1090\n",
      "         Hip-Hop       0.08      0.07      0.08      1042\n",
      "           Indie       0.15      0.03      0.06      1094\n",
      "            Jazz       0.16      0.17      0.16      1140\n",
      "           Movie       0.36      0.16      0.23      1135\n",
      "           Opera       0.41      0.62      0.49      1114\n",
      "             Pop       0.18      0.55      0.28      1073\n",
      "             R&B       0.12      0.00      0.01      1090\n",
      "             Rap       0.07      0.05      0.06      1097\n",
      "          Reggae       0.00      0.00      0.00      1047\n",
      "       Reggaeton       0.09      0.04      0.06      1122\n",
      "            Rock       0.09      0.22      0.12      1032\n",
      "             Ska       0.17      0.37      0.23      1023\n",
      "            Soul       0.09      0.08      0.09      1053\n",
      "      Soundtrack       0.27      0.50      0.35      1103\n",
      "           World       0.17      0.21      0.19      1067\n",
      "\n",
      "        accuracy                           0.19     28080\n",
      "       macro avg       0.17      0.19      0.16     28080\n",
      "    weighted avg       0.17      0.19      0.16     28080\n",
      "\n"
     ]
    }
   ],
   "source": [
    "print(classification_report(y_valid, lrm_rebalance.predict(X_valid)))"
   ]
  },
  {
   "cell_type": "markdown",
   "metadata": {},
   "source": [
    "This is not proper to say (since it's not apple-to-apple), but as you can see, training the data over a balanced data could gives better performance. "
   ]
  },
  {
   "cell_type": "markdown",
   "metadata": {},
   "source": [
    "## Removing highly correlated Feature"
   ]
  },
  {
   "cell_type": "code",
   "execution_count": 272,
   "metadata": {
    "ExecuteTime": {
     "end_time": "2019-12-17T09:15:57.462459Z",
     "start_time": "2019-12-17T09:15:57.458470Z"
    }
   },
   "outputs": [],
   "source": [
    "from script import visualization as sv "
   ]
  },
  {
   "cell_type": "code",
   "execution_count": 273,
   "metadata": {
    "ExecuteTime": {
     "end_time": "2019-12-17T09:15:58.372061Z",
     "start_time": "2019-12-17T09:15:57.646968Z"
    }
   },
   "outputs": [
    {
     "data": {
      "image/png": "[encoded data removed]",
      "text/plain": [
       "<Figure size 792x1080 with 2 Axes>"
      ]
     },
     "metadata": {
      "needs_background": "light"
     },
     "output_type": "display_data"
    }
   ],
   "source": [
    "sv.corr_heatmap(balanced_df)"
   ]
  },
  {
   "cell_type": "code",
   "execution_count": 311,
   "metadata": {
    "ExecuteTime": {
     "end_time": "2019-12-17T09:49:52.318712Z",
     "start_time": "2019-12-17T09:49:51.689395Z"
    }
   },
   "outputs": [
    {
     "data": {
      "image/png": "[encoded data removed]",
      "text/plain": [
       "<Figure size 792x1080 with 2 Axes>"
      ]
     },
     "metadata": {
      "needs_background": "light"
     },
     "output_type": "display_data"
    }
   ],
   "source": [
    "# sv.corr_heatmap(balanced_df.drop(columns=['energy']))\n",
    "sv.corr_heatmap(balanced_df.drop(columns=['energy', 'loudness']))"
   ]
  },
  {
   "cell_type": "code",
   "execution_count": 313,
   "metadata": {
    "ExecuteTime": {
     "end_time": "2019-12-17T09:50:28.421515Z",
     "start_time": "2019-12-17T09:50:07.929347Z"
    }
   },
   "outputs": [],
   "source": [
    "X_train, X_valid, y_train, y_valid = train_test_split(balanced_df.drop(columns=['genre', 'energy', 'loudness']),balanced_df['genre'], test_size=0.2, random_state=1)\n",
    "lrm_cor = LogisticRegression(multi_class = 'multinomial', solver='lbfgs', max_iter=200).fit(X_train, y_train)"
   ]
  },
  {
   "cell_type": "code",
   "execution_count": 314,
   "metadata": {
    "ExecuteTime": {
     "end_time": "2019-12-17T09:50:29.464761Z",
     "start_time": "2019-12-17T09:50:28.544188Z"
    }
   },
   "outputs": [
    {
     "name": "stderr",
     "output_type": "stream",
     "text": [
      "C:\\Users\\dzul\\Anaconda3\\lib\\site-packages\\sklearn\\metrics\\classification.py:1437: UndefinedMetricWarning: Precision and F-score are ill-defined and being set to 0.0 in labels with no predicted samples.\n",
      "  'precision', 'predicted', average, warn_for)\n"
     ]
    },
    {
     "name": "stdout",
     "output_type": "stream",
     "text": [
      "                  precision    recall  f1-score   support\n",
      "\n",
      "     Alternative       0.06      0.03      0.04      1113\n",
      "           Anime       0.17      0.08      0.11      1091\n",
      "           Blues       0.00      0.00      0.00      1043\n",
      "Children's Music       0.38      0.66      0.48      1070\n",
      "Children’s Music       0.08      0.03      0.04      1102\n",
      "       Classical       0.27      0.14      0.18      1095\n",
      "          Comedy       0.17      0.05      0.08      1029\n",
      "         Country       0.08      0.21      0.12      1081\n",
      "           Dance       0.12      0.01      0.02      1074\n",
      "      Electronic       0.00      0.00      0.00      1060\n",
      "            Folk       0.09      0.06      0.07      1090\n",
      "         Hip-Hop       0.07      0.08      0.07      1042\n",
      "           Indie       0.10      0.01      0.03      1094\n",
      "            Jazz       0.14      0.18      0.16      1140\n",
      "           Movie       0.34      0.20      0.25      1135\n",
      "           Opera       0.28      0.48      0.36      1114\n",
      "             Pop       0.17      0.60      0.27      1073\n",
      "             R&B       0.04      0.00      0.00      1090\n",
      "             Rap       0.06      0.04      0.05      1097\n",
      "          Reggae       0.00      0.00      0.00      1047\n",
      "       Reggaeton       0.06      0.02      0.03      1122\n",
      "            Rock       0.09      0.23      0.12      1032\n",
      "             Ska       0.12      0.33      0.17      1023\n",
      "            Soul       0.10      0.10      0.10      1053\n",
      "      Soundtrack       0.06      0.01      0.01      1103\n",
      "           World       0.13      0.37      0.19      1067\n",
      "\n",
      "        accuracy                           0.15     28080\n",
      "       macro avg       0.12      0.15      0.11     28080\n",
      "    weighted avg       0.12      0.15      0.11     28080\n",
      "\n"
     ]
    }
   ],
   "source": [
    "print(classification_report(y_valid, lrm_cor.predict(X_valid)))"
   ]
  },
  {
   "cell_type": "markdown",
   "metadata": {},
   "source": [
    "This conclude that removing highly correlated feature are good for cost-saving. But somehow, it may be considered important by the model and can cause a differ in model's performance."
   ]
  },
  {
   "cell_type": "markdown",
   "metadata": {},
   "source": [
    "## Removing Unimportant Feature"
   ]
  },
  {
   "cell_type": "markdown",
   "metadata": {},
   "source": [
    "We have previously calculate Model's Feature Importance (Descending):\n",
    "1. loudness \n",
    "2. danceability \n",
    "3. acousticness \n",
    "4. valence \n",
    "5. energy \n",
    "6. duration_ms \n",
    "7. tempo \n",
    "8. key \n",
    "9. speechiness \n",
    "10. mode \n",
    "11. popularity \n",
    "12. time_signature \n",
    "13. liveness \n",
    "14. instrumentalness \n",
    "\n",
    "Now let's try to drop 6"
   ]
  },
  {
   "cell_type": "code",
   "execution_count": 381,
   "metadata": {
    "ExecuteTime": {
     "end_time": "2019-12-17T12:01:49.863243Z",
     "start_time": "2019-12-17T12:01:19.942636Z"
    }
   },
   "outputs": [
    {
     "name": "stderr",
     "output_type": "stream",
     "text": [
      "C:\\Users\\dzul\\Anaconda3\\lib\\site-packages\\sklearn\\linear_model\\logistic.py:947: ConvergenceWarning: lbfgs failed to converge. Increase the number of iterations.\n",
      "  \"of iterations.\", ConvergenceWarning)\n"
     ]
    }
   ],
   "source": [
    "X_train, X_valid, y_train, y_valid = train_test_split(balanced_df.drop(columns=['genre', 'loudness', 'danceability', 'acousticness', 'valence', 'energy', 'duration_ms']),balanced_df['genre'], test_size=0.2, random_state=1)\n",
    "lrm_uf = LogisticRegression(multi_class = 'multinomial', solver='lbfgs', max_iter=200).fit(X_train, y_train)"
   ]
  },
  {
   "cell_type": "code",
   "execution_count": 382,
   "metadata": {
    "ExecuteTime": {
     "end_time": "2019-12-17T12:01:50.876583Z",
     "start_time": "2019-12-17T12:01:49.970974Z"
    }
   },
   "outputs": [
    {
     "name": "stdout",
     "output_type": "stream",
     "text": [
      "                  precision    recall  f1-score   support\n",
      "\n",
      "     Alternative       0.12      0.03      0.05      1113\n",
      "           Anime       0.23      0.17      0.19      1091\n",
      "           Blues       0.11      0.08      0.09      1043\n",
      "Children's Music       0.48      0.71      0.58      1070\n",
      "Children’s Music       0.06      0.01      0.01      1102\n",
      "       Classical       0.18      0.15      0.16      1095\n",
      "          Comedy       0.69      0.91      0.79      1029\n",
      "         Country       0.12      0.37      0.18      1081\n",
      "           Dance       0.09      0.06      0.07      1074\n",
      "      Electronic       0.15      0.08      0.10      1060\n",
      "            Folk       0.09      0.11      0.10      1090\n",
      "         Hip-Hop       0.12      0.12      0.12      1042\n",
      "           Indie       0.09      0.00      0.00      1094\n",
      "            Jazz       0.26      0.04      0.07      1140\n",
      "           Movie       0.19      0.08      0.12      1135\n",
      "           Opera       0.34      0.44      0.38      1114\n",
      "             Pop       0.25      0.50      0.33      1073\n",
      "             R&B       0.11      0.10      0.10      1090\n",
      "             Rap       0.16      0.13      0.14      1097\n",
      "          Reggae       0.16      0.20      0.18      1047\n",
      "       Reggaeton       0.12      0.15      0.13      1122\n",
      "            Rock       0.13      0.27      0.18      1032\n",
      "             Ska       0.16      0.23      0.19      1023\n",
      "            Soul       0.12      0.07      0.09      1053\n",
      "      Soundtrack       0.31      0.61      0.41      1103\n",
      "           World       0.06      0.02      0.03      1067\n",
      "\n",
      "        accuracy                           0.21     28080\n",
      "       macro avg       0.19      0.22      0.18     28080\n",
      "    weighted avg       0.19      0.21      0.18     28080\n",
      "\n"
     ]
    }
   ],
   "source": [
    "print(classification_report(y_valid, lrm_uf.predict(X_valid)))"
   ]
  },
  {
   "cell_type": "code",
   "execution_count": 384,
   "metadata": {
    "ExecuteTime": {
     "end_time": "2019-12-17T12:03:35.119186Z",
     "start_time": "2019-12-17T12:03:24.827694Z"
    }
   },
   "outputs": [
    {
     "name": "stdout",
     "output_type": "stream",
     "text": [
      "                  precision    recall  f1-score   support\n",
      "\n",
      "     Alternative       0.10      0.09      0.10      1113\n",
      "           Anime       0.31      0.28      0.29      1091\n",
      "           Blues       0.23      0.25      0.24      1043\n",
      "Children's Music       0.62      0.68      0.65      1070\n",
      "Children’s Music       0.03      0.03      0.03      1102\n",
      "       Classical       0.32      0.29      0.31      1095\n",
      "          Comedy       0.96      0.94      0.95      1029\n",
      "         Country       0.26      0.32      0.29      1081\n",
      "           Dance       0.09      0.09      0.09      1074\n",
      "      Electronic       0.30      0.35      0.32      1060\n",
      "            Folk       0.13      0.14      0.13      1090\n",
      "         Hip-Hop       0.14      0.17      0.15      1042\n",
      "           Indie       0.05      0.04      0.04      1094\n",
      "            Jazz       0.22      0.16      0.19      1140\n",
      "           Movie       0.45      0.29      0.35      1135\n",
      "           Opera       0.61      0.69      0.65      1114\n",
      "             Pop       0.14      0.17      0.16      1073\n",
      "             R&B       0.08      0.08      0.08      1090\n",
      "             Rap       0.11      0.12      0.12      1097\n",
      "          Reggae       0.24      0.21      0.22      1047\n",
      "       Reggaeton       0.35      0.31      0.33      1122\n",
      "            Rock       0.10      0.12      0.11      1032\n",
      "             Ska       0.27      0.30      0.28      1023\n",
      "            Soul       0.08      0.06      0.07      1053\n",
      "      Soundtrack       0.40      0.50      0.44      1103\n",
      "           World       0.26      0.19      0.22      1067\n",
      "\n",
      "        accuracy                           0.26     28080\n",
      "       macro avg       0.26      0.26      0.26     28080\n",
      "    weighted avg       0.26      0.26      0.26     28080\n",
      "\n"
     ]
    }
   ],
   "source": [
    "rfc = RandomForestClassifier(n_estimators=30, random_state=42)\n",
    "print(classification_report(y_valid, rfc.fit(X_train, y_train).predict(X_valid)))"
   ]
  },
  {
   "cell_type": "markdown",
   "metadata": {},
   "source": [
    "There is a big improvement in Logistic Regression's performance. The accuracy jumped from 11 to 21%. This is not big, but it's signifficant. Unlike random forest wich decreased by 6%. Why is it? This is because by default random forest could do a feature selection by itself. Removing the feature means decreasing it's ability as bootstrap aggregator which indirectily and collectively measure and weighting the features. "
   ]
  },
  {
   "cell_type": "markdown",
   "metadata": {},
   "source": [
    "## Altering the classification test measurement to top-5 prediciton approach"
   ]
  },
  {
   "cell_type": "markdown",
   "metadata": {},
   "source": [
    "Let's say, we have a prediction. A probability one. "
   ]
  },
  {
   "cell_type": "code",
   "execution_count": 386,
   "metadata": {
    "ExecuteTime": {
     "end_time": "2019-12-17T12:28:05.162802Z",
     "start_time": "2019-12-17T12:28:05.137959Z"
    }
   },
   "outputs": [
    {
     "data": {
      "text/plain": [
       "array([9.18817683e-02, 6.07094997e-03, 3.28983046e-02, 3.36333578e-05,\n",
       "       7.70898543e-02, 7.11419165e-03, 8.74033873e-04, 1.04782064e-01,\n",
       "       5.11436374e-02, 3.33734644e-02, 9.67833147e-02, 4.91941909e-02,\n",
       "       7.25233042e-02, 3.27260041e-02, 6.57877036e-04, 7.68050226e-04,\n",
       "       1.36225479e-02, 6.02119136e-02, 3.59362509e-02, 2.30204500e-02,\n",
       "       2.95746103e-02, 6.07292382e-02, 1.54503189e-02, 6.06940354e-02,\n",
       "       8.00041293e-03, 3.48455785e-02])"
      ]
     },
     "execution_count": 386,
     "metadata": {},
     "output_type": "execute_result"
    }
   ],
   "source": [
    "preds = lrm_uf.predict_proba(X_valid)\n",
    "preds[0]"
   ]
  },
  {
   "cell_type": "markdown",
   "metadata": {},
   "source": [
    "If we use normal prediction measurement, the prediction will be class '7', or in the real class name, it will be 'Country', and Considered True if the ground truth is 'Country', or False if the ground truth is not 'Country'. "
   ]
  },
  {
   "cell_type": "code",
   "execution_count": 387,
   "metadata": {
    "ExecuteTime": {
     "end_time": "2019-12-17T12:28:07.274222Z",
     "start_time": "2019-12-17T12:28:07.269220Z"
    }
   },
   "outputs": [
    {
     "data": {
      "text/plain": [
       "7"
      ]
     },
     "execution_count": 387,
     "metadata": {},
     "output_type": "execute_result"
    }
   ],
   "source": [
    "preds[0].argmax()"
   ]
  },
  {
   "cell_type": "code",
   "execution_count": 389,
   "metadata": {
    "ExecuteTime": {
     "end_time": "2019-12-17T12:28:13.405070Z",
     "start_time": "2019-12-17T12:28:13.399087Z"
    }
   },
   "outputs": [
    {
     "data": {
      "text/plain": [
       "'Country'"
      ]
     },
     "execution_count": 389,
     "metadata": {},
     "output_type": "execute_result"
    }
   ],
   "source": [
    "lrm_uf.classes_[preds[0].argmax()]"
   ]
  },
  {
   "cell_type": "code",
   "execution_count": 390,
   "metadata": {
    "ExecuteTime": {
     "end_time": "2019-12-17T12:28:14.826526Z",
     "start_time": "2019-12-17T12:28:14.785671Z"
    }
   },
   "outputs": [
    {
     "name": "stdout",
     "output_type": "stream",
     "text": [
      "Predicted Class\t: Country\n",
      "Ground Truth\t: Alternative\n",
      "Correctness\t: False\n",
      "\n"
     ]
    }
   ],
   "source": [
    "print(f\"\"\"Predicted Class\\t: {lrm_cor.classes_[preds[0].argmax()]}\n",
    "Ground Truth\\t: {y_valid.values[0]}\n",
    "Correctness\\t: {lrm_cor.classes_[preds[0].argmax()] == y_valid.values[0]}\n",
    "\"\"\")"
   ]
  },
  {
   "cell_type": "markdown",
   "metadata": {},
   "source": [
    "As you expected, in the dataset where there exist multiple data with different classes, using normal method for classifiation is not fair. By using top-n approach, we collect top-n probability. If, in those n classes exist a True Positive/ground truth class, the prediction is considered Correct. Normally, this measurement only valid for accuracy (just like what Imagenet demonstrated). See the example below"
   ]
  },
  {
   "cell_type": "code",
   "execution_count": 391,
   "metadata": {
    "ExecuteTime": {
     "end_time": "2019-12-17T12:28:15.897897Z",
     "start_time": "2019-12-17T12:28:15.891883Z"
    }
   },
   "outputs": [
    {
     "data": {
      "text/plain": [
       "array([ 7, 10,  0,  4, 12], dtype=int64)"
      ]
     },
     "execution_count": 391,
     "metadata": {},
     "output_type": "execute_result"
    }
   ],
   "source": [
    "preds[0].argsort()[::-1][:5]"
   ]
  },
  {
   "cell_type": "code",
   "execution_count": 392,
   "metadata": {
    "ExecuteTime": {
     "end_time": "2019-12-17T12:28:23.068726Z",
     "start_time": "2019-12-17T12:28:23.062744Z"
    }
   },
   "outputs": [
    {
     "data": {
      "text/plain": [
       "array(['Country', 'Folk', 'Alternative', 'Children’s Music', 'Indie'],\n",
       "      dtype=object)"
      ]
     },
     "execution_count": 392,
     "metadata": {},
     "output_type": "execute_result"
    }
   ],
   "source": [
    "lrm_uf.classes_[preds[0].argsort()[::-1][:5]]"
   ]
  },
  {
   "cell_type": "code",
   "execution_count": 393,
   "metadata": {
    "ExecuteTime": {
     "end_time": "2019-12-17T12:28:23.896043Z",
     "start_time": "2019-12-17T12:28:23.889737Z"
    }
   },
   "outputs": [
    {
     "name": "stdout",
     "output_type": "stream",
     "text": [
      "Predicted Class\t: ['Country' 'Folk' 'Alternative' 'Children’s Music' 'Indie']\n",
      "Ground Truth\t: Alternative\n",
      "Correctness\t: True\n",
      "\n"
     ]
    }
   ],
   "source": [
    "print(f\"\"\"Predicted Class\\t: {lrm_cor.classes_[preds[0].argsort()[::-1][:5]]}\n",
    "Ground Truth\\t: {y_valid.values[0]}\n",
    "Correctness\\t: {y_valid.values[0] in lrm_cor.classes_[preds[0].argsort()[::-1][:5]] }\n",
    "\"\"\")"
   ]
  },
  {
   "cell_type": "code",
   "execution_count": 401,
   "metadata": {
    "ExecuteTime": {
     "end_time": "2019-12-17T12:29:39.660064Z",
     "start_time": "2019-12-17T12:29:39.638124Z"
    }
   },
   "outputs": [],
   "source": [
    "preds_proba = lrm_uf.predict_proba(X_valid)"
   ]
  },
  {
   "cell_type": "code",
   "execution_count": 409,
   "metadata": {
    "ExecuteTime": {
     "end_time": "2019-12-17T12:33:24.504980Z",
     "start_time": "2019-12-17T12:33:24.457074Z"
    }
   },
   "outputs": [],
   "source": [
    "def top5score(preds, ground_truth, model):\n",
    "    if not len(preds) == len(ground_truth):\n",
    "        raise exception('Shape Mismatch')\n",
    "    \n",
    "    mdfd_pred = []\n",
    "    for i in range(len(preds)):\n",
    "        preds_classes = model.classes_[preds[i].argsort()[::-1][:5]]\n",
    "        if ground_truth[i] in preds_classes :\n",
    "            mdfd_pred.append(ground_truth[i])\n",
    "        else:\n",
    "            mdfd_pred.append(preds_classes[0])\n",
    "    return mdfd_pred"
   ]
  },
  {
   "cell_type": "code",
   "execution_count": 410,
   "metadata": {
    "ExecuteTime": {
     "end_time": "2019-12-17T12:33:25.158198Z",
     "start_time": "2019-12-17T12:33:25.151290Z"
    }
   },
   "outputs": [
    {
     "data": {
      "text/plain": [
       "array([9.18817683e-02, 6.07094997e-03, 3.28983046e-02, 3.36333578e-05,\n",
       "       7.70898543e-02, 7.11419165e-03, 8.74033873e-04, 1.04782064e-01,\n",
       "       5.11436374e-02, 3.33734644e-02, 9.67833147e-02, 4.91941909e-02,\n",
       "       7.25233042e-02, 3.27260041e-02, 6.57877036e-04, 7.68050226e-04,\n",
       "       1.36225479e-02, 6.02119136e-02, 3.59362509e-02, 2.30204500e-02,\n",
       "       2.95746103e-02, 6.07292382e-02, 1.54503189e-02, 6.06940354e-02,\n",
       "       8.00041293e-03, 3.48455785e-02])"
      ]
     },
     "execution_count": 410,
     "metadata": {},
     "output_type": "execute_result"
    }
   ],
   "source": [
    "preds_proba[0]"
   ]
  },
  {
   "cell_type": "code",
   "execution_count": 412,
   "metadata": {
    "ExecuteTime": {
     "end_time": "2019-12-17T12:33:36.242906Z",
     "start_time": "2019-12-17T12:33:35.971703Z"
    }
   },
   "outputs": [],
   "source": [
    "mdfd_pred = top5score(preds_proba, y_valid.values, lrm_uf)"
   ]
  },
  {
   "cell_type": "code",
   "execution_count": 415,
   "metadata": {
    "ExecuteTime": {
     "end_time": "2019-12-17T12:35:30.052416Z",
     "start_time": "2019-12-17T12:35:29.328383Z"
    }
   },
   "outputs": [
    {
     "name": "stdout",
     "output_type": "stream",
     "text": [
      "                  precision    recall  f1-score   support\n",
      "\n",
      "     Alternative       0.71      0.40      0.51      1113\n",
      "           Anime       0.79      0.72      0.75      1091\n",
      "           Blues       0.64      0.61      0.62      1043\n",
      "Children's Music       0.89      0.92      0.90      1070\n",
      "Children’s Music       0.87      0.49      0.62      1102\n",
      "       Classical       0.74      0.64      0.69      1095\n",
      "          Comedy       0.84      0.94      0.89      1029\n",
      "         Country       0.27      0.59      0.37      1081\n",
      "           Dance       0.64      0.61      0.62      1074\n",
      "      Electronic       0.69      0.53      0.60      1060\n",
      "            Folk       0.43      0.51      0.47      1090\n",
      "         Hip-Hop       0.61      0.68      0.64      1042\n",
      "           Indie       0.98      0.38      0.55      1094\n",
      "            Jazz       0.88      0.55      0.68      1140\n",
      "           Movie       0.94      0.79      0.86      1135\n",
      "           Opera       0.78      0.84      0.81      1114\n",
      "             Pop       0.51      0.76      0.61      1073\n",
      "             R&B       0.44      0.38      0.40      1090\n",
      "             Rap       0.71      0.70      0.70      1097\n",
      "          Reggae       0.56      0.64      0.60      1047\n",
      "       Reggaeton       0.47      0.47      0.47      1122\n",
      "            Rock       0.39      0.63      0.49      1032\n",
      "             Ska       0.59      0.69      0.63      1023\n",
      "            Soul       0.59      0.46      0.52      1053\n",
      "      Soundtrack       0.71      0.85      0.77      1103\n",
      "           World       0.80      0.57      0.67      1067\n",
      "\n",
      "        accuracy                           0.63     28080\n",
      "       macro avg       0.67      0.63      0.63     28080\n",
      "    weighted avg       0.67      0.63      0.63     28080\n",
      "\n"
     ]
    }
   ],
   "source": [
    "print(classification_report(y_valid,mdfd_pred ))"
   ]
  },
  {
   "cell_type": "markdown",
   "metadata": {},
   "source": [
    "After altering the classification measurement to top-5, the performance jumped greatly into 63%. Again, this is not a good performance. But against multiple classes, it's quite a good try. "
   ]
  },
  {
   "cell_type": "markdown",
   "metadata": {},
   "source": [
    "The original top-5 error was used in Imagenet Competition. [See the Paper](https://papers.nips.cc/paper/4824-imagenet-classification-with-deep-convolutional-neural-networks.pdf) if you're interested."
   ]
  },
  {
   "cell_type": "markdown",
   "metadata": {},
   "source": [
    "# Summary\n",
    "Rebalancing the data gives better performance. Removing highly correlated feature/variable may reducing the cost, but can also affect model's performance. Removing unimportant feature taken from the model. However, Random Forest has its own feuature selection and feature importance that just work better if we gives more feature. Altering the clasificatoin method into top-5 also can cure the model's performance"
   ]
  }
 ],
 "metadata": {
  "kernelspec": {
   "display_name": "Python 3",
   "language": "python",
   "name": "python3"
  },
  "language_info": {
   "codemirror_mode": {
    "name": "ipython",
    "version": 3
   },
   "file_extension": ".py",
   "mimetype": "text/x-python",
   "name": "python",
   "nbconvert_exporter": "python",
   "pygments_lexer": "ipython3",
   "version": "3.7.3"
  },
  "toc": {
   "base_numbering": 1,
   "nav_menu": {},
   "number_sections": true,
   "sideBar": true,
   "skip_h1_title": false,
   "title_cell": "Table of Contents",
   "title_sidebar": "Contents",
   "toc_cell": false,
   "toc_position": {
    "height": "calc(100% - 180px)",
    "left": "10px",
    "top": "150px",
    "width": "384px"
   },
   "toc_section_display": true,
   "toc_window_display": true
  },
  "varInspector": {
   "cols": {
    "lenName": 16,
    "lenType": 16,
    "lenVar": 40
   },
   "kernels_config": {
    "python": {
     "delete_cmd_postfix": "",
     "delete_cmd_prefix": "del ",
     "library": "var_list.py",
     "varRefreshCmd": "print(var_dic_list())"
    },
    "r": {
     "delete_cmd_postfix": ") ",
     "delete_cmd_prefix": "rm(",
     "library": "var_list.r",
     "varRefreshCmd": "cat(var_dic_list()) "
    }
   },
   "position": {
    "height": "338.85px",
    "left": "1550px",
    "right": "20px",
    "top": "120px",
    "width": "350px"
   },
   "types_to_exclude": [
    "module",
    "function",
    "builtin_function_or_method",
    "instance",
    "_Feature"
   ],
   "window_display": true
  }
 },
 "nbformat": 4,
 "nbformat_minor": 2
}
