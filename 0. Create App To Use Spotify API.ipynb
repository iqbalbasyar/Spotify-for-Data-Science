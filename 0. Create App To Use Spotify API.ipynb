{
 "cells": [
  {
   "cell_type": "markdown",
   "metadata": {},
   "source": [
    "# Setup Your App Trough [Spotify fo Developer](https://developer.spotify.com/dashboard/applications/)\n",
    "\n",
    "In short, you will need these from your app for the next chapter : \n",
    "- `client id`\n",
    "- `client secret`\n",
    "- `redirect uri`\n",
    "\n"
   ]
  },
  {
   "cell_type": "markdown",
   "metadata": {},
   "source": [
    "## 1. Initiate Your App\n",
    "In order to use Spotify's API, you need to create an app first (Spotify account is needed). Go to https://developer.spotify.com/dashboard/applications/ and create your app by clicking **\"CREATE AN APP\"** OR **\"CREATE A CLIENT ID\"** "
   ]
  },
  {
   "cell_type": "markdown",
   "metadata": {},
   "source": [
    "![img](res/setup_app/1.CreateApp.PNG)"
   ]
  },
  {
   "cell_type": "markdown",
   "metadata": {},
   "source": [
    "## 2 Fill Your App's Description"
   ]
  },
  {
   "cell_type": "markdown",
   "metadata": {},
   "source": [
    "First you need a : \n",
    "- Name\n",
    "- Description\n",
    "- Platform \n",
    "\n",
    "For your apps"
   ]
  },
  {
   "cell_type": "markdown",
   "metadata": {},
   "source": [
    "![img](res/setup_app/2.Fill_information-1.PNG)"
   ]
  },
  {
   "cell_type": "markdown",
   "metadata": {},
   "source": [
    "Then a checkbox wether you're building a commercial apps or not. For learning purpose, I suggest that you choose a non commercial app."
   ]
  },
  {
   "cell_type": "markdown",
   "metadata": {},
   "source": [
    "![img](res/setup_app/3.Fill_information-2.PNG)\n"
   ]
  },
  {
   "cell_type": "markdown",
   "metadata": {},
   "source": [
    "And finally, a confirmation"
   ]
  },
  {
   "cell_type": "markdown",
   "metadata": {},
   "source": [
    "![img](res/setup_app/4.Fill_information-3-1.PNG)"
   ]
  },
  {
   "cell_type": "markdown",
   "metadata": {},
   "source": [
    "## 3 Set your redirect URI\n",
    "Go to you [apps dashboard](https://developer.spotify.com/dashboard/applications/) , then click **\"EDIT SETTINGS\"**\n",
    "![img](res/setup_app/4.edit_setting.PNG)\n",
    "And fill your your app's web and redirect URI. The two are necessary. For simplicity, just fill it with https://google.com/ or any site you want\n",
    "![img](res/setup_app/5.Edit_settings.PNG)\n",
    "\n",
    "\n",
    "Click submit and go back to your [apps dashboard], copy the `Client ID` and `Client Secret`"
   ]
  },
  {
   "cell_type": "markdown",
   "metadata": {},
   "source": [
    "# Voila !"
   ]
  },
  {
   "cell_type": "markdown",
   "metadata": {},
   "source": [
    "Now, that you're already have your app's informations `Client ID` and `Client Secret`, and `Redirect URI`, Let's proceed to the next chapter"
   ]
  }
 ],
 "metadata": {
  "kernelspec": {
   "display_name": "Python 3",
   "language": "python",
   "name": "python3"
  },
  "language_info": {
   "codemirror_mode": {
    "name": "ipython",
    "version": 3
   },
   "file_extension": ".py",
   "mimetype": "text/x-python",
   "name": "python",
   "nbconvert_exporter": "python",
   "pygments_lexer": "ipython3",
   "version": "3.7.3"
  }
 },
 "nbformat": 4,
 "nbformat_minor": 2
}
