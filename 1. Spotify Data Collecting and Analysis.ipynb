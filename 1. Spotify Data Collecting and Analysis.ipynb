{
 "cells": [
  {
   "cell_type": "markdown",
   "metadata": {},
   "source": [
    "# Intro\n",
    "In this notebook we will try to collect some data using spotify API and do a little analysis and usecase we can do from the collected data. "
   ]
  },
  {
   "cell_type": "markdown",
   "metadata": {},
   "source": [
    "# Collect Spotify Data Using Its API"
   ]
  },
  {
   "cell_type": "code",
   "execution_count": 1,
   "metadata": {},
   "outputs": [
    {
     "data": {
      "text/html": [
       "        <script type=\"text/javascript\">\n",
       "        window.PlotlyConfig = {MathJaxConfig: 'local'};\n",
       "        if (window.MathJax) {MathJax.Hub.Config({SVG: {font: \"STIX-Web\"}});}\n",
       "        if (typeof require !== 'undefined') {\n",
       "        require.undef(\"plotly\");\n",
       "        requirejs.config({\n",
       "            paths: {\n",
       "                'plotly': ['https://cdn.plot.ly/plotly-latest.min']\n",
       "            }\n",
       "        });\n",
       "        require(['plotly'], function(Plotly) {\n",
       "            window._Plotly = Plotly;\n",
       "        });\n",
       "        }\n",
       "        </script>\n",
       "        "
      ]
     },
     "metadata": {},
     "output_type": "display_data"
    }
   ],
   "source": [
    "import os\n",
    "import sys\n",
    "import json\n",
    "import numpy as np\n",
    "import pandas as pd\n",
    "import spotipy\n",
    "import spotipy.util as util\n",
    "import webbrowser\n",
    "\n",
    "from json.decoder import JSONDecodeError\n",
    "from spotipy.oauth2 import SpotifyClientCredentials\n",
    "from tqdm import tqdm\n",
    "\n",
    "import matplotlib.pyplot as plt\n",
    "from matplotlib import style\n",
    "import seaborn as sns\n",
    "%matplotlib inline\n",
    "import plotly\n",
    "import plotly.graph_objs as go\n",
    "from plotly.offline import download_plotlyjs, init_notebook_mode, plot, iplot\n",
    "init_notebook_mode(connected=True)"
   ]
  },
  {
   "cell_type": "markdown",
   "metadata": {},
   "source": [
    "In the previous chapter, we have obtained these informations from our app : \n",
    "- `client id`\n",
    "- `client secret`\n",
    "- `redirect uri`\n",
    "\n",
    "If you haven't obtained it, consider In order to use spotify APIs, you need to setup your app [here](https://developer.spotify.com/dashboard/applications) or read the previous chapter"
   ]
  },
  {
   "cell_type": "code",
   "execution_count": 2,
   "metadata": {},
   "outputs": [],
   "source": [
    "SPOTIPY_CLIENT_ID = '9987feb1118f4b45ad586c8be0a02052'\n",
    "SPOTIPY_CLIENT_SECRET = '8babdcaad5e145188d1c3759a67d866a'\n",
    "SPOTIPY_REDIRECT_URI = 'https://www.google.com/'"
   ]
  },
  {
   "cell_type": "markdown",
   "metadata": {},
   "source": [
    "## Request Types\n",
    "There are two types of requests that we can do while using Spotify API, Authorized and Non Authorized request."
   ]
  },
  {
   "cell_type": "markdown",
   "metadata": {},
   "source": [
    "### Non Authorized Requests\n",
    "\n",
    "Spotify provides several methods in its API that requires no authorizations. This means, it's open and  need no user approvals. \n",
    "\n",
    "To create spotify object with non authorized request, simply do the following:\n"
   ]
  },
  {
   "cell_type": "code",
   "execution_count": 3,
   "metadata": {},
   "outputs": [],
   "source": [
    "client_credentials_manager = SpotifyClientCredentials(client_id=SPOTIPY_CLIENT_ID, client_secret=SPOTIPY_CLIENT_SECRET)\n",
    "sp = spotipy.Spotify(client_credentials_manager=client_credentials_manager) #spotify object to access API"
   ]
  },
  {
   "cell_type": "markdown",
   "metadata": {},
   "source": [
    "### Authorized Requests\n",
    "\n",
    "<p style='text-align: justify;'>\n",
    "Authorized request mean we need a user credentials to do the request. This will limit our app from accessing unnecessary informations. Spotify limiting their informations specifically to our app by creating scopes. To read more about Spotify API's Scope, please [read the documentation](https://developer.spotify.com/documentation/general/guides/scopes/). \n",
    "Scope is needed whenever we wanto to create our spotipy object.\n",
    "</p>\n",
    "\n",
    "To summarize, there are 17 Scopes, divided into 7 Major Category (per September 23th 2019): \n",
    "- Playlists\n",
    "    + playlist-read-collaborative\n",
    "    + playlist-modify-private\n",
    "    + playlist-modify-public\n",
    "    + playlist-read-private\n",
    "\n",
    "- Spotify Connect\n",
    "    + user-modify-playback-state\n",
    "    + user-read-currently-playing\n",
    "    + user-read-playback-state\n",
    "\n",
    "- Users\n",
    "    + user-read-private\n",
    "    + user-read-email\n",
    "\n",
    "- Library\n",
    "    + user-library-modify\n",
    "    + user-library-read\n",
    "\n",
    "- Follow\n",
    "    + user-follow-modify\n",
    "    + user-follow-read\n",
    "    \n",
    "- Listening History\n",
    "    + user-read-recently-played\n",
    "    + user-top-read\n",
    "- Playback\n",
    "    + streaming\n",
    "    + app-remote-control\n",
    "\n",
    "To create spotify object with authorized requests, you need a Token based on your username. You can get your username by checking your [spotify account overview](https://www.spotify.com/id/account/overview/)\n",
    "\n",
    "![](res/2/account_overview.png)"
   ]
  },
  {
   "cell_type": "code",
   "execution_count": 5,
   "metadata": {},
   "outputs": [
    {
     "name": "stdout",
     "output_type": "stream",
     "text": [
      "\n",
      "\n",
      "            User authentication requires interaction with your\n",
      "            web browser. Once you enter your credentials and\n",
      "            give authorization, you will be redirected to\n",
      "            a url.  Paste that url you were directed to to\n",
      "            complete the authorization.\n",
      "\n",
      "        \n",
      "Opened https://accounts.spotify.com/authorize?client_id=9987feb1118f4b45ad586c8be0a02052&response_type=code&redirect_uri=https%3A%2F%2Fwww.google.com%2F in your browser\n",
      "\n",
      "\n",
      "Enter the URL you were redirected to: https://www.google.com/?code=AQDtMOOTcTymHRHmCqqRVREyaxxGmTdQFziOxNGSY9GW9-rbMCoL-nEvYYpyK-Dv2htdNg7g74gMsfT16Sdvf8g64FekdtGsnFfAwYO9mZE1zix0n2H00lLD8g4sMZvfJjyEi6mECAZPUaETf6gLCqfFjVwB-eQX3fMaILaHALbSyKJFBBvwASNaWbzW6G4\n",
      "\n",
      "\n"
     ]
    }
   ],
   "source": [
    "scope = 'user-library-read'\n",
    "username = 'aacmjeob9bgfow15ycdudpwm3' #use your own username \n",
    "\n",
    "try :\n",
    "    token = util.prompt_for_user_token(username, client_id=SPOTIPY_CLIENT_ID, client_secret=SPOTIPY_CLIENT_SECRET, redirect_uri=SPOTIPY_REDIRECT_URI)\n",
    "except:\n",
    "    os.remove(f\".cache-{username}\")\n",
    "    token = util.prompt_for_user_token(username, client_id=SPOTIPY_CLIENT_ID, client_secret=SPOTIPY_CLIENT_SECRET, redirect_uri=SPOTIPY_REDIRECT_URI)"
   ]
  },
  {
   "cell_type": "code",
   "execution_count": 6,
   "metadata": {},
   "outputs": [
    {
     "name": "stdout",
     "output_type": "stream",
     "text": [
      "{\n",
      "    \"display_name\": \"levi\",\n",
      "    \"external_urls\": {\n",
      "        \"spotify\": \"https://open.spotify.com/user/aacmjeob9bgfow15ycdudpwm3\"\n",
      "    },\n",
      "    \"followers\": {\n",
      "        \"href\": null,\n",
      "        \"total\": 0\n",
      "    },\n",
      "    \"href\": \"https://api.spotify.com/v1/users/aacmjeob9bgfow15ycdudpwm3\",\n",
      "    \"id\": \"aacmjeob9bgfow15ycdudpwm3\",\n",
      "    \"images\": [],\n",
      "    \"type\": \"user\",\n",
      "    \"uri\": \"spotify:user:aacmjeob9bgfow15ycdudpwm3\"\n",
      "}\n"
     ]
    }
   ],
   "source": [
    "sp_auth = spotipy.Spotify(auth = token)\n",
    "user = sp_auth.current_user()\n",
    "print(json.dumps(user, sort_keys=True, indent=4))"
   ]
  },
  {
   "cell_type": "markdown",
   "metadata": {},
   "source": [
    "**Notes** : Spotify token expires every one hour. Please use token refresh method refers to its [documentation](https://developer.spotify.com/documentation/general/guides/authorization-guide/#authorization-code-flow)"
   ]
  },
  {
   "cell_type": "markdown",
   "metadata": {},
   "source": [
    "# Usecase : Analyze a Top Chart Playlist\n",
    "In this example, we will try to get the **track's uri** on [Spotify Indonesia's Top 50](https://open.spotify.com/playlist/37i9dQZEVXbObFQZ3JLcXt). Notice that the last sequence of characters in the url is the playlist id."
   ]
  },
  {
   "cell_type": "markdown",
   "metadata": {},
   "source": [
    "![](res/2/Indonesia_top_50.PNG)"
   ]
  },
  {
   "cell_type": "code",
   "execution_count": 7,
   "metadata": {},
   "outputs": [],
   "source": [
    "playlist_id = '0N5hxKlqFl6z2gVUywrdcA'"
   ]
  },
  {
   "cell_type": "markdown",
   "metadata": {},
   "source": [
    "## Get all track form playlist\n",
    "\n",
    "All the track's informations [can be read here](https://developer.spotify.com/documentation/web-api/reference/tracks/get-track/)"
   ]
  },
  {
   "cell_type": "code",
   "execution_count": 8,
   "metadata": {},
   "outputs": [],
   "source": [
    "def get_playlist_tracks(username,playlist_id):\n",
    "    results = sp.user_playlist_tracks(username,playlist_id)\n",
    "    tracks = results['items']\n",
    "    while results['next']:\n",
    "        results = sp.next(results)\n",
    "        tracks.extend(results['items'])\n",
    "    return tracks"
   ]
  },
  {
   "cell_type": "code",
   "execution_count": 9,
   "metadata": {},
   "outputs": [],
   "source": [
    "playlist = get_playlist_tracks(username, playlist_id)\n",
    "# print(json.dumps(playlist, sort_keys=True, indent=4))"
   ]
  },
  {
   "cell_type": "markdown",
   "metadata": {},
   "source": [
    "## Get track's name"
   ]
  },
  {
   "cell_type": "code",
   "execution_count": 10,
   "metadata": {},
   "outputs": [],
   "source": [
    "def get_playlist_names(playlist):\n",
    "    names = []\n",
    "    for _track in playlist: \n",
    "        names.append(_track['track']['name'])\n",
    "    return names"
   ]
  },
  {
   "cell_type": "code",
   "execution_count": 11,
   "metadata": {
    "scrolled": false
   },
   "outputs": [],
   "source": [
    "track_names =  get_playlist_names(playlist)"
   ]
  },
  {
   "cell_type": "markdown",
   "metadata": {},
   "source": [
    "## Get track's popularity\n",
    "Track's popularity ranged between 0-100, and determine the popularity of track/album\n"
   ]
  },
  {
   "cell_type": "code",
   "execution_count": 12,
   "metadata": {
    "scrolled": false
   },
   "outputs": [],
   "source": [
    "def get_playlist_popularity(playlist):\n",
    "    popularities = []\n",
    "    for _track in playlist: \n",
    "        popularities.append(_track['track']['popularity'])\n",
    "    return popularities"
   ]
  },
  {
   "cell_type": "code",
   "execution_count": 13,
   "metadata": {},
   "outputs": [],
   "source": [
    "popularities = get_playlist_popularity(playlist)"
   ]
  },
  {
   "cell_type": "markdown",
   "metadata": {},
   "source": [
    "## Get track's duration (in ms)"
   ]
  },
  {
   "cell_type": "code",
   "execution_count": 14,
   "metadata": {},
   "outputs": [],
   "source": [
    "def get_playlist_duration(playlist): \n",
    "    durations = []\n",
    "    for _track in playlist:\n",
    "        durations.append(_track['track']['duration_ms'])\n",
    "    return durations"
   ]
  },
  {
   "cell_type": "code",
   "execution_count": 15,
   "metadata": {
    "scrolled": true
   },
   "outputs": [],
   "source": [
    "durations = get_playlist_duration(playlist)"
   ]
  },
  {
   "cell_type": "markdown",
   "metadata": {},
   "source": [
    "## Get track's release date"
   ]
  },
  {
   "cell_type": "code",
   "execution_count": 16,
   "metadata": {},
   "outputs": [],
   "source": [
    "def get_playlist_release(playlist): \n",
    "    releases = []\n",
    "    for _track in playlist:\n",
    "        releases.append(_track['track']['album']['release_date'])\n",
    "    return releases"
   ]
  },
  {
   "cell_type": "code",
   "execution_count": 17,
   "metadata": {
    "scrolled": true
   },
   "outputs": [],
   "source": [
    "releases = get_playlist_release(playlist)"
   ]
  },
  {
   "cell_type": "markdown",
   "metadata": {},
   "source": [
    "## Get track's artists name"
   ]
  },
  {
   "cell_type": "code",
   "execution_count": 18,
   "metadata": {},
   "outputs": [],
   "source": [
    "def get_artist(playlist):\n",
    "    artists = []\n",
    "    for _track in playlist:\n",
    "        _artists = []\n",
    "        for _artist in _track['track']['artists']: \n",
    "            _artists.append(_artist['name'])\n",
    "        artists.append(_artists)\n",
    "    \n",
    "    return artists"
   ]
  },
  {
   "cell_type": "code",
   "execution_count": 19,
   "metadata": {},
   "outputs": [],
   "source": [
    "artists = get_artist(playlist)"
   ]
  },
  {
   "cell_type": "markdown",
   "metadata": {},
   "source": [
    "## Get all audio feature for each track"
   ]
  },
  {
   "cell_type": "markdown",
   "metadata": {},
   "source": [
    "### Get track's URI"
   ]
  },
  {
   "cell_type": "code",
   "execution_count": 20,
   "metadata": {},
   "outputs": [],
   "source": [
    "uris = set()\n",
    "for track in playlist:\n",
    "    uris.add(track['track']['uri'])"
   ]
  },
  {
   "cell_type": "markdown",
   "metadata": {},
   "source": [
    "Now that we have obtained all the song's URI, let's get the track's audio Feature"
   ]
  },
  {
   "cell_type": "markdown",
   "metadata": {},
   "source": [
    "### Get Track's audio feature\n",
    "Described by [Spotify API Documentation](https://developer.spotify.com/documentation/web-api/reference/tracks/get-several-audio-features/) there are several keys that describe songs, included in data collected, called audio feature\n",
    "\n",
    "| Key              | Value  | Description                                                                                                                                                                                                                                                                                                                                                                                                                                                                                                               |\n",
    "|------------------|--------|---------------------------------------------------------------------------------------------------------------------------------------------------------------------------------------------------------------------------------------------------------------------------------------------------------------------------------------------------------------------------------------------------------------------------------------------------------------------------------------------------------------------------|\n",
    "| acousticness     | float  | A confidence measure from 0.0 to 1.0 of whether the track is acoustic. 1.0 represents high confidence the track is acoustic.                                                                                                                                                                                                                                                                                                                                                                                              |\n",
    "| analysis_url     | string | An HTTP URL to access the full audio analysis of this track. An access token is required to access this data.                                                                                                                                                                                                                                                                                                                                                                                                             |\n",
    "| danceability     | float  | Danceability describes how suitable a track is for dancing based on a  combination of musical elements including tempo, rhythm stability, beat  strength, and overall regularity. A value of 0.0 is least danceable and  1.0 is most danceable.                                                                                                                                                                                                                                                                           |\n",
    "| duration_ms      | int    | The duration of the track in milliseconds.                                                                                                                                                                                                                                                                                                                                                                                                                                                                                |\n",
    "| energy           | float  | Energy is a measure from 0.0 to 1.0 and represents a perceptual measure  of intensity and activity. Typically, energetic tracks feel fast, loud,  and noisy. For example, death metal has high energy, while a Bach  prelude scores low on the scale. Perceptual features contributing to  this attribute include dynamic range, perceived loudness, timbre, onset  rate, and general entropy.                                                                                                                            |\n",
    "| id               | string | The Spotify ID for the track.                                                                                                                                                                                                                                                                                                                                                                                                                                                                                             |\n",
    "| instrumentalness | float  | Predicts whether a track contains no vocals. “Ooh” and “aah” sounds are  treated as instrumental in this context. Rap or spoken word tracks are  clearly “vocal”. The closer the instrumentalness value is to 1.0, the  greater likelihood the track contains no vocal content. Values above 0.5  are intended to represent instrumental tracks, but confidence is higher  as the value approaches 1.0.                                                                                                                   |\n",
    "| key              | int    | The key the track is in. Integers map to pitches using standard Pitch Class notation . E.g. 0 = C, 1 = C♯/D♭, 2 = D, and so on.                                                                                                                                                                                                                                                                                                                                                                                           |\n",
    "| liveness         | float  | Detects the presence of an audience in the recording. Higher liveness  values represent an increased probability that the track was performed  live. A value above 0.8 provides strong likelihood that the track is  live.                                                                                                                                                                                                                                                                                                |\n",
    "| loudness         | float  | The overall loudness of a track in decibels (dB). Loudness values are  averaged across the entire track and are useful for comparing relative  loudness of tracks. Loudness is the quality of a sound that is the  primary psychological correlate of physical strength (amplitude). Values  typical range between -60 and 0 db.                                                                                                                                                                                          |\n",
    "| mode             | int    | Mode indicates the modality (major or minor) of a track, the type of  scale from which its melodic content is derived. Major is represented by  1 and minor is 0.                                                                                                                                                                                                                                                                                                                                                         |\n",
    "| speechiness      | float  | Speechiness detects the presence of spoken words in a track. The more  exclusively speech-like the recording (e.g. talk show, audio book,  poetry), the closer to 1.0 the attribute value. Values above 0.66  describe tracks that are probably made entirely of spoken words. Values  between 0.33 and 0.66 describe tracks that may contain both music and  speech, either in sections or layered, including such cases as rap  music. Values below 0.33 most likely represent music and other  non-speech-like tracks. |\n",
    "| tempo            | float  | The overall estimated tempo of a track in beats per minute (BPM). In  musical terminology, tempo is the speed or pace of a given piece and  derives directly from the average beat duration.                                                                                                                                                                                                                                                                                                                              |\n",
    "| time_signature   | int    | An estimated overall time signature of a track. The time signature  (meter) is a notational convention to specify how many beats are in each  bar (or measure).                                                                                                                                                                                                                                                                                                                                                           |\n",
    "| track_href       | string | A link to the Web API endpoint providing full details of the track.                                                                                                                                                                                                                                                                                                                                                                                                                                                       |\n",
    "| type             | string | The object type: “audio_features”                                                                                                                                                                                                                                                                                                                                                                                                                                                                                         |\n",
    "| uri              | string | The Spotify URI for the track.                                                                                                                                                                                                                                                                                                                                                                                                                                                                                            |\n",
    "| valence          | float  | A measure from 0.0 to 1.0 describing the musical positiveness conveyed  by a track. Tracks with high valence sound more positive (e.g. happy,  cheerful, euphoric), while tracks with low valence sound more negative  (e.g. sad, depressed, angry).                                                                                                                                                                                                                                                                      |"
   ]
  },
  {
   "cell_type": "code",
   "execution_count": 21,
   "metadata": {},
   "outputs": [
    {
     "name": "stderr",
     "output_type": "stream",
     "text": [
      "100%|██████████████████████████████████████████████████████████████████████████████████| 44/44 [00:06<00:00,  6.59it/s]\n"
     ]
    }
   ],
   "source": [
    "af = []\n",
    "for _track in tqdm(uris):\n",
    "    af.append(sp_auth.audio_features(_track)[0])"
   ]
  },
  {
   "cell_type": "code",
   "execution_count": 22,
   "metadata": {},
   "outputs": [
    {
     "data": {
      "text/html": [
       "<div>\n",
       "<style scoped>\n",
       "    .dataframe tbody tr th:only-of-type {\n",
       "        vertical-align: middle;\n",
       "    }\n",
       "\n",
       "    .dataframe tbody tr th {\n",
       "        vertical-align: top;\n",
       "    }\n",
       "\n",
       "    .dataframe thead th {\n",
       "        text-align: right;\n",
       "    }\n",
       "</style>\n",
       "<table border=\"1\" class=\"dataframe\">\n",
       "  <thead>\n",
       "    <tr style=\"text-align: right;\">\n",
       "      <th></th>\n",
       "      <th>acousticness</th>\n",
       "      <th>analysis_url</th>\n",
       "      <th>danceability</th>\n",
       "      <th>duration_ms</th>\n",
       "      <th>energy</th>\n",
       "      <th>id</th>\n",
       "      <th>instrumentalness</th>\n",
       "      <th>key</th>\n",
       "      <th>liveness</th>\n",
       "      <th>loudness</th>\n",
       "      <th>mode</th>\n",
       "      <th>speechiness</th>\n",
       "      <th>tempo</th>\n",
       "      <th>time_signature</th>\n",
       "      <th>track_href</th>\n",
       "      <th>type</th>\n",
       "      <th>uri</th>\n",
       "      <th>valence</th>\n",
       "    </tr>\n",
       "  </thead>\n",
       "  <tbody>\n",
       "    <tr>\n",
       "      <th>0</th>\n",
       "      <td>0.06230</td>\n",
       "      <td>https://api.spotify.com/v1/audio-analysis/5icO...</td>\n",
       "      <td>0.791</td>\n",
       "      <td>156347</td>\n",
       "      <td>0.565</td>\n",
       "      <td>5icOoE6VgqFKohjWWNp0Ac</td>\n",
       "      <td>0.000000</td>\n",
       "      <td>5</td>\n",
       "      <td>0.1560</td>\n",
       "      <td>-3.933</td>\n",
       "      <td>0</td>\n",
       "      <td>0.0439</td>\n",
       "      <td>99.961</td>\n",
       "      <td>4</td>\n",
       "      <td>https://api.spotify.com/v1/tracks/5icOoE6VgqFK...</td>\n",
       "      <td>audio_features</td>\n",
       "      <td>spotify:track:5icOoE6VgqFKohjWWNp0Ac</td>\n",
       "      <td>0.181</td>\n",
       "    </tr>\n",
       "    <tr>\n",
       "      <th>1</th>\n",
       "      <td>0.74100</td>\n",
       "      <td>https://api.spotify.com/v1/audio-analysis/3RDN...</td>\n",
       "      <td>0.533</td>\n",
       "      <td>271200</td>\n",
       "      <td>0.298</td>\n",
       "      <td>3RDNWxiX2qTMDLwOHYWPN2</td>\n",
       "      <td>0.000048</td>\n",
       "      <td>9</td>\n",
       "      <td>0.1340</td>\n",
       "      <td>-11.069</td>\n",
       "      <td>1</td>\n",
       "      <td>0.0315</td>\n",
       "      <td>129.676</td>\n",
       "      <td>4</td>\n",
       "      <td>https://api.spotify.com/v1/tracks/3RDNWxiX2qTM...</td>\n",
       "      <td>audio_features</td>\n",
       "      <td>spotify:track:3RDNWxiX2qTMDLwOHYWPN2</td>\n",
       "      <td>0.112</td>\n",
       "    </tr>\n",
       "    <tr>\n",
       "      <th>2</th>\n",
       "      <td>0.00838</td>\n",
       "      <td>https://api.spotify.com/v1/audio-analysis/29fR...</td>\n",
       "      <td>0.769</td>\n",
       "      <td>171387</td>\n",
       "      <td>0.678</td>\n",
       "      <td>29fRTIKsJhLUJoldM89GZS</td>\n",
       "      <td>0.000000</td>\n",
       "      <td>2</td>\n",
       "      <td>0.0596</td>\n",
       "      <td>-5.604</td>\n",
       "      <td>1</td>\n",
       "      <td>0.0507</td>\n",
       "      <td>85.025</td>\n",
       "      <td>4</td>\n",
       "      <td>https://api.spotify.com/v1/tracks/29fRTIKsJhLU...</td>\n",
       "      <td>audio_features</td>\n",
       "      <td>spotify:track:29fRTIKsJhLUJoldM89GZS</td>\n",
       "      <td>0.706</td>\n",
       "    </tr>\n",
       "    <tr>\n",
       "      <th>3</th>\n",
       "      <td>0.30600</td>\n",
       "      <td>https://api.spotify.com/v1/audio-analysis/66wR...</td>\n",
       "      <td>0.703</td>\n",
       "      <td>218406</td>\n",
       "      <td>0.291</td>\n",
       "      <td>66wRGrt1HmeVa1wtnWMj6C</td>\n",
       "      <td>0.000000</td>\n",
       "      <td>11</td>\n",
       "      <td>0.1130</td>\n",
       "      <td>-7.109</td>\n",
       "      <td>1</td>\n",
       "      <td>0.0278</td>\n",
       "      <td>96.058</td>\n",
       "      <td>4</td>\n",
       "      <td>https://api.spotify.com/v1/tracks/66wRGrt1HmeV...</td>\n",
       "      <td>audio_features</td>\n",
       "      <td>spotify:track:66wRGrt1HmeVa1wtnWMj6C</td>\n",
       "      <td>0.449</td>\n",
       "    </tr>\n",
       "    <tr>\n",
       "      <th>4</th>\n",
       "      <td>0.57800</td>\n",
       "      <td>https://api.spotify.com/v1/audio-analysis/14ms...</td>\n",
       "      <td>0.725</td>\n",
       "      <td>178640</td>\n",
       "      <td>0.321</td>\n",
       "      <td>14msK75pk3pA33pzPVNtBF</td>\n",
       "      <td>0.000000</td>\n",
       "      <td>1</td>\n",
       "      <td>0.0884</td>\n",
       "      <td>-10.744</td>\n",
       "      <td>0</td>\n",
       "      <td>0.3230</td>\n",
       "      <td>70.142</td>\n",
       "      <td>4</td>\n",
       "      <td>https://api.spotify.com/v1/tracks/14msK75pk3pA...</td>\n",
       "      <td>audio_features</td>\n",
       "      <td>spotify:track:14msK75pk3pA33pzPVNtBF</td>\n",
       "      <td>0.319</td>\n",
       "    </tr>\n",
       "  </tbody>\n",
       "</table>\n",
       "</div>"
      ],
      "text/plain": [
       "   acousticness                                       analysis_url  \\\n",
       "0       0.06230  https://api.spotify.com/v1/audio-analysis/5icO...   \n",
       "1       0.74100  https://api.spotify.com/v1/audio-analysis/3RDN...   \n",
       "2       0.00838  https://api.spotify.com/v1/audio-analysis/29fR...   \n",
       "3       0.30600  https://api.spotify.com/v1/audio-analysis/66wR...   \n",
       "4       0.57800  https://api.spotify.com/v1/audio-analysis/14ms...   \n",
       "\n",
       "   danceability  duration_ms  energy                      id  \\\n",
       "0         0.791       156347   0.565  5icOoE6VgqFKohjWWNp0Ac   \n",
       "1         0.533       271200   0.298  3RDNWxiX2qTMDLwOHYWPN2   \n",
       "2         0.769       171387   0.678  29fRTIKsJhLUJoldM89GZS   \n",
       "3         0.703       218406   0.291  66wRGrt1HmeVa1wtnWMj6C   \n",
       "4         0.725       178640   0.321  14msK75pk3pA33pzPVNtBF   \n",
       "\n",
       "   instrumentalness  key  liveness  loudness  mode  speechiness    tempo  \\\n",
       "0          0.000000    5    0.1560    -3.933     0       0.0439   99.961   \n",
       "1          0.000048    9    0.1340   -11.069     1       0.0315  129.676   \n",
       "2          0.000000    2    0.0596    -5.604     1       0.0507   85.025   \n",
       "3          0.000000   11    0.1130    -7.109     1       0.0278   96.058   \n",
       "4          0.000000    1    0.0884   -10.744     0       0.3230   70.142   \n",
       "\n",
       "   time_signature                                         track_href  \\\n",
       "0               4  https://api.spotify.com/v1/tracks/5icOoE6VgqFK...   \n",
       "1               4  https://api.spotify.com/v1/tracks/3RDNWxiX2qTM...   \n",
       "2               4  https://api.spotify.com/v1/tracks/29fRTIKsJhLU...   \n",
       "3               4  https://api.spotify.com/v1/tracks/66wRGrt1HmeV...   \n",
       "4               4  https://api.spotify.com/v1/tracks/14msK75pk3pA...   \n",
       "\n",
       "             type                                   uri  valence  \n",
       "0  audio_features  spotify:track:5icOoE6VgqFKohjWWNp0Ac    0.181  \n",
       "1  audio_features  spotify:track:3RDNWxiX2qTMDLwOHYWPN2    0.112  \n",
       "2  audio_features  spotify:track:29fRTIKsJhLUJoldM89GZS    0.706  \n",
       "3  audio_features  spotify:track:66wRGrt1HmeVa1wtnWMj6C    0.449  \n",
       "4  audio_features  spotify:track:14msK75pk3pA33pzPVNtBF    0.319  "
      ]
     },
     "execution_count": 22,
     "metadata": {},
     "output_type": "execute_result"
    }
   ],
   "source": [
    "audio_feature = pd.DataFrame(af)\n",
    "audio_feature.head()"
   ]
  },
  {
   "cell_type": "markdown",
   "metadata": {},
   "source": [
    "## Wrap it all\n",
    "\n",
    "The previous example of collecting informations may seem confusing, so let's wrap it in a single method called `get_playlist_data` to get our track's informations"
   ]
  },
  {
   "cell_type": "code",
   "execution_count": 23,
   "metadata": {},
   "outputs": [],
   "source": [
    "def get_playlist_data(username, playlist_id):\n",
    "    playlist = get_playlist_tracks(username, playlist_id)\n",
    "    features = [] \n",
    "    for track in tqdm(playlist):\n",
    "        uri = track['track']['uri'] \n",
    "        af = sp_auth.audio_features(uri)[0]\n",
    "        track_name = track['track']['name']\n",
    "        popularity = track['track']['popularity']\n",
    "        duration = track['track']['duration_ms']\n",
    "        release_date = track['track']['album']['release_date']\n",
    "        artists = []\n",
    "        for _artist in track['track']['artists']: \n",
    "            artists.append(_artist['name'])\n",
    "        af.update({'name':track_name, 'popularity':popularity, 'duration':duration, 'release_date':release_date, 'artists':artists})\n",
    "        features.append(af)\n",
    "    \n",
    "    return pd.DataFrame(data=features)"
   ]
  },
  {
   "cell_type": "code",
   "execution_count": 24,
   "metadata": {},
   "outputs": [
    {
     "name": "stderr",
     "output_type": "stream",
     "text": [
      "100%|██████████████████████████████████████████████████████████████████████████████████| 44/44 [00:08<00:00,  3.38it/s]\n"
     ]
    }
   ],
   "source": [
    "features = get_playlist_data(username, playlist_id)"
   ]
  },
  {
   "cell_type": "markdown",
   "metadata": {},
   "source": [
    "## Exploratory Data Analysis\n",
    "Now that we already have our data, let's do the funniest part. Analysis !"
   ]
  },
  {
   "cell_type": "code",
   "execution_count": 25,
   "metadata": {},
   "outputs": [
    {
     "data": {
      "text/html": [
       "<div>\n",
       "<style scoped>\n",
       "    .dataframe tbody tr th:only-of-type {\n",
       "        vertical-align: middle;\n",
       "    }\n",
       "\n",
       "    .dataframe tbody tr th {\n",
       "        vertical-align: top;\n",
       "    }\n",
       "\n",
       "    .dataframe thead th {\n",
       "        text-align: right;\n",
       "    }\n",
       "</style>\n",
       "<table border=\"1\" class=\"dataframe\">\n",
       "  <thead>\n",
       "    <tr style=\"text-align: right;\">\n",
       "      <th></th>\n",
       "      <th>acousticness</th>\n",
       "      <th>analysis_url</th>\n",
       "      <th>artists</th>\n",
       "      <th>danceability</th>\n",
       "      <th>duration</th>\n",
       "      <th>duration_ms</th>\n",
       "      <th>energy</th>\n",
       "      <th>id</th>\n",
       "      <th>instrumentalness</th>\n",
       "      <th>key</th>\n",
       "      <th>...</th>\n",
       "      <th>name</th>\n",
       "      <th>popularity</th>\n",
       "      <th>release_date</th>\n",
       "      <th>speechiness</th>\n",
       "      <th>tempo</th>\n",
       "      <th>time_signature</th>\n",
       "      <th>track_href</th>\n",
       "      <th>type</th>\n",
       "      <th>uri</th>\n",
       "      <th>valence</th>\n",
       "    </tr>\n",
       "  </thead>\n",
       "  <tbody>\n",
       "    <tr>\n",
       "      <th>0</th>\n",
       "      <td>0.03700</td>\n",
       "      <td>https://api.spotify.com/v1/audio-analysis/0TK2...</td>\n",
       "      <td>[Shawn Mendes, Camila Cabello]</td>\n",
       "      <td>0.759</td>\n",
       "      <td>190960</td>\n",
       "      <td>190960</td>\n",
       "      <td>0.540</td>\n",
       "      <td>0TK2YIli7K1leLovkQiNik</td>\n",
       "      <td>0.000000</td>\n",
       "      <td>9</td>\n",
       "      <td>...</td>\n",
       "      <td>Señorita</td>\n",
       "      <td>100</td>\n",
       "      <td>2019-06-21</td>\n",
       "      <td>0.0287</td>\n",
       "      <td>116.947</td>\n",
       "      <td>4</td>\n",
       "      <td>https://api.spotify.com/v1/tracks/0TK2YIli7K1l...</td>\n",
       "      <td>audio_features</td>\n",
       "      <td>spotify:track:0TK2YIli7K1leLovkQiNik</td>\n",
       "      <td>0.750</td>\n",
       "    </tr>\n",
       "    <tr>\n",
       "      <th>1</th>\n",
       "      <td>0.91100</td>\n",
       "      <td>https://api.spotify.com/v1/audio-analysis/5DuS...</td>\n",
       "      <td>[Stephanie Poetri]</td>\n",
       "      <td>0.648</td>\n",
       "      <td>209734</td>\n",
       "      <td>209734</td>\n",
       "      <td>0.382</td>\n",
       "      <td>5DuSzOxHDi1qZycpzIWyhO</td>\n",
       "      <td>0.000000</td>\n",
       "      <td>6</td>\n",
       "      <td>...</td>\n",
       "      <td>I Love You 3000</td>\n",
       "      <td>61</td>\n",
       "      <td>2019-06-03</td>\n",
       "      <td>0.0396</td>\n",
       "      <td>90.099</td>\n",
       "      <td>4</td>\n",
       "      <td>https://api.spotify.com/v1/tracks/5DuSzOxHDi1q...</td>\n",
       "      <td>audio_features</td>\n",
       "      <td>spotify:track:5DuSzOxHDi1qZycpzIWyhO</td>\n",
       "      <td>0.408</td>\n",
       "    </tr>\n",
       "    <tr>\n",
       "      <th>2</th>\n",
       "      <td>0.11800</td>\n",
       "      <td>https://api.spotify.com/v1/audio-analysis/2ZDp...</td>\n",
       "      <td>[Rich Brian]</td>\n",
       "      <td>0.756</td>\n",
       "      <td>166145</td>\n",
       "      <td>166146</td>\n",
       "      <td>0.648</td>\n",
       "      <td>2ZDpSQfBdgkooeXw6oj3Uz</td>\n",
       "      <td>0.000000</td>\n",
       "      <td>0</td>\n",
       "      <td>...</td>\n",
       "      <td>100 Degrees</td>\n",
       "      <td>78</td>\n",
       "      <td>2019-07-26</td>\n",
       "      <td>0.0731</td>\n",
       "      <td>80.979</td>\n",
       "      <td>4</td>\n",
       "      <td>https://api.spotify.com/v1/tracks/2ZDpSQfBdgko...</td>\n",
       "      <td>audio_features</td>\n",
       "      <td>spotify:track:2ZDpSQfBdgkooeXw6oj3Uz</td>\n",
       "      <td>0.657</td>\n",
       "    </tr>\n",
       "    <tr>\n",
       "      <th>3</th>\n",
       "      <td>0.00249</td>\n",
       "      <td>https://api.spotify.com/v1/audio-analysis/4ZGX...</td>\n",
       "      <td>[Rossy]</td>\n",
       "      <td>0.432</td>\n",
       "      <td>257142</td>\n",
       "      <td>257143</td>\n",
       "      <td>0.556</td>\n",
       "      <td>4ZGXS9ZynTju8WaxHLPcLW</td>\n",
       "      <td>0.000162</td>\n",
       "      <td>9</td>\n",
       "      <td>...</td>\n",
       "      <td>it is you</td>\n",
       "      <td>36</td>\n",
       "      <td>2019-08-13</td>\n",
       "      <td>0.0282</td>\n",
       "      <td>139.756</td>\n",
       "      <td>4</td>\n",
       "      <td>https://api.spotify.com/v1/tracks/4ZGXS9ZynTju...</td>\n",
       "      <td>audio_features</td>\n",
       "      <td>spotify:track:4ZGXS9ZynTju8WaxHLPcLW</td>\n",
       "      <td>0.168</td>\n",
       "    </tr>\n",
       "    <tr>\n",
       "      <th>4</th>\n",
       "      <td>0.94600</td>\n",
       "      <td>https://api.spotify.com/v1/audio-analysis/2dUp...</td>\n",
       "      <td>[Lofi Radiance]</td>\n",
       "      <td>0.700</td>\n",
       "      <td>197333</td>\n",
       "      <td>197333</td>\n",
       "      <td>0.208</td>\n",
       "      <td>2dUp54GW8AvsgfIkWUUcaa</td>\n",
       "      <td>0.923000</td>\n",
       "      <td>0</td>\n",
       "      <td>...</td>\n",
       "      <td>outside the window</td>\n",
       "      <td>33</td>\n",
       "      <td>2019-08-14</td>\n",
       "      <td>0.0724</td>\n",
       "      <td>90.016</td>\n",
       "      <td>4</td>\n",
       "      <td>https://api.spotify.com/v1/tracks/2dUp54GW8Avs...</td>\n",
       "      <td>audio_features</td>\n",
       "      <td>spotify:track:2dUp54GW8AvsgfIkWUUcaa</td>\n",
       "      <td>0.112</td>\n",
       "    </tr>\n",
       "  </tbody>\n",
       "</table>\n",
       "<p>5 rows × 23 columns</p>\n",
       "</div>"
      ],
      "text/plain": [
       "   acousticness                                       analysis_url  \\\n",
       "0       0.03700  https://api.spotify.com/v1/audio-analysis/0TK2...   \n",
       "1       0.91100  https://api.spotify.com/v1/audio-analysis/5DuS...   \n",
       "2       0.11800  https://api.spotify.com/v1/audio-analysis/2ZDp...   \n",
       "3       0.00249  https://api.spotify.com/v1/audio-analysis/4ZGX...   \n",
       "4       0.94600  https://api.spotify.com/v1/audio-analysis/2dUp...   \n",
       "\n",
       "                          artists  danceability  duration  duration_ms  \\\n",
       "0  [Shawn Mendes, Camila Cabello]         0.759    190960       190960   \n",
       "1              [Stephanie Poetri]         0.648    209734       209734   \n",
       "2                    [Rich Brian]         0.756    166145       166146   \n",
       "3                         [Rossy]         0.432    257142       257143   \n",
       "4                 [Lofi Radiance]         0.700    197333       197333   \n",
       "\n",
       "   energy                      id  instrumentalness  key  ...  \\\n",
       "0   0.540  0TK2YIli7K1leLovkQiNik          0.000000    9  ...   \n",
       "1   0.382  5DuSzOxHDi1qZycpzIWyhO          0.000000    6  ...   \n",
       "2   0.648  2ZDpSQfBdgkooeXw6oj3Uz          0.000000    0  ...   \n",
       "3   0.556  4ZGXS9ZynTju8WaxHLPcLW          0.000162    9  ...   \n",
       "4   0.208  2dUp54GW8AvsgfIkWUUcaa          0.923000    0  ...   \n",
       "\n",
       "                 name  popularity  release_date speechiness    tempo  \\\n",
       "0            Señorita         100    2019-06-21      0.0287  116.947   \n",
       "1     I Love You 3000          61    2019-06-03      0.0396   90.099   \n",
       "2         100 Degrees          78    2019-07-26      0.0731   80.979   \n",
       "3           it is you          36    2019-08-13      0.0282  139.756   \n",
       "4  outside the window          33    2019-08-14      0.0724   90.016   \n",
       "\n",
       "  time_signature                                         track_href  \\\n",
       "0              4  https://api.spotify.com/v1/tracks/0TK2YIli7K1l...   \n",
       "1              4  https://api.spotify.com/v1/tracks/5DuSzOxHDi1q...   \n",
       "2              4  https://api.spotify.com/v1/tracks/2ZDpSQfBdgko...   \n",
       "3              4  https://api.spotify.com/v1/tracks/4ZGXS9ZynTju...   \n",
       "4              4  https://api.spotify.com/v1/tracks/2dUp54GW8Avs...   \n",
       "\n",
       "             type                                   uri valence  \n",
       "0  audio_features  spotify:track:0TK2YIli7K1leLovkQiNik   0.750  \n",
       "1  audio_features  spotify:track:5DuSzOxHDi1qZycpzIWyhO   0.408  \n",
       "2  audio_features  spotify:track:2ZDpSQfBdgkooeXw6oj3Uz   0.657  \n",
       "3  audio_features  spotify:track:4ZGXS9ZynTju8WaxHLPcLW   0.168  \n",
       "4  audio_features  spotify:track:2dUp54GW8AvsgfIkWUUcaa   0.112  \n",
       "\n",
       "[5 rows x 23 columns]"
      ]
     },
     "execution_count": 25,
     "metadata": {},
     "output_type": "execute_result"
    }
   ],
   "source": [
    "features.head()"
   ]
  },
  {
   "cell_type": "code",
   "execution_count": 26,
   "metadata": {},
   "outputs": [
    {
     "name": "stdout",
     "output_type": "stream",
     "text": [
      "<class 'pandas.core.frame.DataFrame'>\n",
      "RangeIndex: 44 entries, 0 to 43\n",
      "Data columns (total 23 columns):\n",
      "acousticness        44 non-null float64\n",
      "analysis_url        44 non-null object\n",
      "artists             44 non-null object\n",
      "danceability        44 non-null float64\n",
      "duration            44 non-null int64\n",
      "duration_ms         44 non-null int64\n",
      "energy              44 non-null float64\n",
      "id                  44 non-null object\n",
      "instrumentalness    44 non-null float64\n",
      "key                 44 non-null int64\n",
      "liveness            44 non-null float64\n",
      "loudness            44 non-null float64\n",
      "mode                44 non-null int64\n",
      "name                44 non-null object\n",
      "popularity          44 non-null int64\n",
      "release_date        44 non-null object\n",
      "speechiness         44 non-null float64\n",
      "tempo               44 non-null float64\n",
      "time_signature      44 non-null int64\n",
      "track_href          44 non-null object\n",
      "type                44 non-null object\n",
      "uri                 44 non-null object\n",
      "valence             44 non-null float64\n",
      "dtypes: float64(9), int64(6), object(8)\n",
      "memory usage: 8.0+ KB\n"
     ]
    }
   ],
   "source": [
    "features.info()"
   ]
  },
  {
   "cell_type": "markdown",
   "metadata": {},
   "source": [
    "Note that we might not use all the variables so let's see for high possibility of useless variable, starting with a non numerical types"
   ]
  },
  {
   "cell_type": "code",
   "execution_count": 27,
   "metadata": {},
   "outputs": [
    {
     "data": {
      "text/html": [
       "<div>\n",
       "<style scoped>\n",
       "    .dataframe tbody tr th:only-of-type {\n",
       "        vertical-align: middle;\n",
       "    }\n",
       "\n",
       "    .dataframe tbody tr th {\n",
       "        vertical-align: top;\n",
       "    }\n",
       "\n",
       "    .dataframe thead th {\n",
       "        text-align: right;\n",
       "    }\n",
       "</style>\n",
       "<table border=\"1\" class=\"dataframe\">\n",
       "  <thead>\n",
       "    <tr style=\"text-align: right;\">\n",
       "      <th></th>\n",
       "      <th>analysis_url</th>\n",
       "      <th>artists</th>\n",
       "      <th>id</th>\n",
       "      <th>name</th>\n",
       "      <th>release_date</th>\n",
       "      <th>track_href</th>\n",
       "      <th>type</th>\n",
       "      <th>uri</th>\n",
       "    </tr>\n",
       "  </thead>\n",
       "  <tbody>\n",
       "    <tr>\n",
       "      <th>0</th>\n",
       "      <td>https://api.spotify.com/v1/audio-analysis/0TK2...</td>\n",
       "      <td>[Shawn Mendes, Camila Cabello]</td>\n",
       "      <td>0TK2YIli7K1leLovkQiNik</td>\n",
       "      <td>Señorita</td>\n",
       "      <td>2019-06-21</td>\n",
       "      <td>https://api.spotify.com/v1/tracks/0TK2YIli7K1l...</td>\n",
       "      <td>audio_features</td>\n",
       "      <td>spotify:track:0TK2YIli7K1leLovkQiNik</td>\n",
       "    </tr>\n",
       "    <tr>\n",
       "      <th>1</th>\n",
       "      <td>https://api.spotify.com/v1/audio-analysis/5DuS...</td>\n",
       "      <td>[Stephanie Poetri]</td>\n",
       "      <td>5DuSzOxHDi1qZycpzIWyhO</td>\n",
       "      <td>I Love You 3000</td>\n",
       "      <td>2019-06-03</td>\n",
       "      <td>https://api.spotify.com/v1/tracks/5DuSzOxHDi1q...</td>\n",
       "      <td>audio_features</td>\n",
       "      <td>spotify:track:5DuSzOxHDi1qZycpzIWyhO</td>\n",
       "    </tr>\n",
       "    <tr>\n",
       "      <th>2</th>\n",
       "      <td>https://api.spotify.com/v1/audio-analysis/2ZDp...</td>\n",
       "      <td>[Rich Brian]</td>\n",
       "      <td>2ZDpSQfBdgkooeXw6oj3Uz</td>\n",
       "      <td>100 Degrees</td>\n",
       "      <td>2019-07-26</td>\n",
       "      <td>https://api.spotify.com/v1/tracks/2ZDpSQfBdgko...</td>\n",
       "      <td>audio_features</td>\n",
       "      <td>spotify:track:2ZDpSQfBdgkooeXw6oj3Uz</td>\n",
       "    </tr>\n",
       "    <tr>\n",
       "      <th>3</th>\n",
       "      <td>https://api.spotify.com/v1/audio-analysis/4ZGX...</td>\n",
       "      <td>[Rossy]</td>\n",
       "      <td>4ZGXS9ZynTju8WaxHLPcLW</td>\n",
       "      <td>it is you</td>\n",
       "      <td>2019-08-13</td>\n",
       "      <td>https://api.spotify.com/v1/tracks/4ZGXS9ZynTju...</td>\n",
       "      <td>audio_features</td>\n",
       "      <td>spotify:track:4ZGXS9ZynTju8WaxHLPcLW</td>\n",
       "    </tr>\n",
       "    <tr>\n",
       "      <th>4</th>\n",
       "      <td>https://api.spotify.com/v1/audio-analysis/2dUp...</td>\n",
       "      <td>[Lofi Radiance]</td>\n",
       "      <td>2dUp54GW8AvsgfIkWUUcaa</td>\n",
       "      <td>outside the window</td>\n",
       "      <td>2019-08-14</td>\n",
       "      <td>https://api.spotify.com/v1/tracks/2dUp54GW8Avs...</td>\n",
       "      <td>audio_features</td>\n",
       "      <td>spotify:track:2dUp54GW8AvsgfIkWUUcaa</td>\n",
       "    </tr>\n",
       "  </tbody>\n",
       "</table>\n",
       "</div>"
      ],
      "text/plain": [
       "                                        analysis_url  \\\n",
       "0  https://api.spotify.com/v1/audio-analysis/0TK2...   \n",
       "1  https://api.spotify.com/v1/audio-analysis/5DuS...   \n",
       "2  https://api.spotify.com/v1/audio-analysis/2ZDp...   \n",
       "3  https://api.spotify.com/v1/audio-analysis/4ZGX...   \n",
       "4  https://api.spotify.com/v1/audio-analysis/2dUp...   \n",
       "\n",
       "                          artists                      id                name  \\\n",
       "0  [Shawn Mendes, Camila Cabello]  0TK2YIli7K1leLovkQiNik            Señorita   \n",
       "1              [Stephanie Poetri]  5DuSzOxHDi1qZycpzIWyhO     I Love You 3000   \n",
       "2                    [Rich Brian]  2ZDpSQfBdgkooeXw6oj3Uz         100 Degrees   \n",
       "3                         [Rossy]  4ZGXS9ZynTju8WaxHLPcLW           it is you   \n",
       "4                 [Lofi Radiance]  2dUp54GW8AvsgfIkWUUcaa  outside the window   \n",
       "\n",
       "  release_date                                         track_href  \\\n",
       "0   2019-06-21  https://api.spotify.com/v1/tracks/0TK2YIli7K1l...   \n",
       "1   2019-06-03  https://api.spotify.com/v1/tracks/5DuSzOxHDi1q...   \n",
       "2   2019-07-26  https://api.spotify.com/v1/tracks/2ZDpSQfBdgko...   \n",
       "3   2019-08-13  https://api.spotify.com/v1/tracks/4ZGXS9ZynTju...   \n",
       "4   2019-08-14  https://api.spotify.com/v1/tracks/2dUp54GW8Avs...   \n",
       "\n",
       "             type                                   uri  \n",
       "0  audio_features  spotify:track:0TK2YIli7K1leLovkQiNik  \n",
       "1  audio_features  spotify:track:5DuSzOxHDi1qZycpzIWyhO  \n",
       "2  audio_features  spotify:track:2ZDpSQfBdgkooeXw6oj3Uz  \n",
       "3  audio_features  spotify:track:4ZGXS9ZynTju8WaxHLPcLW  \n",
       "4  audio_features  spotify:track:2dUp54GW8AvsgfIkWUUcaa  "
      ]
     },
     "execution_count": 27,
     "metadata": {},
     "output_type": "execute_result"
    }
   ],
   "source": [
    "features.select_dtypes(include='object').head()"
   ]
  },
  {
   "cell_type": "code",
   "execution_count": 28,
   "metadata": {},
   "outputs": [
    {
     "data": {
      "text/html": [
       "<div>\n",
       "<style scoped>\n",
       "    .dataframe tbody tr th:only-of-type {\n",
       "        vertical-align: middle;\n",
       "    }\n",
       "\n",
       "    .dataframe tbody tr th {\n",
       "        vertical-align: top;\n",
       "    }\n",
       "\n",
       "    .dataframe thead th {\n",
       "        text-align: right;\n",
       "    }\n",
       "</style>\n",
       "<table border=\"1\" class=\"dataframe\">\n",
       "  <thead>\n",
       "    <tr style=\"text-align: right;\">\n",
       "      <th></th>\n",
       "      <th>analysis_url</th>\n",
       "      <th>artists</th>\n",
       "      <th>id</th>\n",
       "      <th>name</th>\n",
       "      <th>release_date</th>\n",
       "      <th>track_href</th>\n",
       "      <th>type</th>\n",
       "      <th>uri</th>\n",
       "    </tr>\n",
       "  </thead>\n",
       "  <tbody>\n",
       "    <tr>\n",
       "      <th>count</th>\n",
       "      <td>44</td>\n",
       "      <td>44</td>\n",
       "      <td>44</td>\n",
       "      <td>44</td>\n",
       "      <td>44</td>\n",
       "      <td>44</td>\n",
       "      <td>44</td>\n",
       "      <td>44</td>\n",
       "    </tr>\n",
       "    <tr>\n",
       "      <th>unique</th>\n",
       "      <td>44</td>\n",
       "      <td>42</td>\n",
       "      <td>44</td>\n",
       "      <td>44</td>\n",
       "      <td>38</td>\n",
       "      <td>44</td>\n",
       "      <td>1</td>\n",
       "      <td>44</td>\n",
       "    </tr>\n",
       "    <tr>\n",
       "      <th>top</th>\n",
       "      <td>https://api.spotify.com/v1/audio-analysis/6vBd...</td>\n",
       "      <td>[Ariana Grande]</td>\n",
       "      <td>5X5Vj8FcxyoLzq9qxAa45U</td>\n",
       "      <td>7 rings</td>\n",
       "      <td>2019-04-26</td>\n",
       "      <td>https://api.spotify.com/v1/tracks/79KwLv0nWvYa...</td>\n",
       "      <td>audio_features</td>\n",
       "      <td>spotify:track:2dUp54GW8AvsgfIkWUUcaa</td>\n",
       "    </tr>\n",
       "    <tr>\n",
       "      <th>freq</th>\n",
       "      <td>1</td>\n",
       "      <td>2</td>\n",
       "      <td>1</td>\n",
       "      <td>1</td>\n",
       "      <td>2</td>\n",
       "      <td>1</td>\n",
       "      <td>44</td>\n",
       "      <td>1</td>\n",
       "    </tr>\n",
       "  </tbody>\n",
       "</table>\n",
       "</div>"
      ],
      "text/plain": [
       "                                             analysis_url          artists  \\\n",
       "count                                                  44               44   \n",
       "unique                                                 44               42   \n",
       "top     https://api.spotify.com/v1/audio-analysis/6vBd...  [Ariana Grande]   \n",
       "freq                                                    1                2   \n",
       "\n",
       "                            id     name release_date  \\\n",
       "count                       44       44           44   \n",
       "unique                      44       44           38   \n",
       "top     5X5Vj8FcxyoLzq9qxAa45U  7 rings   2019-04-26   \n",
       "freq                         1        1            2   \n",
       "\n",
       "                                               track_href            type  \\\n",
       "count                                                  44              44   \n",
       "unique                                                 44               1   \n",
       "top     https://api.spotify.com/v1/tracks/79KwLv0nWvYa...  audio_features   \n",
       "freq                                                    1              44   \n",
       "\n",
       "                                         uri  \n",
       "count                                     44  \n",
       "unique                                    44  \n",
       "top     spotify:track:2dUp54GW8AvsgfIkWUUcaa  \n",
       "freq                                       1  "
      ]
     },
     "execution_count": 28,
     "metadata": {},
     "output_type": "execute_result"
    }
   ],
   "source": [
    "features.select_dtypes(include='object').describe()"
   ]
  },
  {
   "cell_type": "markdown",
   "metadata": {},
   "source": [
    "From the table showed above, `analysis_url`, `id`, `track_href`, and `uri` works as unique identifier and stores no implicit values. So it is unnecessary for us to include those variables into account. As for `type` variable, it only stores value of \"audio_feature\". Thus, it's not necessary to be analyzed.\n",
    "for now, let's drop `analysis_url`, `id`, `track_href`,`uri`, and `type`"
   ]
  },
  {
   "cell_type": "code",
   "execution_count": 29,
   "metadata": {},
   "outputs": [
    {
     "data": {
      "text/html": [
       "<div>\n",
       "<style scoped>\n",
       "    .dataframe tbody tr th:only-of-type {\n",
       "        vertical-align: middle;\n",
       "    }\n",
       "\n",
       "    .dataframe tbody tr th {\n",
       "        vertical-align: top;\n",
       "    }\n",
       "\n",
       "    .dataframe thead th {\n",
       "        text-align: right;\n",
       "    }\n",
       "</style>\n",
       "<table border=\"1\" class=\"dataframe\">\n",
       "  <thead>\n",
       "    <tr style=\"text-align: right;\">\n",
       "      <th></th>\n",
       "      <th>acousticness</th>\n",
       "      <th>artists</th>\n",
       "      <th>danceability</th>\n",
       "      <th>duration</th>\n",
       "      <th>duration_ms</th>\n",
       "      <th>energy</th>\n",
       "      <th>instrumentalness</th>\n",
       "      <th>key</th>\n",
       "      <th>liveness</th>\n",
       "      <th>loudness</th>\n",
       "      <th>mode</th>\n",
       "      <th>name</th>\n",
       "      <th>popularity</th>\n",
       "      <th>release_date</th>\n",
       "      <th>speechiness</th>\n",
       "      <th>tempo</th>\n",
       "      <th>time_signature</th>\n",
       "      <th>valence</th>\n",
       "    </tr>\n",
       "  </thead>\n",
       "  <tbody>\n",
       "    <tr>\n",
       "      <th>0</th>\n",
       "      <td>0.03700</td>\n",
       "      <td>[Shawn Mendes, Camila Cabello]</td>\n",
       "      <td>0.759</td>\n",
       "      <td>190960</td>\n",
       "      <td>190960</td>\n",
       "      <td>0.540</td>\n",
       "      <td>0.000000</td>\n",
       "      <td>9</td>\n",
       "      <td>0.0945</td>\n",
       "      <td>-6.039</td>\n",
       "      <td>0</td>\n",
       "      <td>Señorita</td>\n",
       "      <td>100</td>\n",
       "      <td>2019-06-21</td>\n",
       "      <td>0.0287</td>\n",
       "      <td>116.947</td>\n",
       "      <td>4</td>\n",
       "      <td>0.750</td>\n",
       "    </tr>\n",
       "    <tr>\n",
       "      <th>1</th>\n",
       "      <td>0.91100</td>\n",
       "      <td>[Stephanie Poetri]</td>\n",
       "      <td>0.648</td>\n",
       "      <td>209734</td>\n",
       "      <td>209734</td>\n",
       "      <td>0.382</td>\n",
       "      <td>0.000000</td>\n",
       "      <td>6</td>\n",
       "      <td>0.3930</td>\n",
       "      <td>-7.850</td>\n",
       "      <td>1</td>\n",
       "      <td>I Love You 3000</td>\n",
       "      <td>61</td>\n",
       "      <td>2019-06-03</td>\n",
       "      <td>0.0396</td>\n",
       "      <td>90.099</td>\n",
       "      <td>4</td>\n",
       "      <td>0.408</td>\n",
       "    </tr>\n",
       "    <tr>\n",
       "      <th>2</th>\n",
       "      <td>0.11800</td>\n",
       "      <td>[Rich Brian]</td>\n",
       "      <td>0.756</td>\n",
       "      <td>166145</td>\n",
       "      <td>166146</td>\n",
       "      <td>0.648</td>\n",
       "      <td>0.000000</td>\n",
       "      <td>0</td>\n",
       "      <td>0.5150</td>\n",
       "      <td>-5.287</td>\n",
       "      <td>1</td>\n",
       "      <td>100 Degrees</td>\n",
       "      <td>78</td>\n",
       "      <td>2019-07-26</td>\n",
       "      <td>0.0731</td>\n",
       "      <td>80.979</td>\n",
       "      <td>4</td>\n",
       "      <td>0.657</td>\n",
       "    </tr>\n",
       "    <tr>\n",
       "      <th>3</th>\n",
       "      <td>0.00249</td>\n",
       "      <td>[Rossy]</td>\n",
       "      <td>0.432</td>\n",
       "      <td>257142</td>\n",
       "      <td>257143</td>\n",
       "      <td>0.556</td>\n",
       "      <td>0.000162</td>\n",
       "      <td>9</td>\n",
       "      <td>0.2320</td>\n",
       "      <td>-7.415</td>\n",
       "      <td>0</td>\n",
       "      <td>it is you</td>\n",
       "      <td>36</td>\n",
       "      <td>2019-08-13</td>\n",
       "      <td>0.0282</td>\n",
       "      <td>139.756</td>\n",
       "      <td>4</td>\n",
       "      <td>0.168</td>\n",
       "    </tr>\n",
       "    <tr>\n",
       "      <th>4</th>\n",
       "      <td>0.94600</td>\n",
       "      <td>[Lofi Radiance]</td>\n",
       "      <td>0.700</td>\n",
       "      <td>197333</td>\n",
       "      <td>197333</td>\n",
       "      <td>0.208</td>\n",
       "      <td>0.923000</td>\n",
       "      <td>0</td>\n",
       "      <td>0.0854</td>\n",
       "      <td>-11.410</td>\n",
       "      <td>1</td>\n",
       "      <td>outside the window</td>\n",
       "      <td>33</td>\n",
       "      <td>2019-08-14</td>\n",
       "      <td>0.0724</td>\n",
       "      <td>90.016</td>\n",
       "      <td>4</td>\n",
       "      <td>0.112</td>\n",
       "    </tr>\n",
       "  </tbody>\n",
       "</table>\n",
       "</div>"
      ],
      "text/plain": [
       "   acousticness                         artists  danceability  duration  \\\n",
       "0       0.03700  [Shawn Mendes, Camila Cabello]         0.759    190960   \n",
       "1       0.91100              [Stephanie Poetri]         0.648    209734   \n",
       "2       0.11800                    [Rich Brian]         0.756    166145   \n",
       "3       0.00249                         [Rossy]         0.432    257142   \n",
       "4       0.94600                 [Lofi Radiance]         0.700    197333   \n",
       "\n",
       "   duration_ms  energy  instrumentalness  key  liveness  loudness  mode  \\\n",
       "0       190960   0.540          0.000000    9    0.0945    -6.039     0   \n",
       "1       209734   0.382          0.000000    6    0.3930    -7.850     1   \n",
       "2       166146   0.648          0.000000    0    0.5150    -5.287     1   \n",
       "3       257143   0.556          0.000162    9    0.2320    -7.415     0   \n",
       "4       197333   0.208          0.923000    0    0.0854   -11.410     1   \n",
       "\n",
       "                 name  popularity release_date  speechiness    tempo  \\\n",
       "0            Señorita         100   2019-06-21       0.0287  116.947   \n",
       "1     I Love You 3000          61   2019-06-03       0.0396   90.099   \n",
       "2         100 Degrees          78   2019-07-26       0.0731   80.979   \n",
       "3           it is you          36   2019-08-13       0.0282  139.756   \n",
       "4  outside the window          33   2019-08-14       0.0724   90.016   \n",
       "\n",
       "   time_signature  valence  \n",
       "0               4    0.750  \n",
       "1               4    0.408  \n",
       "2               4    0.657  \n",
       "3               4    0.168  \n",
       "4               4    0.112  "
      ]
     },
     "execution_count": 29,
     "metadata": {},
     "output_type": "execute_result"
    }
   ],
   "source": [
    "clean_af = features.drop(columns=['analysis_url', 'id', 'track_href', 'uri', 'type'])\n",
    "clean_af.head()"
   ]
  },
  {
   "cell_type": "markdown",
   "metadata": {},
   "source": [
    "If you notice that there are 2 columns telling us about durations, called \"duration\" and \"duration_ms\". Where did they comes ? the `duration` came from our outer information while getting track's data from playlist. While `duration_ms` came from audio_feature that we get from specific tracks. These two features should have the same meaning. Now let's check whether they're the same"
   ]
  },
  {
   "cell_type": "code",
   "execution_count": 30,
   "metadata": {
    "scrolled": true
   },
   "outputs": [
    {
     "data": {
      "text/plain": [
       "0      True\n",
       "1      True\n",
       "2     False\n",
       "3     False\n",
       "4      True\n",
       "5     False\n",
       "6      True\n",
       "7     False\n",
       "8     False\n",
       "9      True\n",
       "10    False\n",
       "11     True\n",
       "12    False\n",
       "13    False\n",
       "14    False\n",
       "15     True\n",
       "16    False\n",
       "17    False\n",
       "18    False\n",
       "19     True\n",
       "20     True\n",
       "21    False\n",
       "22     True\n",
       "23    False\n",
       "24     True\n",
       "25     True\n",
       "26    False\n",
       "27     True\n",
       "28     True\n",
       "29     True\n",
       "30    False\n",
       "31     True\n",
       "32    False\n",
       "33     True\n",
       "34    False\n",
       "35    False\n",
       "36    False\n",
       "37    False\n",
       "38     True\n",
       "39     True\n",
       "40     True\n",
       "41     True\n",
       "42     True\n",
       "43    False\n",
       "dtype: bool"
      ]
     },
     "execution_count": 30,
     "metadata": {},
     "output_type": "execute_result"
    }
   ],
   "source": [
    "clean_af.duration == clean_af.duration_ms"
   ]
  },
  {
   "cell_type": "code",
   "execution_count": 31,
   "metadata": {},
   "outputs": [
    {
     "data": {
      "text/plain": [
       "0.5"
      ]
     },
     "execution_count": 31,
     "metadata": {},
     "output_type": "execute_result"
    }
   ],
   "source": [
    "abs(clean_af.duration - clean_af.duration_ms).mean()"
   ]
  },
  {
   "cell_type": "markdown",
   "metadata": {},
   "source": [
    "The average error between the two variables are only 0.5 ms. It's not a significant values, so let's just randomly drop one of them."
   ]
  },
  {
   "cell_type": "code",
   "execution_count": 32,
   "metadata": {},
   "outputs": [
    {
     "data": {
      "text/html": [
       "<div>\n",
       "<style scoped>\n",
       "    .dataframe tbody tr th:only-of-type {\n",
       "        vertical-align: middle;\n",
       "    }\n",
       "\n",
       "    .dataframe tbody tr th {\n",
       "        vertical-align: top;\n",
       "    }\n",
       "\n",
       "    .dataframe thead th {\n",
       "        text-align: right;\n",
       "    }\n",
       "</style>\n",
       "<table border=\"1\" class=\"dataframe\">\n",
       "  <thead>\n",
       "    <tr style=\"text-align: right;\">\n",
       "      <th></th>\n",
       "      <th>acousticness</th>\n",
       "      <th>artists</th>\n",
       "      <th>danceability</th>\n",
       "      <th>duration</th>\n",
       "      <th>energy</th>\n",
       "      <th>instrumentalness</th>\n",
       "      <th>key</th>\n",
       "      <th>liveness</th>\n",
       "      <th>loudness</th>\n",
       "      <th>mode</th>\n",
       "      <th>name</th>\n",
       "      <th>popularity</th>\n",
       "      <th>release_date</th>\n",
       "      <th>speechiness</th>\n",
       "      <th>tempo</th>\n",
       "      <th>time_signature</th>\n",
       "      <th>valence</th>\n",
       "    </tr>\n",
       "  </thead>\n",
       "  <tbody>\n",
       "    <tr>\n",
       "      <th>0</th>\n",
       "      <td>0.03700</td>\n",
       "      <td>[Shawn Mendes, Camila Cabello]</td>\n",
       "      <td>0.759</td>\n",
       "      <td>190960</td>\n",
       "      <td>0.540</td>\n",
       "      <td>0.000000</td>\n",
       "      <td>9</td>\n",
       "      <td>0.0945</td>\n",
       "      <td>-6.039</td>\n",
       "      <td>0</td>\n",
       "      <td>Señorita</td>\n",
       "      <td>100</td>\n",
       "      <td>2019-06-21</td>\n",
       "      <td>0.0287</td>\n",
       "      <td>116.947</td>\n",
       "      <td>4</td>\n",
       "      <td>0.750</td>\n",
       "    </tr>\n",
       "    <tr>\n",
       "      <th>1</th>\n",
       "      <td>0.91100</td>\n",
       "      <td>[Stephanie Poetri]</td>\n",
       "      <td>0.648</td>\n",
       "      <td>209734</td>\n",
       "      <td>0.382</td>\n",
       "      <td>0.000000</td>\n",
       "      <td>6</td>\n",
       "      <td>0.3930</td>\n",
       "      <td>-7.850</td>\n",
       "      <td>1</td>\n",
       "      <td>I Love You 3000</td>\n",
       "      <td>61</td>\n",
       "      <td>2019-06-03</td>\n",
       "      <td>0.0396</td>\n",
       "      <td>90.099</td>\n",
       "      <td>4</td>\n",
       "      <td>0.408</td>\n",
       "    </tr>\n",
       "    <tr>\n",
       "      <th>2</th>\n",
       "      <td>0.11800</td>\n",
       "      <td>[Rich Brian]</td>\n",
       "      <td>0.756</td>\n",
       "      <td>166145</td>\n",
       "      <td>0.648</td>\n",
       "      <td>0.000000</td>\n",
       "      <td>0</td>\n",
       "      <td>0.5150</td>\n",
       "      <td>-5.287</td>\n",
       "      <td>1</td>\n",
       "      <td>100 Degrees</td>\n",
       "      <td>78</td>\n",
       "      <td>2019-07-26</td>\n",
       "      <td>0.0731</td>\n",
       "      <td>80.979</td>\n",
       "      <td>4</td>\n",
       "      <td>0.657</td>\n",
       "    </tr>\n",
       "    <tr>\n",
       "      <th>3</th>\n",
       "      <td>0.00249</td>\n",
       "      <td>[Rossy]</td>\n",
       "      <td>0.432</td>\n",
       "      <td>257142</td>\n",
       "      <td>0.556</td>\n",
       "      <td>0.000162</td>\n",
       "      <td>9</td>\n",
       "      <td>0.2320</td>\n",
       "      <td>-7.415</td>\n",
       "      <td>0</td>\n",
       "      <td>it is you</td>\n",
       "      <td>36</td>\n",
       "      <td>2019-08-13</td>\n",
       "      <td>0.0282</td>\n",
       "      <td>139.756</td>\n",
       "      <td>4</td>\n",
       "      <td>0.168</td>\n",
       "    </tr>\n",
       "    <tr>\n",
       "      <th>4</th>\n",
       "      <td>0.94600</td>\n",
       "      <td>[Lofi Radiance]</td>\n",
       "      <td>0.700</td>\n",
       "      <td>197333</td>\n",
       "      <td>0.208</td>\n",
       "      <td>0.923000</td>\n",
       "      <td>0</td>\n",
       "      <td>0.0854</td>\n",
       "      <td>-11.410</td>\n",
       "      <td>1</td>\n",
       "      <td>outside the window</td>\n",
       "      <td>33</td>\n",
       "      <td>2019-08-14</td>\n",
       "      <td>0.0724</td>\n",
       "      <td>90.016</td>\n",
       "      <td>4</td>\n",
       "      <td>0.112</td>\n",
       "    </tr>\n",
       "    <tr>\n",
       "      <th>5</th>\n",
       "      <td>0.09120</td>\n",
       "      <td>[Ed Sheeran, Justin Bieber]</td>\n",
       "      <td>0.798</td>\n",
       "      <td>219946</td>\n",
       "      <td>0.675</td>\n",
       "      <td>0.000000</td>\n",
       "      <td>6</td>\n",
       "      <td>0.0894</td>\n",
       "      <td>-5.041</td>\n",
       "      <td>1</td>\n",
       "      <td>I Don't Care (with Justin Bieber)</td>\n",
       "      <td>94</td>\n",
       "      <td>2019-05-10</td>\n",
       "      <td>0.0442</td>\n",
       "      <td>101.956</td>\n",
       "      <td>4</td>\n",
       "      <td>0.842</td>\n",
       "    </tr>\n",
       "    <tr>\n",
       "      <th>6</th>\n",
       "      <td>0.93300</td>\n",
       "      <td>[Andmesh]</td>\n",
       "      <td>0.294</td>\n",
       "      <td>251056</td>\n",
       "      <td>0.146</td>\n",
       "      <td>0.000044</td>\n",
       "      <td>7</td>\n",
       "      <td>0.1300</td>\n",
       "      <td>-13.090</td>\n",
       "      <td>1</td>\n",
       "      <td>Hanya Rindu</td>\n",
       "      <td>76</td>\n",
       "      <td>2019-04-26</td>\n",
       "      <td>0.0336</td>\n",
       "      <td>177.658</td>\n",
       "      <td>3</td>\n",
       "      <td>0.299</td>\n",
       "    </tr>\n",
       "    <tr>\n",
       "      <th>7</th>\n",
       "      <td>0.89100</td>\n",
       "      <td>[Budi Doremi]</td>\n",
       "      <td>0.435</td>\n",
       "      <td>250322</td>\n",
       "      <td>0.200</td>\n",
       "      <td>0.000000</td>\n",
       "      <td>9</td>\n",
       "      <td>0.1030</td>\n",
       "      <td>-12.481</td>\n",
       "      <td>1</td>\n",
       "      <td>Tolong</td>\n",
       "      <td>75</td>\n",
       "      <td>2018-10-30</td>\n",
       "      <td>0.0365</td>\n",
       "      <td>136.054</td>\n",
       "      <td>4</td>\n",
       "      <td>0.244</td>\n",
       "    </tr>\n",
       "    <tr>\n",
       "      <th>8</th>\n",
       "      <td>0.72700</td>\n",
       "      <td>[Andmesh]</td>\n",
       "      <td>0.590</td>\n",
       "      <td>255624</td>\n",
       "      <td>0.263</td>\n",
       "      <td>0.000000</td>\n",
       "      <td>9</td>\n",
       "      <td>0.1170</td>\n",
       "      <td>-10.006</td>\n",
       "      <td>1</td>\n",
       "      <td>Cinta Luar Biasa</td>\n",
       "      <td>76</td>\n",
       "      <td>2018-11-02</td>\n",
       "      <td>0.0283</td>\n",
       "      <td>135.927</td>\n",
       "      <td>4</td>\n",
       "      <td>0.325</td>\n",
       "    </tr>\n",
       "    <tr>\n",
       "      <th>9</th>\n",
       "      <td>0.05750</td>\n",
       "      <td>[ZAYN, Zhavia Ward]</td>\n",
       "      <td>0.302</td>\n",
       "      <td>242956</td>\n",
       "      <td>0.414</td>\n",
       "      <td>0.000000</td>\n",
       "      <td>2</td>\n",
       "      <td>0.0861</td>\n",
       "      <td>-8.160</td>\n",
       "      <td>1</td>\n",
       "      <td>A Whole New World (End Title) - From \"Aladdin\"</td>\n",
       "      <td>81</td>\n",
       "      <td>2019-05-09</td>\n",
       "      <td>0.0319</td>\n",
       "      <td>110.508</td>\n",
       "      <td>4</td>\n",
       "      <td>0.105</td>\n",
       "    </tr>\n",
       "    <tr>\n",
       "      <th>10</th>\n",
       "      <td>0.02090</td>\n",
       "      <td>[Alan Walker, Sabrina Carpenter, Farruko]</td>\n",
       "      <td>0.509</td>\n",
       "      <td>193797</td>\n",
       "      <td>0.689</td>\n",
       "      <td>0.000000</td>\n",
       "      <td>1</td>\n",
       "      <td>0.3010</td>\n",
       "      <td>-4.929</td>\n",
       "      <td>0</td>\n",
       "      <td>On My Way</td>\n",
       "      <td>85</td>\n",
       "      <td>2019-03-21</td>\n",
       "      <td>0.1020</td>\n",
       "      <td>170.087</td>\n",
       "      <td>4</td>\n",
       "      <td>0.297</td>\n",
       "    </tr>\n",
       "    <tr>\n",
       "      <th>11</th>\n",
       "      <td>0.60100</td>\n",
       "      <td>[Jeremy Zucker]</td>\n",
       "      <td>0.794</td>\n",
       "      <td>181613</td>\n",
       "      <td>0.188</td>\n",
       "      <td>0.000000</td>\n",
       "      <td>0</td>\n",
       "      <td>0.6370</td>\n",
       "      <td>-11.957</td>\n",
       "      <td>1</td>\n",
       "      <td>comethru</td>\n",
       "      <td>87</td>\n",
       "      <td>2018-09-28</td>\n",
       "      <td>0.0523</td>\n",
       "      <td>93.967</td>\n",
       "      <td>4</td>\n",
       "      <td>0.640</td>\n",
       "    </tr>\n",
       "    <tr>\n",
       "      <th>12</th>\n",
       "      <td>0.46700</td>\n",
       "      <td>[Naomi Scott]</td>\n",
       "      <td>0.474</td>\n",
       "      <td>208800</td>\n",
       "      <td>0.489</td>\n",
       "      <td>0.000000</td>\n",
       "      <td>6</td>\n",
       "      <td>0.1190</td>\n",
       "      <td>-7.625</td>\n",
       "      <td>0</td>\n",
       "      <td>Speechless (Full)</td>\n",
       "      <td>79</td>\n",
       "      <td>2019-05-22</td>\n",
       "      <td>0.0342</td>\n",
       "      <td>124.844</td>\n",
       "      <td>4</td>\n",
       "      <td>0.230</td>\n",
       "    </tr>\n",
       "    <tr>\n",
       "      <th>13</th>\n",
       "      <td>0.51700</td>\n",
       "      <td>[Marion Jola, Rizky Febian]</td>\n",
       "      <td>0.656</td>\n",
       "      <td>265518</td>\n",
       "      <td>0.445</td>\n",
       "      <td>0.000000</td>\n",
       "      <td>9</td>\n",
       "      <td>0.1420</td>\n",
       "      <td>-5.062</td>\n",
       "      <td>0</td>\n",
       "      <td>Tak Ingin Pisah Lagi</td>\n",
       "      <td>70</td>\n",
       "      <td>2019-05-17</td>\n",
       "      <td>0.0268</td>\n",
       "      <td>95.039</td>\n",
       "      <td>4</td>\n",
       "      <td>0.342</td>\n",
       "    </tr>\n",
       "    <tr>\n",
       "      <th>14</th>\n",
       "      <td>0.30600</td>\n",
       "      <td>[Juicy Luicy]</td>\n",
       "      <td>0.703</td>\n",
       "      <td>218405</td>\n",
       "      <td>0.291</td>\n",
       "      <td>0.000000</td>\n",
       "      <td>11</td>\n",
       "      <td>0.1130</td>\n",
       "      <td>-7.109</td>\n",
       "      <td>1</td>\n",
       "      <td>Tanpa Tergesa</td>\n",
       "      <td>73</td>\n",
       "      <td>2018-02-28</td>\n",
       "      <td>0.0278</td>\n",
       "      <td>96.058</td>\n",
       "      <td>4</td>\n",
       "      <td>0.449</td>\n",
       "    </tr>\n",
       "    <tr>\n",
       "      <th>15</th>\n",
       "      <td>0.74100</td>\n",
       "      <td>[Brisia Jodie]</td>\n",
       "      <td>0.533</td>\n",
       "      <td>271200</td>\n",
       "      <td>0.298</td>\n",
       "      <td>0.000048</td>\n",
       "      <td>9</td>\n",
       "      <td>0.1340</td>\n",
       "      <td>-11.069</td>\n",
       "      <td>1</td>\n",
       "      <td>Kisahku</td>\n",
       "      <td>70</td>\n",
       "      <td>2019-04-26</td>\n",
       "      <td>0.0315</td>\n",
       "      <td>129.676</td>\n",
       "      <td>4</td>\n",
       "      <td>0.112</td>\n",
       "    </tr>\n",
       "    <tr>\n",
       "      <th>16</th>\n",
       "      <td>0.26900</td>\n",
       "      <td>[SHAUN, Conor Maynard, Sam Feldt]</td>\n",
       "      <td>0.737</td>\n",
       "      <td>192452</td>\n",
       "      <td>0.747</td>\n",
       "      <td>0.000000</td>\n",
       "      <td>10</td>\n",
       "      <td>0.2190</td>\n",
       "      <td>-4.818</td>\n",
       "      <td>1</td>\n",
       "      <td>Way Back Home (feat. Conor Maynard) - Sam Feld...</td>\n",
       "      <td>78</td>\n",
       "      <td>2018-12-21</td>\n",
       "      <td>0.0323</td>\n",
       "      <td>105.943</td>\n",
       "      <td>4</td>\n",
       "      <td>0.447</td>\n",
       "    </tr>\n",
       "    <tr>\n",
       "      <th>17</th>\n",
       "      <td>0.07370</td>\n",
       "      <td>[Ava Max]</td>\n",
       "      <td>0.682</td>\n",
       "      <td>183026</td>\n",
       "      <td>0.656</td>\n",
       "      <td>0.000000</td>\n",
       "      <td>6</td>\n",
       "      <td>0.3530</td>\n",
       "      <td>-4.670</td>\n",
       "      <td>1</td>\n",
       "      <td>So Am I</td>\n",
       "      <td>86</td>\n",
       "      <td>2019-03-07</td>\n",
       "      <td>0.0435</td>\n",
       "      <td>130.089</td>\n",
       "      <td>4</td>\n",
       "      <td>0.607</td>\n",
       "    </tr>\n",
       "    <tr>\n",
       "      <th>18</th>\n",
       "      <td>0.12400</td>\n",
       "      <td>[Ed Sheeran, Khalid]</td>\n",
       "      <td>0.640</td>\n",
       "      <td>197866</td>\n",
       "      <td>0.648</td>\n",
       "      <td>0.000000</td>\n",
       "      <td>5</td>\n",
       "      <td>0.0802</td>\n",
       "      <td>-8.113</td>\n",
       "      <td>0</td>\n",
       "      <td>Beautiful People (feat. Khalid)</td>\n",
       "      <td>94</td>\n",
       "      <td>2019-06-28</td>\n",
       "      <td>0.1870</td>\n",
       "      <td>92.977</td>\n",
       "      <td>4</td>\n",
       "      <td>0.548</td>\n",
       "    </tr>\n",
       "    <tr>\n",
       "      <th>19</th>\n",
       "      <td>0.12000</td>\n",
       "      <td>[The Chainsmokers, ILLENIUM, Lennon Stella]</td>\n",
       "      <td>0.294</td>\n",
       "      <td>209893</td>\n",
       "      <td>0.505</td>\n",
       "      <td>0.000000</td>\n",
       "      <td>3</td>\n",
       "      <td>0.0977</td>\n",
       "      <td>-8.106</td>\n",
       "      <td>1</td>\n",
       "      <td>Takeaway</td>\n",
       "      <td>91</td>\n",
       "      <td>2019-07-24</td>\n",
       "      <td>0.0420</td>\n",
       "      <td>85.332</td>\n",
       "      <td>1</td>\n",
       "      <td>0.357</td>\n",
       "    </tr>\n",
       "    <tr>\n",
       "      <th>20</th>\n",
       "      <td>0.19600</td>\n",
       "      <td>[Alan Walker, K-391, Emelie Hollow]</td>\n",
       "      <td>0.423</td>\n",
       "      <td>195840</td>\n",
       "      <td>0.634</td>\n",
       "      <td>0.000000</td>\n",
       "      <td>6</td>\n",
       "      <td>0.1890</td>\n",
       "      <td>-5.877</td>\n",
       "      <td>0</td>\n",
       "      <td>Lily</td>\n",
       "      <td>79</td>\n",
       "      <td>2018-12-14</td>\n",
       "      <td>0.0578</td>\n",
       "      <td>150.978</td>\n",
       "      <td>4</td>\n",
       "      <td>0.467</td>\n",
       "    </tr>\n",
       "    <tr>\n",
       "      <th>21</th>\n",
       "      <td>0.00838</td>\n",
       "      <td>[Taylor Swift]</td>\n",
       "      <td>0.769</td>\n",
       "      <td>171386</td>\n",
       "      <td>0.678</td>\n",
       "      <td>0.000000</td>\n",
       "      <td>2</td>\n",
       "      <td>0.0596</td>\n",
       "      <td>-5.604</td>\n",
       "      <td>1</td>\n",
       "      <td>You Need To Calm Down</td>\n",
       "      <td>83</td>\n",
       "      <td>2019-06-14</td>\n",
       "      <td>0.0507</td>\n",
       "      <td>85.025</td>\n",
       "      <td>4</td>\n",
       "      <td>0.706</td>\n",
       "    </tr>\n",
       "    <tr>\n",
       "      <th>22</th>\n",
       "      <td>0.09230</td>\n",
       "      <td>[BTS, Halsey]</td>\n",
       "      <td>0.645</td>\n",
       "      <td>229773</td>\n",
       "      <td>0.862</td>\n",
       "      <td>0.000000</td>\n",
       "      <td>11</td>\n",
       "      <td>0.1920</td>\n",
       "      <td>-4.757</td>\n",
       "      <td>0</td>\n",
       "      <td>Boy With Luv (feat. Halsey)</td>\n",
       "      <td>87</td>\n",
       "      <td>2019-04-12</td>\n",
       "      <td>0.0965</td>\n",
       "      <td>119.991</td>\n",
       "      <td>4</td>\n",
       "      <td>0.798</td>\n",
       "    </tr>\n",
       "    <tr>\n",
       "      <th>23</th>\n",
       "      <td>0.52300</td>\n",
       "      <td>[Virgoun, Audy]</td>\n",
       "      <td>0.361</td>\n",
       "      <td>313670</td>\n",
       "      <td>0.581</td>\n",
       "      <td>0.000005</td>\n",
       "      <td>0</td>\n",
       "      <td>0.1180</td>\n",
       "      <td>-8.502</td>\n",
       "      <td>1</td>\n",
       "      <td>Selamat (Selamat Tinggal)</td>\n",
       "      <td>70</td>\n",
       "      <td>2019-06-17</td>\n",
       "      <td>0.0302</td>\n",
       "      <td>79.590</td>\n",
       "      <td>4</td>\n",
       "      <td>0.372</td>\n",
       "    </tr>\n",
       "    <tr>\n",
       "      <th>24</th>\n",
       "      <td>0.59800</td>\n",
       "      <td>[Yovie Widianto, Tulus, Glenn Fredly]</td>\n",
       "      <td>0.558</td>\n",
       "      <td>207700</td>\n",
       "      <td>0.374</td>\n",
       "      <td>0.000000</td>\n",
       "      <td>5</td>\n",
       "      <td>0.1080</td>\n",
       "      <td>-12.425</td>\n",
       "      <td>1</td>\n",
       "      <td>Adu Rayu</td>\n",
       "      <td>74</td>\n",
       "      <td>2019-02-22</td>\n",
       "      <td>0.0471</td>\n",
       "      <td>99.953</td>\n",
       "      <td>4</td>\n",
       "      <td>0.217</td>\n",
       "    </tr>\n",
       "    <tr>\n",
       "      <th>25</th>\n",
       "      <td>0.50900</td>\n",
       "      <td>[Marion Jola, Laleilmanino]</td>\n",
       "      <td>0.528</td>\n",
       "      <td>221381</td>\n",
       "      <td>0.579</td>\n",
       "      <td>0.000000</td>\n",
       "      <td>2</td>\n",
       "      <td>0.3330</td>\n",
       "      <td>-7.364</td>\n",
       "      <td>1</td>\n",
       "      <td>Rayu</td>\n",
       "      <td>69</td>\n",
       "      <td>2019-07-19</td>\n",
       "      <td>0.0436</td>\n",
       "      <td>80.776</td>\n",
       "      <td>4</td>\n",
       "      <td>0.434</td>\n",
       "    </tr>\n",
       "    <tr>\n",
       "      <th>26</th>\n",
       "      <td>0.43200</td>\n",
       "      <td>[NIKI]</td>\n",
       "      <td>0.752</td>\n",
       "      <td>171355</td>\n",
       "      <td>0.494</td>\n",
       "      <td>0.000000</td>\n",
       "      <td>0</td>\n",
       "      <td>0.0869</td>\n",
       "      <td>-8.180</td>\n",
       "      <td>1</td>\n",
       "      <td>lowkey</td>\n",
       "      <td>76</td>\n",
       "      <td>2019-04-24</td>\n",
       "      <td>0.0559</td>\n",
       "      <td>117.901</td>\n",
       "      <td>4</td>\n",
       "      <td>0.227</td>\n",
       "    </tr>\n",
       "    <tr>\n",
       "      <th>27</th>\n",
       "      <td>0.44700</td>\n",
       "      <td>[Post Malone, Young Thug]</td>\n",
       "      <td>0.580</td>\n",
       "      <td>174960</td>\n",
       "      <td>0.653</td>\n",
       "      <td>0.000000</td>\n",
       "      <td>5</td>\n",
       "      <td>0.1110</td>\n",
       "      <td>-3.818</td>\n",
       "      <td>1</td>\n",
       "      <td>Goodbyes (Feat. Young Thug)</td>\n",
       "      <td>91</td>\n",
       "      <td>2019-07-05</td>\n",
       "      <td>0.0745</td>\n",
       "      <td>150.231</td>\n",
       "      <td>4</td>\n",
       "      <td>0.175</td>\n",
       "    </tr>\n",
       "    <tr>\n",
       "      <th>28</th>\n",
       "      <td>0.28000</td>\n",
       "      <td>[Ariana Grande]</td>\n",
       "      <td>0.724</td>\n",
       "      <td>207333</td>\n",
       "      <td>0.647</td>\n",
       "      <td>0.000000</td>\n",
       "      <td>1</td>\n",
       "      <td>0.1020</td>\n",
       "      <td>-5.642</td>\n",
       "      <td>1</td>\n",
       "      <td>thank u, next</td>\n",
       "      <td>32</td>\n",
       "      <td>2018-11-03</td>\n",
       "      <td>0.0658</td>\n",
       "      <td>106.960</td>\n",
       "      <td>4</td>\n",
       "      <td>0.435</td>\n",
       "    </tr>\n",
       "    <tr>\n",
       "      <th>29</th>\n",
       "      <td>0.48200</td>\n",
       "      <td>[Lauv, Anne-Marie]</td>\n",
       "      <td>0.806</td>\n",
       "      <td>198973</td>\n",
       "      <td>0.558</td>\n",
       "      <td>0.000000</td>\n",
       "      <td>9</td>\n",
       "      <td>0.0618</td>\n",
       "      <td>-6.460</td>\n",
       "      <td>1</td>\n",
       "      <td>fuck, i'm lonely (with Anne-Marie) - from “13 ...</td>\n",
       "      <td>91</td>\n",
       "      <td>2019-08-02</td>\n",
       "      <td>0.0683</td>\n",
       "      <td>95.016</td>\n",
       "      <td>4</td>\n",
       "      <td>0.678</td>\n",
       "    </tr>\n",
       "    <tr>\n",
       "      <th>30</th>\n",
       "      <td>0.29700</td>\n",
       "      <td>[Halsey]</td>\n",
       "      <td>0.752</td>\n",
       "      <td>201660</td>\n",
       "      <td>0.488</td>\n",
       "      <td>0.000009</td>\n",
       "      <td>6</td>\n",
       "      <td>0.0936</td>\n",
       "      <td>-7.050</td>\n",
       "      <td>1</td>\n",
       "      <td>Without Me</td>\n",
       "      <td>88</td>\n",
       "      <td>2018-10-04</td>\n",
       "      <td>0.0705</td>\n",
       "      <td>136.041</td>\n",
       "      <td>4</td>\n",
       "      <td>0.533</td>\n",
       "    </tr>\n",
       "    <tr>\n",
       "      <th>31</th>\n",
       "      <td>0.16400</td>\n",
       "      <td>[Judika]</td>\n",
       "      <td>0.603</td>\n",
       "      <td>231585</td>\n",
       "      <td>0.466</td>\n",
       "      <td>0.000000</td>\n",
       "      <td>3</td>\n",
       "      <td>0.1940</td>\n",
       "      <td>-4.638</td>\n",
       "      <td>0</td>\n",
       "      <td>Cinta Karena Cinta</td>\n",
       "      <td>70</td>\n",
       "      <td>2019-06-28</td>\n",
       "      <td>0.0276</td>\n",
       "      <td>133.741</td>\n",
       "      <td>4</td>\n",
       "      <td>0.313</td>\n",
       "    </tr>\n",
       "    <tr>\n",
       "      <th>32</th>\n",
       "      <td>0.68500</td>\n",
       "      <td>[3 Composers]</td>\n",
       "      <td>0.689</td>\n",
       "      <td>202551</td>\n",
       "      <td>0.350</td>\n",
       "      <td>0.000000</td>\n",
       "      <td>11</td>\n",
       "      <td>0.1060</td>\n",
       "      <td>-7.773</td>\n",
       "      <td>1</td>\n",
       "      <td>Bangun Cinta</td>\n",
       "      <td>67</td>\n",
       "      <td>2018-04-13</td>\n",
       "      <td>0.0349</td>\n",
       "      <td>88.022</td>\n",
       "      <td>4</td>\n",
       "      <td>0.528</td>\n",
       "    </tr>\n",
       "    <tr>\n",
       "      <th>33</th>\n",
       "      <td>0.93200</td>\n",
       "      <td>[Sal Priadi, Nadin Amizah]</td>\n",
       "      <td>0.388</td>\n",
       "      <td>306048</td>\n",
       "      <td>0.273</td>\n",
       "      <td>0.032300</td>\n",
       "      <td>7</td>\n",
       "      <td>0.1250</td>\n",
       "      <td>-9.969</td>\n",
       "      <td>1</td>\n",
       "      <td>Amin Paling Serius</td>\n",
       "      <td>71</td>\n",
       "      <td>2019-05-29</td>\n",
       "      <td>0.0308</td>\n",
       "      <td>129.364</td>\n",
       "      <td>4</td>\n",
       "      <td>0.192</td>\n",
       "    </tr>\n",
       "    <tr>\n",
       "      <th>34</th>\n",
       "      <td>0.06230</td>\n",
       "      <td>[Marshmello, CHVRCHES]</td>\n",
       "      <td>0.791</td>\n",
       "      <td>156346</td>\n",
       "      <td>0.565</td>\n",
       "      <td>0.000000</td>\n",
       "      <td>5</td>\n",
       "      <td>0.1560</td>\n",
       "      <td>-3.933</td>\n",
       "      <td>0</td>\n",
       "      <td>Here With Me</td>\n",
       "      <td>86</td>\n",
       "      <td>2019-03-08</td>\n",
       "      <td>0.0439</td>\n",
       "      <td>99.961</td>\n",
       "      <td>4</td>\n",
       "      <td>0.181</td>\n",
       "    </tr>\n",
       "    <tr>\n",
       "      <th>35</th>\n",
       "      <td>0.15300</td>\n",
       "      <td>[Sam Smith]</td>\n",
       "      <td>0.477</td>\n",
       "      <td>202204</td>\n",
       "      <td>0.682</td>\n",
       "      <td>0.000000</td>\n",
       "      <td>1</td>\n",
       "      <td>0.0763</td>\n",
       "      <td>-4.931</td>\n",
       "      <td>0</td>\n",
       "      <td>How Do You Sleep?</td>\n",
       "      <td>96</td>\n",
       "      <td>2019-07-19</td>\n",
       "      <td>0.0925</td>\n",
       "      <td>110.567</td>\n",
       "      <td>5</td>\n",
       "      <td>0.345</td>\n",
       "    </tr>\n",
       "    <tr>\n",
       "      <th>36</th>\n",
       "      <td>0.25200</td>\n",
       "      <td>[Billie Eilish, Justin Bieber]</td>\n",
       "      <td>0.670</td>\n",
       "      <td>194839</td>\n",
       "      <td>0.453</td>\n",
       "      <td>0.330000</td>\n",
       "      <td>0</td>\n",
       "      <td>0.1170</td>\n",
       "      <td>-11.265</td>\n",
       "      <td>1</td>\n",
       "      <td>bad guy (with Justin Bieber)</td>\n",
       "      <td>88</td>\n",
       "      <td>2019-07-11</td>\n",
       "      <td>0.2950</td>\n",
       "      <td>135.055</td>\n",
       "      <td>4</td>\n",
       "      <td>0.680</td>\n",
       "    </tr>\n",
       "    <tr>\n",
       "      <th>37</th>\n",
       "      <td>0.11900</td>\n",
       "      <td>[Ariana Grande, Social House]</td>\n",
       "      <td>0.400</td>\n",
       "      <td>186106</td>\n",
       "      <td>0.795</td>\n",
       "      <td>0.000000</td>\n",
       "      <td>10</td>\n",
       "      <td>0.1590</td>\n",
       "      <td>-3.731</td>\n",
       "      <td>0</td>\n",
       "      <td>boyfriend (with Social House)</td>\n",
       "      <td>94</td>\n",
       "      <td>2019-08-02</td>\n",
       "      <td>0.4610</td>\n",
       "      <td>190.097</td>\n",
       "      <td>4</td>\n",
       "      <td>0.702</td>\n",
       "    </tr>\n",
       "    <tr>\n",
       "      <th>38</th>\n",
       "      <td>0.57800</td>\n",
       "      <td>[Ariana Grande]</td>\n",
       "      <td>0.725</td>\n",
       "      <td>178640</td>\n",
       "      <td>0.321</td>\n",
       "      <td>0.000000</td>\n",
       "      <td>1</td>\n",
       "      <td>0.0884</td>\n",
       "      <td>-10.744</td>\n",
       "      <td>0</td>\n",
       "      <td>7 rings</td>\n",
       "      <td>52</td>\n",
       "      <td>2019-01-18</td>\n",
       "      <td>0.3230</td>\n",
       "      <td>70.142</td>\n",
       "      <td>4</td>\n",
       "      <td>0.319</td>\n",
       "    </tr>\n",
       "    <tr>\n",
       "      <th>39</th>\n",
       "      <td>0.65100</td>\n",
       "      <td>[Devano Danendra, Aisyah Aqilah Azhar]</td>\n",
       "      <td>0.547</td>\n",
       "      <td>220128</td>\n",
       "      <td>0.462</td>\n",
       "      <td>0.000161</td>\n",
       "      <td>5</td>\n",
       "      <td>0.1010</td>\n",
       "      <td>-6.262</td>\n",
       "      <td>1</td>\n",
       "      <td>Teman Cintaku (From \"Melodylan\" Original Motio...</td>\n",
       "      <td>64</td>\n",
       "      <td>2019-03-01</td>\n",
       "      <td>0.0267</td>\n",
       "      <td>129.988</td>\n",
       "      <td>4</td>\n",
       "      <td>0.232</td>\n",
       "    </tr>\n",
       "    <tr>\n",
       "      <th>40</th>\n",
       "      <td>0.51100</td>\n",
       "      <td>[Glenn Fredly]</td>\n",
       "      <td>0.479</td>\n",
       "      <td>263437</td>\n",
       "      <td>0.437</td>\n",
       "      <td>0.000000</td>\n",
       "      <td>4</td>\n",
       "      <td>0.0984</td>\n",
       "      <td>-7.975</td>\n",
       "      <td>1</td>\n",
       "      <td>Kembali Ke Awal</td>\n",
       "      <td>67</td>\n",
       "      <td>2019-07-26</td>\n",
       "      <td>0.0370</td>\n",
       "      <td>128.168</td>\n",
       "      <td>4</td>\n",
       "      <td>0.273</td>\n",
       "    </tr>\n",
       "    <tr>\n",
       "      <th>41</th>\n",
       "      <td>0.66000</td>\n",
       "      <td>[Jaz]</td>\n",
       "      <td>0.607</td>\n",
       "      <td>250961</td>\n",
       "      <td>0.523</td>\n",
       "      <td>0.000000</td>\n",
       "      <td>9</td>\n",
       "      <td>0.1390</td>\n",
       "      <td>-7.763</td>\n",
       "      <td>1</td>\n",
       "      <td>Katakan</td>\n",
       "      <td>66</td>\n",
       "      <td>2019-05-31</td>\n",
       "      <td>0.0467</td>\n",
       "      <td>146.083</td>\n",
       "      <td>4</td>\n",
       "      <td>0.299</td>\n",
       "    </tr>\n",
       "    <tr>\n",
       "      <th>42</th>\n",
       "      <td>0.52400</td>\n",
       "      <td>[Shawn Mendes]</td>\n",
       "      <td>0.692</td>\n",
       "      <td>190800</td>\n",
       "      <td>0.809</td>\n",
       "      <td>0.000000</td>\n",
       "      <td>2</td>\n",
       "      <td>0.1470</td>\n",
       "      <td>-4.198</td>\n",
       "      <td>1</td>\n",
       "      <td>If I Can't Have You</td>\n",
       "      <td>88</td>\n",
       "      <td>2019-05-03</td>\n",
       "      <td>0.0602</td>\n",
       "      <td>123.911</td>\n",
       "      <td>4</td>\n",
       "      <td>0.864</td>\n",
       "    </tr>\n",
       "    <tr>\n",
       "      <th>43</th>\n",
       "      <td>0.42200</td>\n",
       "      <td>[Joji]</td>\n",
       "      <td>0.552</td>\n",
       "      <td>180018</td>\n",
       "      <td>0.650</td>\n",
       "      <td>0.000275</td>\n",
       "      <td>1</td>\n",
       "      <td>0.3720</td>\n",
       "      <td>-7.199</td>\n",
       "      <td>1</td>\n",
       "      <td>Sanctuary</td>\n",
       "      <td>83</td>\n",
       "      <td>2019-06-14</td>\n",
       "      <td>0.1280</td>\n",
       "      <td>167.788</td>\n",
       "      <td>4</td>\n",
       "      <td>0.316</td>\n",
       "    </tr>\n",
       "  </tbody>\n",
       "</table>\n",
       "</div>"
      ],
      "text/plain": [
       "    acousticness                                      artists  danceability  \\\n",
       "0        0.03700               [Shawn Mendes, Camila Cabello]         0.759   \n",
       "1        0.91100                           [Stephanie Poetri]         0.648   \n",
       "2        0.11800                                 [Rich Brian]         0.756   \n",
       "3        0.00249                                      [Rossy]         0.432   \n",
       "4        0.94600                              [Lofi Radiance]         0.700   \n",
       "5        0.09120                  [Ed Sheeran, Justin Bieber]         0.798   \n",
       "6        0.93300                                    [Andmesh]         0.294   \n",
       "7        0.89100                                [Budi Doremi]         0.435   \n",
       "8        0.72700                                    [Andmesh]         0.590   \n",
       "9        0.05750                          [ZAYN, Zhavia Ward]         0.302   \n",
       "10       0.02090    [Alan Walker, Sabrina Carpenter, Farruko]         0.509   \n",
       "11       0.60100                              [Jeremy Zucker]         0.794   \n",
       "12       0.46700                                [Naomi Scott]         0.474   \n",
       "13       0.51700                  [Marion Jola, Rizky Febian]         0.656   \n",
       "14       0.30600                                [Juicy Luicy]         0.703   \n",
       "15       0.74100                               [Brisia Jodie]         0.533   \n",
       "16       0.26900            [SHAUN, Conor Maynard, Sam Feldt]         0.737   \n",
       "17       0.07370                                    [Ava Max]         0.682   \n",
       "18       0.12400                         [Ed Sheeran, Khalid]         0.640   \n",
       "19       0.12000  [The Chainsmokers, ILLENIUM, Lennon Stella]         0.294   \n",
       "20       0.19600          [Alan Walker, K-391, Emelie Hollow]         0.423   \n",
       "21       0.00838                               [Taylor Swift]         0.769   \n",
       "22       0.09230                                [BTS, Halsey]         0.645   \n",
       "23       0.52300                              [Virgoun, Audy]         0.361   \n",
       "24       0.59800        [Yovie Widianto, Tulus, Glenn Fredly]         0.558   \n",
       "25       0.50900                  [Marion Jola, Laleilmanino]         0.528   \n",
       "26       0.43200                                       [NIKI]         0.752   \n",
       "27       0.44700                    [Post Malone, Young Thug]         0.580   \n",
       "28       0.28000                              [Ariana Grande]         0.724   \n",
       "29       0.48200                           [Lauv, Anne-Marie]         0.806   \n",
       "30       0.29700                                     [Halsey]         0.752   \n",
       "31       0.16400                                     [Judika]         0.603   \n",
       "32       0.68500                                [3 Composers]         0.689   \n",
       "33       0.93200                   [Sal Priadi, Nadin Amizah]         0.388   \n",
       "34       0.06230                       [Marshmello, CHVRCHES]         0.791   \n",
       "35       0.15300                                  [Sam Smith]         0.477   \n",
       "36       0.25200               [Billie Eilish, Justin Bieber]         0.670   \n",
       "37       0.11900                [Ariana Grande, Social House]         0.400   \n",
       "38       0.57800                              [Ariana Grande]         0.725   \n",
       "39       0.65100       [Devano Danendra, Aisyah Aqilah Azhar]         0.547   \n",
       "40       0.51100                               [Glenn Fredly]         0.479   \n",
       "41       0.66000                                        [Jaz]         0.607   \n",
       "42       0.52400                               [Shawn Mendes]         0.692   \n",
       "43       0.42200                                       [Joji]         0.552   \n",
       "\n",
       "    duration  energy  instrumentalness  key  liveness  loudness  mode  \\\n",
       "0     190960   0.540          0.000000    9    0.0945    -6.039     0   \n",
       "1     209734   0.382          0.000000    6    0.3930    -7.850     1   \n",
       "2     166145   0.648          0.000000    0    0.5150    -5.287     1   \n",
       "3     257142   0.556          0.000162    9    0.2320    -7.415     0   \n",
       "4     197333   0.208          0.923000    0    0.0854   -11.410     1   \n",
       "5     219946   0.675          0.000000    6    0.0894    -5.041     1   \n",
       "6     251056   0.146          0.000044    7    0.1300   -13.090     1   \n",
       "7     250322   0.200          0.000000    9    0.1030   -12.481     1   \n",
       "8     255624   0.263          0.000000    9    0.1170   -10.006     1   \n",
       "9     242956   0.414          0.000000    2    0.0861    -8.160     1   \n",
       "10    193797   0.689          0.000000    1    0.3010    -4.929     0   \n",
       "11    181613   0.188          0.000000    0    0.6370   -11.957     1   \n",
       "12    208800   0.489          0.000000    6    0.1190    -7.625     0   \n",
       "13    265518   0.445          0.000000    9    0.1420    -5.062     0   \n",
       "14    218405   0.291          0.000000   11    0.1130    -7.109     1   \n",
       "15    271200   0.298          0.000048    9    0.1340   -11.069     1   \n",
       "16    192452   0.747          0.000000   10    0.2190    -4.818     1   \n",
       "17    183026   0.656          0.000000    6    0.3530    -4.670     1   \n",
       "18    197866   0.648          0.000000    5    0.0802    -8.113     0   \n",
       "19    209893   0.505          0.000000    3    0.0977    -8.106     1   \n",
       "20    195840   0.634          0.000000    6    0.1890    -5.877     0   \n",
       "21    171386   0.678          0.000000    2    0.0596    -5.604     1   \n",
       "22    229773   0.862          0.000000   11    0.1920    -4.757     0   \n",
       "23    313670   0.581          0.000005    0    0.1180    -8.502     1   \n",
       "24    207700   0.374          0.000000    5    0.1080   -12.425     1   \n",
       "25    221381   0.579          0.000000    2    0.3330    -7.364     1   \n",
       "26    171355   0.494          0.000000    0    0.0869    -8.180     1   \n",
       "27    174960   0.653          0.000000    5    0.1110    -3.818     1   \n",
       "28    207333   0.647          0.000000    1    0.1020    -5.642     1   \n",
       "29    198973   0.558          0.000000    9    0.0618    -6.460     1   \n",
       "30    201660   0.488          0.000009    6    0.0936    -7.050     1   \n",
       "31    231585   0.466          0.000000    3    0.1940    -4.638     0   \n",
       "32    202551   0.350          0.000000   11    0.1060    -7.773     1   \n",
       "33    306048   0.273          0.032300    7    0.1250    -9.969     1   \n",
       "34    156346   0.565          0.000000    5    0.1560    -3.933     0   \n",
       "35    202204   0.682          0.000000    1    0.0763    -4.931     0   \n",
       "36    194839   0.453          0.330000    0    0.1170   -11.265     1   \n",
       "37    186106   0.795          0.000000   10    0.1590    -3.731     0   \n",
       "38    178640   0.321          0.000000    1    0.0884   -10.744     0   \n",
       "39    220128   0.462          0.000161    5    0.1010    -6.262     1   \n",
       "40    263437   0.437          0.000000    4    0.0984    -7.975     1   \n",
       "41    250961   0.523          0.000000    9    0.1390    -7.763     1   \n",
       "42    190800   0.809          0.000000    2    0.1470    -4.198     1   \n",
       "43    180018   0.650          0.000275    1    0.3720    -7.199     1   \n",
       "\n",
       "                                                 name  popularity  \\\n",
       "0                                            Señorita         100   \n",
       "1                                     I Love You 3000          61   \n",
       "2                                         100 Degrees          78   \n",
       "3                                           it is you          36   \n",
       "4                                  outside the window          33   \n",
       "5                   I Don't Care (with Justin Bieber)          94   \n",
       "6                                         Hanya Rindu          76   \n",
       "7                                              Tolong          75   \n",
       "8                                    Cinta Luar Biasa          76   \n",
       "9      A Whole New World (End Title) - From \"Aladdin\"          81   \n",
       "10                                          On My Way          85   \n",
       "11                                           comethru          87   \n",
       "12                                  Speechless (Full)          79   \n",
       "13                               Tak Ingin Pisah Lagi          70   \n",
       "14                                      Tanpa Tergesa          73   \n",
       "15                                            Kisahku          70   \n",
       "16  Way Back Home (feat. Conor Maynard) - Sam Feld...          78   \n",
       "17                                            So Am I          86   \n",
       "18                    Beautiful People (feat. Khalid)          94   \n",
       "19                                           Takeaway          91   \n",
       "20                                               Lily          79   \n",
       "21                              You Need To Calm Down          83   \n",
       "22                        Boy With Luv (feat. Halsey)          87   \n",
       "23                          Selamat (Selamat Tinggal)          70   \n",
       "24                                           Adu Rayu          74   \n",
       "25                                               Rayu          69   \n",
       "26                                             lowkey          76   \n",
       "27                        Goodbyes (Feat. Young Thug)          91   \n",
       "28                                      thank u, next          32   \n",
       "29  fuck, i'm lonely (with Anne-Marie) - from “13 ...          91   \n",
       "30                                         Without Me          88   \n",
       "31                                 Cinta Karena Cinta          70   \n",
       "32                                       Bangun Cinta          67   \n",
       "33                                 Amin Paling Serius          71   \n",
       "34                                       Here With Me          86   \n",
       "35                                  How Do You Sleep?          96   \n",
       "36                       bad guy (with Justin Bieber)          88   \n",
       "37                      boyfriend (with Social House)          94   \n",
       "38                                            7 rings          52   \n",
       "39  Teman Cintaku (From \"Melodylan\" Original Motio...          64   \n",
       "40                                    Kembali Ke Awal          67   \n",
       "41                                            Katakan          66   \n",
       "42                                If I Can't Have You          88   \n",
       "43                                          Sanctuary          83   \n",
       "\n",
       "   release_date  speechiness    tempo  time_signature  valence  \n",
       "0    2019-06-21       0.0287  116.947               4    0.750  \n",
       "1    2019-06-03       0.0396   90.099               4    0.408  \n",
       "2    2019-07-26       0.0731   80.979               4    0.657  \n",
       "3    2019-08-13       0.0282  139.756               4    0.168  \n",
       "4    2019-08-14       0.0724   90.016               4    0.112  \n",
       "5    2019-05-10       0.0442  101.956               4    0.842  \n",
       "6    2019-04-26       0.0336  177.658               3    0.299  \n",
       "7    2018-10-30       0.0365  136.054               4    0.244  \n",
       "8    2018-11-02       0.0283  135.927               4    0.325  \n",
       "9    2019-05-09       0.0319  110.508               4    0.105  \n",
       "10   2019-03-21       0.1020  170.087               4    0.297  \n",
       "11   2018-09-28       0.0523   93.967               4    0.640  \n",
       "12   2019-05-22       0.0342  124.844               4    0.230  \n",
       "13   2019-05-17       0.0268   95.039               4    0.342  \n",
       "14   2018-02-28       0.0278   96.058               4    0.449  \n",
       "15   2019-04-26       0.0315  129.676               4    0.112  \n",
       "16   2018-12-21       0.0323  105.943               4    0.447  \n",
       "17   2019-03-07       0.0435  130.089               4    0.607  \n",
       "18   2019-06-28       0.1870   92.977               4    0.548  \n",
       "19   2019-07-24       0.0420   85.332               1    0.357  \n",
       "20   2018-12-14       0.0578  150.978               4    0.467  \n",
       "21   2019-06-14       0.0507   85.025               4    0.706  \n",
       "22   2019-04-12       0.0965  119.991               4    0.798  \n",
       "23   2019-06-17       0.0302   79.590               4    0.372  \n",
       "24   2019-02-22       0.0471   99.953               4    0.217  \n",
       "25   2019-07-19       0.0436   80.776               4    0.434  \n",
       "26   2019-04-24       0.0559  117.901               4    0.227  \n",
       "27   2019-07-05       0.0745  150.231               4    0.175  \n",
       "28   2018-11-03       0.0658  106.960               4    0.435  \n",
       "29   2019-08-02       0.0683   95.016               4    0.678  \n",
       "30   2018-10-04       0.0705  136.041               4    0.533  \n",
       "31   2019-06-28       0.0276  133.741               4    0.313  \n",
       "32   2018-04-13       0.0349   88.022               4    0.528  \n",
       "33   2019-05-29       0.0308  129.364               4    0.192  \n",
       "34   2019-03-08       0.0439   99.961               4    0.181  \n",
       "35   2019-07-19       0.0925  110.567               5    0.345  \n",
       "36   2019-07-11       0.2950  135.055               4    0.680  \n",
       "37   2019-08-02       0.4610  190.097               4    0.702  \n",
       "38   2019-01-18       0.3230   70.142               4    0.319  \n",
       "39   2019-03-01       0.0267  129.988               4    0.232  \n",
       "40   2019-07-26       0.0370  128.168               4    0.273  \n",
       "41   2019-05-31       0.0467  146.083               4    0.299  \n",
       "42   2019-05-03       0.0602  123.911               4    0.864  \n",
       "43   2019-06-14       0.1280  167.788               4    0.316  "
      ]
     },
     "execution_count": 32,
     "metadata": {},
     "output_type": "execute_result"
    }
   ],
   "source": [
    "clean_af.drop(columns=['duration_ms'], inplace=True)\n",
    "clean_af"
   ]
  },
  {
   "cell_type": "code",
   "execution_count": 33,
   "metadata": {},
   "outputs": [
    {
     "data": {
      "text/html": [
       "<div>\n",
       "<style scoped>\n",
       "    .dataframe tbody tr th:only-of-type {\n",
       "        vertical-align: middle;\n",
       "    }\n",
       "\n",
       "    .dataframe tbody tr th {\n",
       "        vertical-align: top;\n",
       "    }\n",
       "\n",
       "    .dataframe thead th {\n",
       "        text-align: right;\n",
       "    }\n",
       "</style>\n",
       "<table border=\"1\" class=\"dataframe\">\n",
       "  <thead>\n",
       "    <tr style=\"text-align: right;\">\n",
       "      <th></th>\n",
       "      <th>acousticness</th>\n",
       "      <th>danceability</th>\n",
       "      <th>duration</th>\n",
       "      <th>energy</th>\n",
       "      <th>instrumentalness</th>\n",
       "      <th>key</th>\n",
       "      <th>liveness</th>\n",
       "      <th>loudness</th>\n",
       "      <th>mode</th>\n",
       "      <th>popularity</th>\n",
       "      <th>speechiness</th>\n",
       "      <th>tempo</th>\n",
       "      <th>time_signature</th>\n",
       "      <th>valence</th>\n",
       "    </tr>\n",
       "  </thead>\n",
       "  <tbody>\n",
       "    <tr>\n",
       "      <th>count</th>\n",
       "      <td>44.000000</td>\n",
       "      <td>44.000000</td>\n",
       "      <td>44.000000</td>\n",
       "      <td>44.000000</td>\n",
       "      <td>44.000000</td>\n",
       "      <td>44.000000</td>\n",
       "      <td>44.000000</td>\n",
       "      <td>44.000000</td>\n",
       "      <td>44.000000</td>\n",
       "      <td>44.000000</td>\n",
       "      <td>44.000000</td>\n",
       "      <td>44.000000</td>\n",
       "      <td>44.000000</td>\n",
       "      <td>44.000000</td>\n",
       "    </tr>\n",
       "    <tr>\n",
       "      <th>mean</th>\n",
       "      <td>0.398449</td>\n",
       "      <td>0.596682</td>\n",
       "      <td>214124.590909</td>\n",
       "      <td>0.507318</td>\n",
       "      <td>0.029227</td>\n",
       "      <td>5.068182</td>\n",
       "      <td>0.167620</td>\n",
       "      <td>-7.415841</td>\n",
       "      <td>0.704545</td>\n",
       "      <td>76.250000</td>\n",
       "      <td>0.074184</td>\n",
       "      <td>117.710477</td>\n",
       "      <td>3.931818</td>\n",
       "      <td>0.414205</td>\n",
       "    </tr>\n",
       "    <tr>\n",
       "      <th>std</th>\n",
       "      <td>0.291587</td>\n",
       "      <td>0.149656</td>\n",
       "      <td>36057.836175</td>\n",
       "      <td>0.178925</td>\n",
       "      <td>0.146612</td>\n",
       "      <td>3.656137</td>\n",
       "      <td>0.123528</td>\n",
       "      <td>2.621139</td>\n",
       "      <td>0.461522</td>\n",
       "      <td>15.662316</td>\n",
       "      <td>0.086101</td>\n",
       "      <td>28.429905</td>\n",
       "      <td>0.501056</td>\n",
       "      <td>0.212059</td>\n",
       "    </tr>\n",
       "    <tr>\n",
       "      <th>min</th>\n",
       "      <td>0.002490</td>\n",
       "      <td>0.294000</td>\n",
       "      <td>156346.000000</td>\n",
       "      <td>0.146000</td>\n",
       "      <td>0.000000</td>\n",
       "      <td>0.000000</td>\n",
       "      <td>0.059600</td>\n",
       "      <td>-13.090000</td>\n",
       "      <td>0.000000</td>\n",
       "      <td>32.000000</td>\n",
       "      <td>0.026700</td>\n",
       "      <td>70.142000</td>\n",
       "      <td>1.000000</td>\n",
       "      <td>0.105000</td>\n",
       "    </tr>\n",
       "    <tr>\n",
       "      <th>25%</th>\n",
       "      <td>0.119750</td>\n",
       "      <td>0.478500</td>\n",
       "      <td>190920.000000</td>\n",
       "      <td>0.380000</td>\n",
       "      <td>0.000000</td>\n",
       "      <td>1.750000</td>\n",
       "      <td>0.096900</td>\n",
       "      <td>-8.260500</td>\n",
       "      <td>0.000000</td>\n",
       "      <td>70.000000</td>\n",
       "      <td>0.032200</td>\n",
       "      <td>94.753750</td>\n",
       "      <td>4.000000</td>\n",
       "      <td>0.241000</td>\n",
       "    </tr>\n",
       "    <tr>\n",
       "      <th>50%</th>\n",
       "      <td>0.427000</td>\n",
       "      <td>0.623500</td>\n",
       "      <td>204942.000000</td>\n",
       "      <td>0.514000</td>\n",
       "      <td>0.000000</td>\n",
       "      <td>5.000000</td>\n",
       "      <td>0.117500</td>\n",
       "      <td>-7.281500</td>\n",
       "      <td>1.000000</td>\n",
       "      <td>78.000000</td>\n",
       "      <td>0.044050</td>\n",
       "      <td>117.424000</td>\n",
       "      <td>4.000000</td>\n",
       "      <td>0.351000</td>\n",
       "    </tr>\n",
       "    <tr>\n",
       "      <th>75%</th>\n",
       "      <td>0.598750</td>\n",
       "      <td>0.724250</td>\n",
       "      <td>234427.750000</td>\n",
       "      <td>0.648500</td>\n",
       "      <td>0.000000</td>\n",
       "      <td>9.000000</td>\n",
       "      <td>0.189750</td>\n",
       "      <td>-5.056750</td>\n",
       "      <td>1.000000</td>\n",
       "      <td>87.250000</td>\n",
       "      <td>0.070975</td>\n",
       "      <td>135.273000</td>\n",
       "      <td>4.000000</td>\n",
       "      <td>0.562750</td>\n",
       "    </tr>\n",
       "    <tr>\n",
       "      <th>max</th>\n",
       "      <td>0.946000</td>\n",
       "      <td>0.806000</td>\n",
       "      <td>313670.000000</td>\n",
       "      <td>0.862000</td>\n",
       "      <td>0.923000</td>\n",
       "      <td>11.000000</td>\n",
       "      <td>0.637000</td>\n",
       "      <td>-3.731000</td>\n",
       "      <td>1.000000</td>\n",
       "      <td>100.000000</td>\n",
       "      <td>0.461000</td>\n",
       "      <td>190.097000</td>\n",
       "      <td>5.000000</td>\n",
       "      <td>0.864000</td>\n",
       "    </tr>\n",
       "  </tbody>\n",
       "</table>\n",
       "</div>"
      ],
      "text/plain": [
       "       acousticness  danceability       duration     energy  instrumentalness  \\\n",
       "count     44.000000     44.000000      44.000000  44.000000         44.000000   \n",
       "mean       0.398449      0.596682  214124.590909   0.507318          0.029227   \n",
       "std        0.291587      0.149656   36057.836175   0.178925          0.146612   \n",
       "min        0.002490      0.294000  156346.000000   0.146000          0.000000   \n",
       "25%        0.119750      0.478500  190920.000000   0.380000          0.000000   \n",
       "50%        0.427000      0.623500  204942.000000   0.514000          0.000000   \n",
       "75%        0.598750      0.724250  234427.750000   0.648500          0.000000   \n",
       "max        0.946000      0.806000  313670.000000   0.862000          0.923000   \n",
       "\n",
       "             key   liveness   loudness       mode  popularity  speechiness  \\\n",
       "count  44.000000  44.000000  44.000000  44.000000   44.000000    44.000000   \n",
       "mean    5.068182   0.167620  -7.415841   0.704545   76.250000     0.074184   \n",
       "std     3.656137   0.123528   2.621139   0.461522   15.662316     0.086101   \n",
       "min     0.000000   0.059600 -13.090000   0.000000   32.000000     0.026700   \n",
       "25%     1.750000   0.096900  -8.260500   0.000000   70.000000     0.032200   \n",
       "50%     5.000000   0.117500  -7.281500   1.000000   78.000000     0.044050   \n",
       "75%     9.000000   0.189750  -5.056750   1.000000   87.250000     0.070975   \n",
       "max    11.000000   0.637000  -3.731000   1.000000  100.000000     0.461000   \n",
       "\n",
       "            tempo  time_signature    valence  \n",
       "count   44.000000       44.000000  44.000000  \n",
       "mean   117.710477        3.931818   0.414205  \n",
       "std     28.429905        0.501056   0.212059  \n",
       "min     70.142000        1.000000   0.105000  \n",
       "25%     94.753750        4.000000   0.241000  \n",
       "50%    117.424000        4.000000   0.351000  \n",
       "75%    135.273000        4.000000   0.562750  \n",
       "max    190.097000        5.000000   0.864000  "
      ]
     },
     "execution_count": 33,
     "metadata": {},
     "output_type": "execute_result"
    }
   ],
   "source": [
    "clean_af.select_dtypes(exclude='object').describe()"
   ]
  },
  {
   "cell_type": "markdown",
   "metadata": {},
   "source": [
    "non normalized data :\n",
    "    - durations ( 0 to infinity)\n",
    "    - key ( 0 to 12, based on its documentation)\n",
    "    - loudness (-60 to 0)\n",
    "    - popularity (0 to 100)\n",
    "    - tempo (0 to infinity)\n",
    "    - time_signature (3 to 7, denoting number beat per bar, 3/7 to 7/7)\n",
    "    \n"
   ]
  },
  {
   "cell_type": "markdown",
   "metadata": {},
   "source": [
    "Since we have a standard scale, we can normalize key, loudness, popularity, and time_signature easiliy while keeping its interpretability. As for durations and tempo, there is no such a scale limiting their value so we will normalize them based on the data (using minimum and maximum values). Why do we need to scale or standardize ? [this blog post](https://towardsdatascience.com/scale-standardize-or-normalize-with-scikit-learn-6ccc7d176a02) give a brief introduction of why you should do that.\n",
    "\n",
    "These equation may help you summarize the process of normalied value (denoted by $z$)"
   ]
  },
  {
   "cell_type": "markdown",
   "metadata": {},
   "source": [
    "$$ z = \\frac{x - min(x)}{max(x) - min(x)}$$"
   ]
  },
  {
   "cell_type": "markdown",
   "metadata": {},
   "source": [
    "$$ x = z * (max(x) - min(x))  + min(x)$$"
   ]
  },
  {
   "cell_type": "code",
   "execution_count": 34,
   "metadata": {},
   "outputs": [],
   "source": [
    "class SpNormalizer():\n",
    "    def __init__(self, feature):\n",
    "        self.min_val = feature.min()\n",
    "        self.max_val = feature.max()\n",
    "        self.mean_val = feature.mean()\n",
    "        \n",
    "        self.norm_cols = ['duration', 'key','loudness', 'popularity', 'tempo', 'time_signature']\n",
    "        \n",
    "        self.min_val[['duration', 'key','loudness', 'popularity', 'tempo', 'time_signature']] = [0,0,-60,0,0,3]\n",
    "        self.max_val[['key','loudness', 'popularity', 'time_signature']] = [12,0,100,7]\n",
    "        \n",
    "    def scale(self, feature):\n",
    "        _feature = feature.copy()\n",
    "        for col in self.norm_cols:\n",
    "            _feature[col] = _feature[col].apply(lambda x : (x - self.min_val[col])/(self.max_val[col] - self.min_val[col]))\n",
    "        return _feature\n",
    "\n",
    "    \n",
    "    def descale(self, feature):\n",
    "        _feature = feature.copy()\n",
    "        \n",
    "        for col in self.norm_cols:\n",
    "            _feature[col] = _feature[col].apply(lambda x : x *(self.max_val[col] - self.min_val[col]) + self.min_val[col])\n",
    "        return _feature"
   ]
  },
  {
   "cell_type": "markdown",
   "metadata": {},
   "source": [
    "To make sure that our normalizer works well, let's try to normalize and then denormalize them."
   ]
  },
  {
   "cell_type": "code",
   "execution_count": 35,
   "metadata": {},
   "outputs": [],
   "source": [
    "a = clean_af.copy()\n",
    "spnorm = SpNormalizer(a)\n",
    "a2 = spnorm.scale(a)\n",
    "a3 = spnorm.descale(a2)"
   ]
  },
  {
   "cell_type": "code",
   "execution_count": 36,
   "metadata": {},
   "outputs": [
    {
     "data": {
      "text/html": [
       "<div>\n",
       "<style scoped>\n",
       "    .dataframe tbody tr th:only-of-type {\n",
       "        vertical-align: middle;\n",
       "    }\n",
       "\n",
       "    .dataframe tbody tr th {\n",
       "        vertical-align: top;\n",
       "    }\n",
       "\n",
       "    .dataframe thead th {\n",
       "        text-align: right;\n",
       "    }\n",
       "</style>\n",
       "<table border=\"1\" class=\"dataframe\">\n",
       "  <thead>\n",
       "    <tr style=\"text-align: right;\">\n",
       "      <th></th>\n",
       "      <th>acousticness</th>\n",
       "      <th>artists</th>\n",
       "      <th>danceability</th>\n",
       "      <th>duration</th>\n",
       "      <th>energy</th>\n",
       "      <th>instrumentalness</th>\n",
       "      <th>key</th>\n",
       "      <th>liveness</th>\n",
       "      <th>loudness</th>\n",
       "      <th>mode</th>\n",
       "      <th>name</th>\n",
       "      <th>popularity</th>\n",
       "      <th>release_date</th>\n",
       "      <th>speechiness</th>\n",
       "      <th>tempo</th>\n",
       "      <th>time_signature</th>\n",
       "      <th>valence</th>\n",
       "    </tr>\n",
       "  </thead>\n",
       "  <tbody>\n",
       "    <tr>\n",
       "      <th>0</th>\n",
       "      <td>0.03700</td>\n",
       "      <td>[Shawn Mendes, Camila Cabello]</td>\n",
       "      <td>0.759</td>\n",
       "      <td>0.608793</td>\n",
       "      <td>0.540</td>\n",
       "      <td>0.000000</td>\n",
       "      <td>0.75</td>\n",
       "      <td>0.0945</td>\n",
       "      <td>0.899350</td>\n",
       "      <td>0</td>\n",
       "      <td>Señorita</td>\n",
       "      <td>1.00</td>\n",
       "      <td>2019-06-21</td>\n",
       "      <td>0.0287</td>\n",
       "      <td>0.615196</td>\n",
       "      <td>0.25</td>\n",
       "      <td>0.750</td>\n",
       "    </tr>\n",
       "    <tr>\n",
       "      <th>1</th>\n",
       "      <td>0.91100</td>\n",
       "      <td>[Stephanie Poetri]</td>\n",
       "      <td>0.648</td>\n",
       "      <td>0.668645</td>\n",
       "      <td>0.382</td>\n",
       "      <td>0.000000</td>\n",
       "      <td>0.50</td>\n",
       "      <td>0.3930</td>\n",
       "      <td>0.869167</td>\n",
       "      <td>1</td>\n",
       "      <td>I Love You 3000</td>\n",
       "      <td>0.61</td>\n",
       "      <td>2019-06-03</td>\n",
       "      <td>0.0396</td>\n",
       "      <td>0.473963</td>\n",
       "      <td>0.25</td>\n",
       "      <td>0.408</td>\n",
       "    </tr>\n",
       "    <tr>\n",
       "      <th>2</th>\n",
       "      <td>0.11800</td>\n",
       "      <td>[Rich Brian]</td>\n",
       "      <td>0.756</td>\n",
       "      <td>0.529681</td>\n",
       "      <td>0.648</td>\n",
       "      <td>0.000000</td>\n",
       "      <td>0.00</td>\n",
       "      <td>0.5150</td>\n",
       "      <td>0.911883</td>\n",
       "      <td>1</td>\n",
       "      <td>100 Degrees</td>\n",
       "      <td>0.78</td>\n",
       "      <td>2019-07-26</td>\n",
       "      <td>0.0731</td>\n",
       "      <td>0.425988</td>\n",
       "      <td>0.25</td>\n",
       "      <td>0.657</td>\n",
       "    </tr>\n",
       "    <tr>\n",
       "      <th>3</th>\n",
       "      <td>0.00249</td>\n",
       "      <td>[Rossy]</td>\n",
       "      <td>0.432</td>\n",
       "      <td>0.819785</td>\n",
       "      <td>0.556</td>\n",
       "      <td>0.000162</td>\n",
       "      <td>0.75</td>\n",
       "      <td>0.2320</td>\n",
       "      <td>0.876417</td>\n",
       "      <td>0</td>\n",
       "      <td>it is you</td>\n",
       "      <td>0.36</td>\n",
       "      <td>2019-08-13</td>\n",
       "      <td>0.0282</td>\n",
       "      <td>0.735183</td>\n",
       "      <td>0.25</td>\n",
       "      <td>0.168</td>\n",
       "    </tr>\n",
       "    <tr>\n",
       "      <th>4</th>\n",
       "      <td>0.94600</td>\n",
       "      <td>[Lofi Radiance]</td>\n",
       "      <td>0.700</td>\n",
       "      <td>0.629110</td>\n",
       "      <td>0.208</td>\n",
       "      <td>0.923000</td>\n",
       "      <td>0.00</td>\n",
       "      <td>0.0854</td>\n",
       "      <td>0.809833</td>\n",
       "      <td>1</td>\n",
       "      <td>outside the window</td>\n",
       "      <td>0.33</td>\n",
       "      <td>2019-08-14</td>\n",
       "      <td>0.0724</td>\n",
       "      <td>0.473527</td>\n",
       "      <td>0.25</td>\n",
       "      <td>0.112</td>\n",
       "    </tr>\n",
       "  </tbody>\n",
       "</table>\n",
       "</div>"
      ],
      "text/plain": [
       "   acousticness                         artists  danceability  duration  \\\n",
       "0       0.03700  [Shawn Mendes, Camila Cabello]         0.759  0.608793   \n",
       "1       0.91100              [Stephanie Poetri]         0.648  0.668645   \n",
       "2       0.11800                    [Rich Brian]         0.756  0.529681   \n",
       "3       0.00249                         [Rossy]         0.432  0.819785   \n",
       "4       0.94600                 [Lofi Radiance]         0.700  0.629110   \n",
       "\n",
       "   energy  instrumentalness   key  liveness  loudness  mode  \\\n",
       "0   0.540          0.000000  0.75    0.0945  0.899350     0   \n",
       "1   0.382          0.000000  0.50    0.3930  0.869167     1   \n",
       "2   0.648          0.000000  0.00    0.5150  0.911883     1   \n",
       "3   0.556          0.000162  0.75    0.2320  0.876417     0   \n",
       "4   0.208          0.923000  0.00    0.0854  0.809833     1   \n",
       "\n",
       "                 name  popularity release_date  speechiness     tempo  \\\n",
       "0            Señorita        1.00   2019-06-21       0.0287  0.615196   \n",
       "1     I Love You 3000        0.61   2019-06-03       0.0396  0.473963   \n",
       "2         100 Degrees        0.78   2019-07-26       0.0731  0.425988   \n",
       "3           it is you        0.36   2019-08-13       0.0282  0.735183   \n",
       "4  outside the window        0.33   2019-08-14       0.0724  0.473527   \n",
       "\n",
       "   time_signature  valence  \n",
       "0            0.25    0.750  \n",
       "1            0.25    0.408  \n",
       "2            0.25    0.657  \n",
       "3            0.25    0.168  \n",
       "4            0.25    0.112  "
      ]
     },
     "execution_count": 36,
     "metadata": {},
     "output_type": "execute_result"
    }
   ],
   "source": [
    "a2.head()"
   ]
  },
  {
   "cell_type": "code",
   "execution_count": 37,
   "metadata": {},
   "outputs": [
    {
     "data": {
      "text/html": [
       "<div>\n",
       "<style scoped>\n",
       "    .dataframe tbody tr th:only-of-type {\n",
       "        vertical-align: middle;\n",
       "    }\n",
       "\n",
       "    .dataframe tbody tr th {\n",
       "        vertical-align: top;\n",
       "    }\n",
       "\n",
       "    .dataframe thead th {\n",
       "        text-align: right;\n",
       "    }\n",
       "</style>\n",
       "<table border=\"1\" class=\"dataframe\">\n",
       "  <thead>\n",
       "    <tr style=\"text-align: right;\">\n",
       "      <th></th>\n",
       "      <th>acousticness</th>\n",
       "      <th>artists</th>\n",
       "      <th>danceability</th>\n",
       "      <th>duration</th>\n",
       "      <th>energy</th>\n",
       "      <th>instrumentalness</th>\n",
       "      <th>key</th>\n",
       "      <th>liveness</th>\n",
       "      <th>loudness</th>\n",
       "      <th>mode</th>\n",
       "      <th>name</th>\n",
       "      <th>popularity</th>\n",
       "      <th>release_date</th>\n",
       "      <th>speechiness</th>\n",
       "      <th>tempo</th>\n",
       "      <th>time_signature</th>\n",
       "      <th>valence</th>\n",
       "    </tr>\n",
       "  </thead>\n",
       "  <tbody>\n",
       "    <tr>\n",
       "      <th>0</th>\n",
       "      <td>0.03700</td>\n",
       "      <td>[Shawn Mendes, Camila Cabello]</td>\n",
       "      <td>0.759</td>\n",
       "      <td>190960.0</td>\n",
       "      <td>0.540</td>\n",
       "      <td>0.000000</td>\n",
       "      <td>9.0</td>\n",
       "      <td>0.0945</td>\n",
       "      <td>-6.039</td>\n",
       "      <td>0</td>\n",
       "      <td>Señorita</td>\n",
       "      <td>100.0</td>\n",
       "      <td>2019-06-21</td>\n",
       "      <td>0.0287</td>\n",
       "      <td>116.947</td>\n",
       "      <td>4.0</td>\n",
       "      <td>0.750</td>\n",
       "    </tr>\n",
       "    <tr>\n",
       "      <th>1</th>\n",
       "      <td>0.91100</td>\n",
       "      <td>[Stephanie Poetri]</td>\n",
       "      <td>0.648</td>\n",
       "      <td>209734.0</td>\n",
       "      <td>0.382</td>\n",
       "      <td>0.000000</td>\n",
       "      <td>6.0</td>\n",
       "      <td>0.3930</td>\n",
       "      <td>-7.850</td>\n",
       "      <td>1</td>\n",
       "      <td>I Love You 3000</td>\n",
       "      <td>61.0</td>\n",
       "      <td>2019-06-03</td>\n",
       "      <td>0.0396</td>\n",
       "      <td>90.099</td>\n",
       "      <td>4.0</td>\n",
       "      <td>0.408</td>\n",
       "    </tr>\n",
       "    <tr>\n",
       "      <th>2</th>\n",
       "      <td>0.11800</td>\n",
       "      <td>[Rich Brian]</td>\n",
       "      <td>0.756</td>\n",
       "      <td>166145.0</td>\n",
       "      <td>0.648</td>\n",
       "      <td>0.000000</td>\n",
       "      <td>0.0</td>\n",
       "      <td>0.5150</td>\n",
       "      <td>-5.287</td>\n",
       "      <td>1</td>\n",
       "      <td>100 Degrees</td>\n",
       "      <td>78.0</td>\n",
       "      <td>2019-07-26</td>\n",
       "      <td>0.0731</td>\n",
       "      <td>80.979</td>\n",
       "      <td>4.0</td>\n",
       "      <td>0.657</td>\n",
       "    </tr>\n",
       "    <tr>\n",
       "      <th>3</th>\n",
       "      <td>0.00249</td>\n",
       "      <td>[Rossy]</td>\n",
       "      <td>0.432</td>\n",
       "      <td>257142.0</td>\n",
       "      <td>0.556</td>\n",
       "      <td>0.000162</td>\n",
       "      <td>9.0</td>\n",
       "      <td>0.2320</td>\n",
       "      <td>-7.415</td>\n",
       "      <td>0</td>\n",
       "      <td>it is you</td>\n",
       "      <td>36.0</td>\n",
       "      <td>2019-08-13</td>\n",
       "      <td>0.0282</td>\n",
       "      <td>139.756</td>\n",
       "      <td>4.0</td>\n",
       "      <td>0.168</td>\n",
       "    </tr>\n",
       "    <tr>\n",
       "      <th>4</th>\n",
       "      <td>0.94600</td>\n",
       "      <td>[Lofi Radiance]</td>\n",
       "      <td>0.700</td>\n",
       "      <td>197333.0</td>\n",
       "      <td>0.208</td>\n",
       "      <td>0.923000</td>\n",
       "      <td>0.0</td>\n",
       "      <td>0.0854</td>\n",
       "      <td>-11.410</td>\n",
       "      <td>1</td>\n",
       "      <td>outside the window</td>\n",
       "      <td>33.0</td>\n",
       "      <td>2019-08-14</td>\n",
       "      <td>0.0724</td>\n",
       "      <td>90.016</td>\n",
       "      <td>4.0</td>\n",
       "      <td>0.112</td>\n",
       "    </tr>\n",
       "  </tbody>\n",
       "</table>\n",
       "</div>"
      ],
      "text/plain": [
       "   acousticness                         artists  danceability  duration  \\\n",
       "0       0.03700  [Shawn Mendes, Camila Cabello]         0.759  190960.0   \n",
       "1       0.91100              [Stephanie Poetri]         0.648  209734.0   \n",
       "2       0.11800                    [Rich Brian]         0.756  166145.0   \n",
       "3       0.00249                         [Rossy]         0.432  257142.0   \n",
       "4       0.94600                 [Lofi Radiance]         0.700  197333.0   \n",
       "\n",
       "   energy  instrumentalness  key  liveness  loudness  mode  \\\n",
       "0   0.540          0.000000  9.0    0.0945    -6.039     0   \n",
       "1   0.382          0.000000  6.0    0.3930    -7.850     1   \n",
       "2   0.648          0.000000  0.0    0.5150    -5.287     1   \n",
       "3   0.556          0.000162  9.0    0.2320    -7.415     0   \n",
       "4   0.208          0.923000  0.0    0.0854   -11.410     1   \n",
       "\n",
       "                 name  popularity release_date  speechiness    tempo  \\\n",
       "0            Señorita       100.0   2019-06-21       0.0287  116.947   \n",
       "1     I Love You 3000        61.0   2019-06-03       0.0396   90.099   \n",
       "2         100 Degrees        78.0   2019-07-26       0.0731   80.979   \n",
       "3           it is you        36.0   2019-08-13       0.0282  139.756   \n",
       "4  outside the window        33.0   2019-08-14       0.0724   90.016   \n",
       "\n",
       "   time_signature  valence  \n",
       "0             4.0    0.750  \n",
       "1             4.0    0.408  \n",
       "2             4.0    0.657  \n",
       "3             4.0    0.168  \n",
       "4             4.0    0.112  "
      ]
     },
     "execution_count": 37,
     "metadata": {},
     "output_type": "execute_result"
    }
   ],
   "source": [
    "a3.head()"
   ]
  },
  {
   "cell_type": "code",
   "execution_count": 38,
   "metadata": {},
   "outputs": [
    {
     "data": {
      "text/html": [
       "<div>\n",
       "<style scoped>\n",
       "    .dataframe tbody tr th:only-of-type {\n",
       "        vertical-align: middle;\n",
       "    }\n",
       "\n",
       "    .dataframe tbody tr th {\n",
       "        vertical-align: top;\n",
       "    }\n",
       "\n",
       "    .dataframe thead th {\n",
       "        text-align: right;\n",
       "    }\n",
       "</style>\n",
       "<table border=\"1\" class=\"dataframe\">\n",
       "  <thead>\n",
       "    <tr style=\"text-align: right;\">\n",
       "      <th></th>\n",
       "      <th>acousticness</th>\n",
       "      <th>artists</th>\n",
       "      <th>danceability</th>\n",
       "      <th>duration</th>\n",
       "      <th>energy</th>\n",
       "      <th>instrumentalness</th>\n",
       "      <th>key</th>\n",
       "      <th>liveness</th>\n",
       "      <th>loudness</th>\n",
       "      <th>mode</th>\n",
       "      <th>name</th>\n",
       "      <th>popularity</th>\n",
       "      <th>release_date</th>\n",
       "      <th>speechiness</th>\n",
       "      <th>tempo</th>\n",
       "      <th>time_signature</th>\n",
       "      <th>valence</th>\n",
       "    </tr>\n",
       "  </thead>\n",
       "  <tbody>\n",
       "    <tr>\n",
       "      <th>0</th>\n",
       "      <td>0.03700</td>\n",
       "      <td>[Shawn Mendes, Camila Cabello]</td>\n",
       "      <td>0.759</td>\n",
       "      <td>190960</td>\n",
       "      <td>0.540</td>\n",
       "      <td>0.000000</td>\n",
       "      <td>9</td>\n",
       "      <td>0.0945</td>\n",
       "      <td>-6.039</td>\n",
       "      <td>0</td>\n",
       "      <td>Señorita</td>\n",
       "      <td>100</td>\n",
       "      <td>2019-06-21</td>\n",
       "      <td>0.0287</td>\n",
       "      <td>116.947</td>\n",
       "      <td>4</td>\n",
       "      <td>0.750</td>\n",
       "    </tr>\n",
       "    <tr>\n",
       "      <th>1</th>\n",
       "      <td>0.91100</td>\n",
       "      <td>[Stephanie Poetri]</td>\n",
       "      <td>0.648</td>\n",
       "      <td>209734</td>\n",
       "      <td>0.382</td>\n",
       "      <td>0.000000</td>\n",
       "      <td>6</td>\n",
       "      <td>0.3930</td>\n",
       "      <td>-7.850</td>\n",
       "      <td>1</td>\n",
       "      <td>I Love You 3000</td>\n",
       "      <td>61</td>\n",
       "      <td>2019-06-03</td>\n",
       "      <td>0.0396</td>\n",
       "      <td>90.099</td>\n",
       "      <td>4</td>\n",
       "      <td>0.408</td>\n",
       "    </tr>\n",
       "    <tr>\n",
       "      <th>2</th>\n",
       "      <td>0.11800</td>\n",
       "      <td>[Rich Brian]</td>\n",
       "      <td>0.756</td>\n",
       "      <td>166145</td>\n",
       "      <td>0.648</td>\n",
       "      <td>0.000000</td>\n",
       "      <td>0</td>\n",
       "      <td>0.5150</td>\n",
       "      <td>-5.287</td>\n",
       "      <td>1</td>\n",
       "      <td>100 Degrees</td>\n",
       "      <td>78</td>\n",
       "      <td>2019-07-26</td>\n",
       "      <td>0.0731</td>\n",
       "      <td>80.979</td>\n",
       "      <td>4</td>\n",
       "      <td>0.657</td>\n",
       "    </tr>\n",
       "    <tr>\n",
       "      <th>3</th>\n",
       "      <td>0.00249</td>\n",
       "      <td>[Rossy]</td>\n",
       "      <td>0.432</td>\n",
       "      <td>257142</td>\n",
       "      <td>0.556</td>\n",
       "      <td>0.000162</td>\n",
       "      <td>9</td>\n",
       "      <td>0.2320</td>\n",
       "      <td>-7.415</td>\n",
       "      <td>0</td>\n",
       "      <td>it is you</td>\n",
       "      <td>36</td>\n",
       "      <td>2019-08-13</td>\n",
       "      <td>0.0282</td>\n",
       "      <td>139.756</td>\n",
       "      <td>4</td>\n",
       "      <td>0.168</td>\n",
       "    </tr>\n",
       "    <tr>\n",
       "      <th>4</th>\n",
       "      <td>0.94600</td>\n",
       "      <td>[Lofi Radiance]</td>\n",
       "      <td>0.700</td>\n",
       "      <td>197333</td>\n",
       "      <td>0.208</td>\n",
       "      <td>0.923000</td>\n",
       "      <td>0</td>\n",
       "      <td>0.0854</td>\n",
       "      <td>-11.410</td>\n",
       "      <td>1</td>\n",
       "      <td>outside the window</td>\n",
       "      <td>33</td>\n",
       "      <td>2019-08-14</td>\n",
       "      <td>0.0724</td>\n",
       "      <td>90.016</td>\n",
       "      <td>4</td>\n",
       "      <td>0.112</td>\n",
       "    </tr>\n",
       "  </tbody>\n",
       "</table>\n",
       "</div>"
      ],
      "text/plain": [
       "   acousticness                         artists  danceability  duration  \\\n",
       "0       0.03700  [Shawn Mendes, Camila Cabello]         0.759    190960   \n",
       "1       0.91100              [Stephanie Poetri]         0.648    209734   \n",
       "2       0.11800                    [Rich Brian]         0.756    166145   \n",
       "3       0.00249                         [Rossy]         0.432    257142   \n",
       "4       0.94600                 [Lofi Radiance]         0.700    197333   \n",
       "\n",
       "   energy  instrumentalness  key  liveness  loudness  mode  \\\n",
       "0   0.540          0.000000    9    0.0945    -6.039     0   \n",
       "1   0.382          0.000000    6    0.3930    -7.850     1   \n",
       "2   0.648          0.000000    0    0.5150    -5.287     1   \n",
       "3   0.556          0.000162    9    0.2320    -7.415     0   \n",
       "4   0.208          0.923000    0    0.0854   -11.410     1   \n",
       "\n",
       "                 name  popularity release_date  speechiness    tempo  \\\n",
       "0            Señorita         100   2019-06-21       0.0287  116.947   \n",
       "1     I Love You 3000          61   2019-06-03       0.0396   90.099   \n",
       "2         100 Degrees          78   2019-07-26       0.0731   80.979   \n",
       "3           it is you          36   2019-08-13       0.0282  139.756   \n",
       "4  outside the window          33   2019-08-14       0.0724   90.016   \n",
       "\n",
       "   time_signature  valence  \n",
       "0               4    0.750  \n",
       "1               4    0.408  \n",
       "2               4    0.657  \n",
       "3               4    0.168  \n",
       "4               4    0.112  "
      ]
     },
     "execution_count": 38,
     "metadata": {},
     "output_type": "execute_result"
    }
   ],
   "source": [
    "a.head()"
   ]
  },
  {
   "cell_type": "markdown",
   "metadata": {},
   "source": [
    "As you can see, there is no such a different between a and a3. But, even it looks the same, there are a slightly different in the decimal value (so little that you may not see them). This can be look if we compare the value using logical operator. Again, this differences is so litle that it won't affect the interpretation of the value"
   ]
  },
  {
   "cell_type": "code",
   "execution_count": 39,
   "metadata": {},
   "outputs": [
    {
     "data": {
      "text/html": [
       "<div>\n",
       "<style scoped>\n",
       "    .dataframe tbody tr th:only-of-type {\n",
       "        vertical-align: middle;\n",
       "    }\n",
       "\n",
       "    .dataframe tbody tr th {\n",
       "        vertical-align: top;\n",
       "    }\n",
       "\n",
       "    .dataframe thead th {\n",
       "        text-align: right;\n",
       "    }\n",
       "</style>\n",
       "<table border=\"1\" class=\"dataframe\">\n",
       "  <thead>\n",
       "    <tr style=\"text-align: right;\">\n",
       "      <th></th>\n",
       "      <th>acousticness</th>\n",
       "      <th>artists</th>\n",
       "      <th>danceability</th>\n",
       "      <th>duration</th>\n",
       "      <th>energy</th>\n",
       "      <th>instrumentalness</th>\n",
       "      <th>key</th>\n",
       "      <th>liveness</th>\n",
       "      <th>loudness</th>\n",
       "      <th>mode</th>\n",
       "      <th>name</th>\n",
       "      <th>popularity</th>\n",
       "      <th>release_date</th>\n",
       "      <th>speechiness</th>\n",
       "      <th>tempo</th>\n",
       "      <th>time_signature</th>\n",
       "      <th>valence</th>\n",
       "    </tr>\n",
       "  </thead>\n",
       "  <tbody>\n",
       "    <tr>\n",
       "      <th>0</th>\n",
       "      <td>True</td>\n",
       "      <td>True</td>\n",
       "      <td>True</td>\n",
       "      <td>True</td>\n",
       "      <td>True</td>\n",
       "      <td>True</td>\n",
       "      <td>True</td>\n",
       "      <td>True</td>\n",
       "      <td>False</td>\n",
       "      <td>True</td>\n",
       "      <td>True</td>\n",
       "      <td>True</td>\n",
       "      <td>True</td>\n",
       "      <td>True</td>\n",
       "      <td>True</td>\n",
       "      <td>True</td>\n",
       "      <td>True</td>\n",
       "    </tr>\n",
       "    <tr>\n",
       "      <th>1</th>\n",
       "      <td>True</td>\n",
       "      <td>True</td>\n",
       "      <td>True</td>\n",
       "      <td>True</td>\n",
       "      <td>True</td>\n",
       "      <td>True</td>\n",
       "      <td>True</td>\n",
       "      <td>True</td>\n",
       "      <td>False</td>\n",
       "      <td>True</td>\n",
       "      <td>True</td>\n",
       "      <td>True</td>\n",
       "      <td>True</td>\n",
       "      <td>True</td>\n",
       "      <td>True</td>\n",
       "      <td>True</td>\n",
       "      <td>True</td>\n",
       "    </tr>\n",
       "    <tr>\n",
       "      <th>2</th>\n",
       "      <td>True</td>\n",
       "      <td>True</td>\n",
       "      <td>True</td>\n",
       "      <td>False</td>\n",
       "      <td>True</td>\n",
       "      <td>True</td>\n",
       "      <td>True</td>\n",
       "      <td>True</td>\n",
       "      <td>False</td>\n",
       "      <td>True</td>\n",
       "      <td>True</td>\n",
       "      <td>True</td>\n",
       "      <td>True</td>\n",
       "      <td>True</td>\n",
       "      <td>True</td>\n",
       "      <td>True</td>\n",
       "      <td>True</td>\n",
       "    </tr>\n",
       "    <tr>\n",
       "      <th>3</th>\n",
       "      <td>True</td>\n",
       "      <td>True</td>\n",
       "      <td>True</td>\n",
       "      <td>True</td>\n",
       "      <td>True</td>\n",
       "      <td>True</td>\n",
       "      <td>True</td>\n",
       "      <td>True</td>\n",
       "      <td>False</td>\n",
       "      <td>True</td>\n",
       "      <td>True</td>\n",
       "      <td>True</td>\n",
       "      <td>True</td>\n",
       "      <td>True</td>\n",
       "      <td>True</td>\n",
       "      <td>True</td>\n",
       "      <td>True</td>\n",
       "    </tr>\n",
       "    <tr>\n",
       "      <th>4</th>\n",
       "      <td>True</td>\n",
       "      <td>True</td>\n",
       "      <td>True</td>\n",
       "      <td>False</td>\n",
       "      <td>True</td>\n",
       "      <td>True</td>\n",
       "      <td>True</td>\n",
       "      <td>True</td>\n",
       "      <td>False</td>\n",
       "      <td>True</td>\n",
       "      <td>True</td>\n",
       "      <td>True</td>\n",
       "      <td>True</td>\n",
       "      <td>True</td>\n",
       "      <td>True</td>\n",
       "      <td>True</td>\n",
       "      <td>True</td>\n",
       "    </tr>\n",
       "  </tbody>\n",
       "</table>\n",
       "</div>"
      ],
      "text/plain": [
       "   acousticness  artists  danceability  duration  energy  instrumentalness  \\\n",
       "0          True     True          True      True    True              True   \n",
       "1          True     True          True      True    True              True   \n",
       "2          True     True          True     False    True              True   \n",
       "3          True     True          True      True    True              True   \n",
       "4          True     True          True     False    True              True   \n",
       "\n",
       "    key  liveness  loudness  mode  name  popularity  release_date  \\\n",
       "0  True      True     False  True  True        True          True   \n",
       "1  True      True     False  True  True        True          True   \n",
       "2  True      True     False  True  True        True          True   \n",
       "3  True      True     False  True  True        True          True   \n",
       "4  True      True     False  True  True        True          True   \n",
       "\n",
       "   speechiness  tempo  time_signature  valence  \n",
       "0         True   True            True     True  \n",
       "1         True   True            True     True  \n",
       "2         True   True            True     True  \n",
       "3         True   True            True     True  \n",
       "4         True   True            True     True  "
      ]
     },
     "execution_count": 39,
     "metadata": {},
     "output_type": "execute_result"
    }
   ],
   "source": [
    "(a == a3).head()"
   ]
  },
  {
   "cell_type": "markdown",
   "metadata": {},
   "source": [
    "### Artist with most appearance"
   ]
  },
  {
   "cell_type": "markdown",
   "metadata": {},
   "source": [
    "to get all the artist list, first we have to unlist our artist's lists"
   ]
  },
  {
   "cell_type": "code",
   "execution_count": 40,
   "metadata": {},
   "outputs": [
    {
     "data": {
      "text/plain": [
       "0    [Shawn Mendes, Camila Cabello]\n",
       "1                [Stephanie Poetri]\n",
       "2                      [Rich Brian]\n",
       "3                           [Rossy]\n",
       "4                   [Lofi Radiance]\n",
       "Name: artists, dtype: object"
      ]
     },
     "execution_count": 40,
     "metadata": {},
     "output_type": "execute_result"
    }
   ],
   "source": [
    "clean_af['artists'].head()"
   ]
  },
  {
   "cell_type": "code",
   "execution_count": 41,
   "metadata": {},
   "outputs": [
    {
     "data": {
      "text/plain": [
       "Ariana Grande    3\n",
       "Glenn Fredly     2\n",
       "Halsey           2\n",
       "Justin Bieber    2\n",
       "Shawn Mendes     2\n",
       "dtype: int64"
      ]
     },
     "execution_count": 41,
     "metadata": {},
     "output_type": "execute_result"
    }
   ],
   "source": [
    "_artist = []\n",
    "for artists in clean_af['artists']: \n",
    "    for i in artists:\n",
    "        _artist.append(i)\n",
    "_artist = pd.Series(_artist)\n",
    "artist_count = _artist.value_counts()\n",
    "artist_count.head(5)"
   ]
  },
  {
   "cell_type": "code",
   "execution_count": 42,
   "metadata": {},
   "outputs": [
    {
     "data": {
      "text/plain": [
       "count    59.000000\n",
       "mean      1.169492\n",
       "std       0.421514\n",
       "min       1.000000\n",
       "25%       1.000000\n",
       "50%       1.000000\n",
       "75%       1.000000\n",
       "max       3.000000\n",
       "dtype: float64"
      ]
     },
     "execution_count": 42,
     "metadata": {},
     "output_type": "execute_result"
    }
   ],
   "source": [
    "artist_count.describe()"
   ]
  },
  {
   "cell_type": "code",
   "execution_count": 43,
   "metadata": {},
   "outputs": [
    {
     "data": {
      "application/vnd.plotly.v1+json": {
       "config": {
        "plotlyServerURL": "https://plot.ly"
       },
       "data": [
        {
         "hole": 0.63,
         "labels": [
          "Ariana Grande",
          "Glenn Fredly",
          "Halsey",
          "Justin Bieber",
          "Shawn Mendes",
          "Ed Sheeran",
          "Marion Jola",
          "Alan Walker",
          "Andmesh",
          "Khalid",
          "Farruko",
          "ILLENIUM",
          "Joji",
          "Lauv",
          "Juicy Luicy",
          "Camila Cabello",
          "ZAYN",
          "Young Thug",
          "Virgoun",
          "Billie Eilish",
          "Naomi Scott",
          "SHAUN",
          "Sabrina Carpenter",
          "Marshmello",
          "Yovie Widianto",
          "Conor Maynard",
          "Devano Danendra",
          "Anne-Marie",
          "Aisyah Aqilah Azhar",
          "Sal Priadi",
          "Judika",
          "Lofi Radiance",
          "Lennon Stella",
          "Budi Doremi",
          "The Chainsmokers",
          "Rich Brian",
          "Tulus",
          "Sam Smith",
          "Laleilmanino",
          "Ava Max",
          "Sam Feldt",
          "NIKI",
          "Rizky Febian",
          "Nadin Amizah",
          "Jaz",
          "Taylor Swift",
          "Audy",
          "Stephanie Poetri",
          "Brisia Jodie",
          "Rossy",
          "BTS",
          "Social House",
          "Emelie Hollow",
          "CHVRCHES",
          "Post Malone",
          "K-391",
          "Jeremy Zucker",
          "3 Composers",
          "Zhavia Ward"
         ],
         "type": "pie",
         "values": [
          3,
          2,
          2,
          2,
          2,
          2,
          2,
          2,
          2,
          1,
          1,
          1,
          1,
          1,
          1,
          1,
          1,
          1,
          1,
          1,
          1,
          1,
          1,
          1,
          1,
          1,
          1,
          1,
          1,
          1,
          1,
          1,
          1,
          1,
          1,
          1,
          1,
          1,
          1,
          1,
          1,
          1,
          1,
          1,
          1,
          1,
          1,
          1,
          1,
          1,
          1,
          1,
          1,
          1,
          1,
          1,
          1,
          1,
          1
         ]
        }
       ],
       "layout": {
        "template": {
         "data": {
          "bar": [
           {
            "error_x": {
             "color": "#2a3f5f"
            },
            "error_y": {
             "color": "#2a3f5f"
            },
            "marker": {
             "line": {
              "color": "#E5ECF6",
              "width": 0.5
             }
            },
            "type": "bar"
           }
          ],
          "barpolar": [
           {
            "marker": {
             "line": {
              "color": "#E5ECF6",
              "width": 0.5
             }
            },
            "type": "barpolar"
           }
          ],
          "carpet": [
           {
            "aaxis": {
             "endlinecolor": "#2a3f5f",
             "gridcolor": "white",
             "linecolor": "white",
             "minorgridcolor": "white",
             "startlinecolor": "#2a3f5f"
            },
            "baxis": {
             "endlinecolor": "#2a3f5f",
             "gridcolor": "white",
             "linecolor": "white",
             "minorgridcolor": "white",
             "startlinecolor": "#2a3f5f"
            },
            "type": "carpet"
           }
          ],
          "choropleth": [
           {
            "colorbar": {
             "outlinewidth": 0,
             "ticks": ""
            },
            "type": "choropleth"
           }
          ],
          "contour": [
           {
            "colorbar": {
             "outlinewidth": 0,
             "ticks": ""
            },
            "colorscale": [
             [
              0,
              "#0d0887"
             ],
             [
              0.1111111111111111,
              "#46039f"
             ],
             [
              0.2222222222222222,
              "#7201a8"
             ],
             [
              0.3333333333333333,
              "#9c179e"
             ],
             [
              0.4444444444444444,
              "#bd3786"
             ],
             [
              0.5555555555555556,
              "#d8576b"
             ],
             [
              0.6666666666666666,
              "#ed7953"
             ],
             [
              0.7777777777777778,
              "#fb9f3a"
             ],
             [
              0.8888888888888888,
              "#fdca26"
             ],
             [
              1,
              "#f0f921"
             ]
            ],
            "type": "contour"
           }
          ],
          "contourcarpet": [
           {
            "colorbar": {
             "outlinewidth": 0,
             "ticks": ""
            },
            "type": "contourcarpet"
           }
          ],
          "heatmap": [
           {
            "colorbar": {
             "outlinewidth": 0,
             "ticks": ""
            },
            "colorscale": [
             [
              0,
              "#0d0887"
             ],
             [
              0.1111111111111111,
              "#46039f"
             ],
             [
              0.2222222222222222,
              "#7201a8"
             ],
             [
              0.3333333333333333,
              "#9c179e"
             ],
             [
              0.4444444444444444,
              "#bd3786"
             ],
             [
              0.5555555555555556,
              "#d8576b"
             ],
             [
              0.6666666666666666,
              "#ed7953"
             ],
             [
              0.7777777777777778,
              "#fb9f3a"
             ],
             [
              0.8888888888888888,
              "#fdca26"
             ],
             [
              1,
              "#f0f921"
             ]
            ],
            "type": "heatmap"
           }
          ],
          "heatmapgl": [
           {
            "colorbar": {
             "outlinewidth": 0,
             "ticks": ""
            },
            "colorscale": [
             [
              0,
              "#0d0887"
             ],
             [
              0.1111111111111111,
              "#46039f"
             ],
             [
              0.2222222222222222,
              "#7201a8"
             ],
             [
              0.3333333333333333,
              "#9c179e"
             ],
             [
              0.4444444444444444,
              "#bd3786"
             ],
             [
              0.5555555555555556,
              "#d8576b"
             ],
             [
              0.6666666666666666,
              "#ed7953"
             ],
             [
              0.7777777777777778,
              "#fb9f3a"
             ],
             [
              0.8888888888888888,
              "#fdca26"
             ],
             [
              1,
              "#f0f921"
             ]
            ],
            "type": "heatmapgl"
           }
          ],
          "histogram": [
           {
            "marker": {
             "colorbar": {
              "outlinewidth": 0,
              "ticks": ""
             }
            },
            "type": "histogram"
           }
          ],
          "histogram2d": [
           {
            "colorbar": {
             "outlinewidth": 0,
             "ticks": ""
            },
            "colorscale": [
             [
              0,
              "#0d0887"
             ],
             [
              0.1111111111111111,
              "#46039f"
             ],
             [
              0.2222222222222222,
              "#7201a8"
             ],
             [
              0.3333333333333333,
              "#9c179e"
             ],
             [
              0.4444444444444444,
              "#bd3786"
             ],
             [
              0.5555555555555556,
              "#d8576b"
             ],
             [
              0.6666666666666666,
              "#ed7953"
             ],
             [
              0.7777777777777778,
              "#fb9f3a"
             ],
             [
              0.8888888888888888,
              "#fdca26"
             ],
             [
              1,
              "#f0f921"
             ]
            ],
            "type": "histogram2d"
           }
          ],
          "histogram2dcontour": [
           {
            "colorbar": {
             "outlinewidth": 0,
             "ticks": ""
            },
            "colorscale": [
             [
              0,
              "#0d0887"
             ],
             [
              0.1111111111111111,
              "#46039f"
             ],
             [
              0.2222222222222222,
              "#7201a8"
             ],
             [
              0.3333333333333333,
              "#9c179e"
             ],
             [
              0.4444444444444444,
              "#bd3786"
             ],
             [
              0.5555555555555556,
              "#d8576b"
             ],
             [
              0.6666666666666666,
              "#ed7953"
             ],
             [
              0.7777777777777778,
              "#fb9f3a"
             ],
             [
              0.8888888888888888,
              "#fdca26"
             ],
             [
              1,
              "#f0f921"
             ]
            ],
            "type": "histogram2dcontour"
           }
          ],
          "mesh3d": [
           {
            "colorbar": {
             "outlinewidth": 0,
             "ticks": ""
            },
            "type": "mesh3d"
           }
          ],
          "parcoords": [
           {
            "line": {
             "colorbar": {
              "outlinewidth": 0,
              "ticks": ""
             }
            },
            "type": "parcoords"
           }
          ],
          "scatter": [
           {
            "marker": {
             "colorbar": {
              "outlinewidth": 0,
              "ticks": ""
             }
            },
            "type": "scatter"
           }
          ],
          "scatter3d": [
           {
            "line": {
             "colorbar": {
              "outlinewidth": 0,
              "ticks": ""
             }
            },
            "marker": {
             "colorbar": {
              "outlinewidth": 0,
              "ticks": ""
             }
            },
            "type": "scatter3d"
           }
          ],
          "scattercarpet": [
           {
            "marker": {
             "colorbar": {
              "outlinewidth": 0,
              "ticks": ""
             }
            },
            "type": "scattercarpet"
           }
          ],
          "scattergeo": [
           {
            "marker": {
             "colorbar": {
              "outlinewidth": 0,
              "ticks": ""
             }
            },
            "type": "scattergeo"
           }
          ],
          "scattergl": [
           {
            "marker": {
             "colorbar": {
              "outlinewidth": 0,
              "ticks": ""
             }
            },
            "type": "scattergl"
           }
          ],
          "scattermapbox": [
           {
            "marker": {
             "colorbar": {
              "outlinewidth": 0,
              "ticks": ""
             }
            },
            "type": "scattermapbox"
           }
          ],
          "scatterpolar": [
           {
            "marker": {
             "colorbar": {
              "outlinewidth": 0,
              "ticks": ""
             }
            },
            "type": "scatterpolar"
           }
          ],
          "scatterpolargl": [
           {
            "marker": {
             "colorbar": {
              "outlinewidth": 0,
              "ticks": ""
             }
            },
            "type": "scatterpolargl"
           }
          ],
          "scatterternary": [
           {
            "marker": {
             "colorbar": {
              "outlinewidth": 0,
              "ticks": ""
             }
            },
            "type": "scatterternary"
           }
          ],
          "surface": [
           {
            "colorbar": {
             "outlinewidth": 0,
             "ticks": ""
            },
            "colorscale": [
             [
              0,
              "#0d0887"
             ],
             [
              0.1111111111111111,
              "#46039f"
             ],
             [
              0.2222222222222222,
              "#7201a8"
             ],
             [
              0.3333333333333333,
              "#9c179e"
             ],
             [
              0.4444444444444444,
              "#bd3786"
             ],
             [
              0.5555555555555556,
              "#d8576b"
             ],
             [
              0.6666666666666666,
              "#ed7953"
             ],
             [
              0.7777777777777778,
              "#fb9f3a"
             ],
             [
              0.8888888888888888,
              "#fdca26"
             ],
             [
              1,
              "#f0f921"
             ]
            ],
            "type": "surface"
           }
          ],
          "table": [
           {
            "cells": {
             "fill": {
              "color": "#EBF0F8"
             },
             "line": {
              "color": "white"
             }
            },
            "header": {
             "fill": {
              "color": "#C8D4E3"
             },
             "line": {
              "color": "white"
             }
            },
            "type": "table"
           }
          ]
         },
         "layout": {
          "annotationdefaults": {
           "arrowcolor": "#2a3f5f",
           "arrowhead": 0,
           "arrowwidth": 1
          },
          "colorscale": {
           "diverging": [
            [
             0,
             "#8e0152"
            ],
            [
             0.1,
             "#c51b7d"
            ],
            [
             0.2,
             "#de77ae"
            ],
            [
             0.3,
             "#f1b6da"
            ],
            [
             0.4,
             "#fde0ef"
            ],
            [
             0.5,
             "#f7f7f7"
            ],
            [
             0.6,
             "#e6f5d0"
            ],
            [
             0.7,
             "#b8e186"
            ],
            [
             0.8,
             "#7fbc41"
            ],
            [
             0.9,
             "#4d9221"
            ],
            [
             1,
             "#276419"
            ]
           ],
           "sequential": [
            [
             0,
             "#0d0887"
            ],
            [
             0.1111111111111111,
             "#46039f"
            ],
            [
             0.2222222222222222,
             "#7201a8"
            ],
            [
             0.3333333333333333,
             "#9c179e"
            ],
            [
             0.4444444444444444,
             "#bd3786"
            ],
            [
             0.5555555555555556,
             "#d8576b"
            ],
            [
             0.6666666666666666,
             "#ed7953"
            ],
            [
             0.7777777777777778,
             "#fb9f3a"
            ],
            [
             0.8888888888888888,
             "#fdca26"
            ],
            [
             1,
             "#f0f921"
            ]
           ],
           "sequentialminus": [
            [
             0,
             "#0d0887"
            ],
            [
             0.1111111111111111,
             "#46039f"
            ],
            [
             0.2222222222222222,
             "#7201a8"
            ],
            [
             0.3333333333333333,
             "#9c179e"
            ],
            [
             0.4444444444444444,
             "#bd3786"
            ],
            [
             0.5555555555555556,
             "#d8576b"
            ],
            [
             0.6666666666666666,
             "#ed7953"
            ],
            [
             0.7777777777777778,
             "#fb9f3a"
            ],
            [
             0.8888888888888888,
             "#fdca26"
            ],
            [
             1,
             "#f0f921"
            ]
           ]
          },
          "colorway": [
           "#636efa",
           "#EF553B",
           "#00cc96",
           "#ab63fa",
           "#FFA15A",
           "#19d3f3",
           "#FF6692",
           "#B6E880",
           "#FF97FF",
           "#FECB52"
          ],
          "font": {
           "color": "#2a3f5f"
          },
          "geo": {
           "bgcolor": "white",
           "lakecolor": "white",
           "landcolor": "#E5ECF6",
           "showlakes": true,
           "showland": true,
           "subunitcolor": "white"
          },
          "hoverlabel": {
           "align": "left"
          },
          "hovermode": "closest",
          "mapbox": {
           "style": "light"
          },
          "paper_bgcolor": "white",
          "plot_bgcolor": "#E5ECF6",
          "polar": {
           "angularaxis": {
            "gridcolor": "white",
            "linecolor": "white",
            "ticks": ""
           },
           "bgcolor": "#E5ECF6",
           "radialaxis": {
            "gridcolor": "white",
            "linecolor": "white",
            "ticks": ""
           }
          },
          "scene": {
           "xaxis": {
            "backgroundcolor": "#E5ECF6",
            "gridcolor": "white",
            "gridwidth": 2,
            "linecolor": "white",
            "showbackground": true,
            "ticks": "",
            "zerolinecolor": "white"
           },
           "yaxis": {
            "backgroundcolor": "#E5ECF6",
            "gridcolor": "white",
            "gridwidth": 2,
            "linecolor": "white",
            "showbackground": true,
            "ticks": "",
            "zerolinecolor": "white"
           },
           "zaxis": {
            "backgroundcolor": "#E5ECF6",
            "gridcolor": "white",
            "gridwidth": 2,
            "linecolor": "white",
            "showbackground": true,
            "ticks": "",
            "zerolinecolor": "white"
           }
          },
          "shapedefaults": {
           "line": {
            "color": "#2a3f5f"
           }
          },
          "ternary": {
           "aaxis": {
            "gridcolor": "white",
            "linecolor": "white",
            "ticks": ""
           },
           "baxis": {
            "gridcolor": "white",
            "linecolor": "white",
            "ticks": ""
           },
           "bgcolor": "#E5ECF6",
           "caxis": {
            "gridcolor": "white",
            "linecolor": "white",
            "ticks": ""
           }
          },
          "title": {
           "x": 0.05
          },
          "xaxis": {
           "automargin": true,
           "gridcolor": "white",
           "linecolor": "white",
           "ticks": "",
           "zerolinecolor": "white",
           "zerolinewidth": 2
          },
          "yaxis": {
           "automargin": true,
           "gridcolor": "white",
           "linecolor": "white",
           "ticks": "",
           "zerolinecolor": "white",
           "zerolinewidth": 2
          }
         }
        }
       }
      },
      "text/html": [
       "<div>\n",
       "        \n",
       "        \n",
       "            <div id=\"ca0f2756-7791-436f-94cb-0f5406e0726f\" class=\"plotly-graph-div\" style=\"height:525px; width:100%;\"></div>\n",
       "            <script type=\"text/javascript\">\n",
       "                require([\"plotly\"], function(Plotly) {\n",
       "                    window.PLOTLYENV=window.PLOTLYENV || {};\n",
       "                    \n",
       "                if (document.getElementById(\"ca0f2756-7791-436f-94cb-0f5406e0726f\")) {\n",
       "                    Plotly.newPlot(\n",
       "                        'ca0f2756-7791-436f-94cb-0f5406e0726f',\n",
       "                        [{\"hole\": 0.63, \"labels\": [\"Ariana Grande\", \"Glenn Fredly\", \"Halsey\", \"Justin Bieber\", \"Shawn Mendes\", \"Ed Sheeran\", \"Marion Jola\", \"Alan Walker\", \"Andmesh\", \"Khalid\", \"Farruko\", \"ILLENIUM\", \"Joji\", \"Lauv\", \"Juicy Luicy\", \"Camila Cabello\", \"ZAYN\", \"Young Thug\", \"Virgoun\", \"Billie Eilish\", \"Naomi Scott\", \"SHAUN\", \"Sabrina Carpenter\", \"Marshmello\", \"Yovie Widianto\", \"Conor Maynard\", \"Devano Danendra\", \"Anne-Marie\", \"Aisyah Aqilah Azhar\", \"Sal Priadi\", \"Judika\", \"Lofi Radiance\", \"Lennon Stella\", \"Budi Doremi\", \"The Chainsmokers\", \"Rich Brian\", \"Tulus\", \"Sam Smith\", \"Laleilmanino\", \"Ava Max\", \"Sam Feldt\", \"NIKI\", \"Rizky Febian\", \"Nadin Amizah\", \"Jaz\", \"Taylor Swift\", \"Audy\", \"Stephanie Poetri\", \"Brisia Jodie\", \"Rossy\", \"BTS\", \"Social House\", \"Emelie Hollow\", \"CHVRCHES\", \"Post Malone\", \"K-391\", \"Jeremy Zucker\", \"3 Composers\", \"Zhavia Ward\"], \"type\": \"pie\", \"values\": [3, 2, 2, 2, 2, 2, 2, 2, 2, 1, 1, 1, 1, 1, 1, 1, 1, 1, 1, 1, 1, 1, 1, 1, 1, 1, 1, 1, 1, 1, 1, 1, 1, 1, 1, 1, 1, 1, 1, 1, 1, 1, 1, 1, 1, 1, 1, 1, 1, 1, 1, 1, 1, 1, 1, 1, 1, 1, 1]}],\n",
       "                        {\"template\": {\"data\": {\"bar\": [{\"error_x\": {\"color\": \"#2a3f5f\"}, \"error_y\": {\"color\": \"#2a3f5f\"}, \"marker\": {\"line\": {\"color\": \"#E5ECF6\", \"width\": 0.5}}, \"type\": \"bar\"}], \"barpolar\": [{\"marker\": {\"line\": {\"color\": \"#E5ECF6\", \"width\": 0.5}}, \"type\": \"barpolar\"}], \"carpet\": [{\"aaxis\": {\"endlinecolor\": \"#2a3f5f\", \"gridcolor\": \"white\", \"linecolor\": \"white\", \"minorgridcolor\": \"white\", \"startlinecolor\": \"#2a3f5f\"}, \"baxis\": {\"endlinecolor\": \"#2a3f5f\", \"gridcolor\": \"white\", \"linecolor\": \"white\", \"minorgridcolor\": \"white\", \"startlinecolor\": \"#2a3f5f\"}, \"type\": \"carpet\"}], \"choropleth\": [{\"colorbar\": {\"outlinewidth\": 0, \"ticks\": \"\"}, \"type\": \"choropleth\"}], \"contour\": [{\"colorbar\": {\"outlinewidth\": 0, \"ticks\": \"\"}, \"colorscale\": [[0.0, \"#0d0887\"], [0.1111111111111111, \"#46039f\"], [0.2222222222222222, \"#7201a8\"], [0.3333333333333333, \"#9c179e\"], [0.4444444444444444, \"#bd3786\"], [0.5555555555555556, \"#d8576b\"], [0.6666666666666666, \"#ed7953\"], [0.7777777777777778, \"#fb9f3a\"], [0.8888888888888888, \"#fdca26\"], [1.0, \"#f0f921\"]], \"type\": \"contour\"}], \"contourcarpet\": [{\"colorbar\": {\"outlinewidth\": 0, \"ticks\": \"\"}, \"type\": \"contourcarpet\"}], \"heatmap\": [{\"colorbar\": {\"outlinewidth\": 0, \"ticks\": \"\"}, \"colorscale\": [[0.0, \"#0d0887\"], [0.1111111111111111, \"#46039f\"], [0.2222222222222222, \"#7201a8\"], [0.3333333333333333, \"#9c179e\"], [0.4444444444444444, \"#bd3786\"], [0.5555555555555556, \"#d8576b\"], [0.6666666666666666, \"#ed7953\"], [0.7777777777777778, \"#fb9f3a\"], [0.8888888888888888, \"#fdca26\"], [1.0, \"#f0f921\"]], \"type\": \"heatmap\"}], \"heatmapgl\": [{\"colorbar\": {\"outlinewidth\": 0, \"ticks\": \"\"}, \"colorscale\": [[0.0, \"#0d0887\"], [0.1111111111111111, \"#46039f\"], [0.2222222222222222, \"#7201a8\"], [0.3333333333333333, \"#9c179e\"], [0.4444444444444444, \"#bd3786\"], [0.5555555555555556, \"#d8576b\"], [0.6666666666666666, \"#ed7953\"], [0.7777777777777778, \"#fb9f3a\"], [0.8888888888888888, \"#fdca26\"], [1.0, \"#f0f921\"]], \"type\": \"heatmapgl\"}], \"histogram\": [{\"marker\": {\"colorbar\": {\"outlinewidth\": 0, \"ticks\": \"\"}}, \"type\": \"histogram\"}], \"histogram2d\": [{\"colorbar\": {\"outlinewidth\": 0, \"ticks\": \"\"}, \"colorscale\": [[0.0, \"#0d0887\"], [0.1111111111111111, \"#46039f\"], [0.2222222222222222, \"#7201a8\"], [0.3333333333333333, \"#9c179e\"], [0.4444444444444444, \"#bd3786\"], [0.5555555555555556, \"#d8576b\"], [0.6666666666666666, \"#ed7953\"], [0.7777777777777778, \"#fb9f3a\"], [0.8888888888888888, \"#fdca26\"], [1.0, \"#f0f921\"]], \"type\": \"histogram2d\"}], \"histogram2dcontour\": [{\"colorbar\": {\"outlinewidth\": 0, \"ticks\": \"\"}, \"colorscale\": [[0.0, \"#0d0887\"], [0.1111111111111111, \"#46039f\"], [0.2222222222222222, \"#7201a8\"], [0.3333333333333333, \"#9c179e\"], [0.4444444444444444, \"#bd3786\"], [0.5555555555555556, \"#d8576b\"], [0.6666666666666666, \"#ed7953\"], [0.7777777777777778, \"#fb9f3a\"], [0.8888888888888888, \"#fdca26\"], [1.0, \"#f0f921\"]], \"type\": \"histogram2dcontour\"}], \"mesh3d\": [{\"colorbar\": {\"outlinewidth\": 0, \"ticks\": \"\"}, \"type\": \"mesh3d\"}], \"parcoords\": [{\"line\": {\"colorbar\": {\"outlinewidth\": 0, \"ticks\": \"\"}}, \"type\": \"parcoords\"}], \"scatter\": [{\"marker\": {\"colorbar\": {\"outlinewidth\": 0, \"ticks\": \"\"}}, \"type\": \"scatter\"}], \"scatter3d\": [{\"line\": {\"colorbar\": {\"outlinewidth\": 0, \"ticks\": \"\"}}, \"marker\": {\"colorbar\": {\"outlinewidth\": 0, \"ticks\": \"\"}}, \"type\": \"scatter3d\"}], \"scattercarpet\": [{\"marker\": {\"colorbar\": {\"outlinewidth\": 0, \"ticks\": \"\"}}, \"type\": \"scattercarpet\"}], \"scattergeo\": [{\"marker\": {\"colorbar\": {\"outlinewidth\": 0, \"ticks\": \"\"}}, \"type\": \"scattergeo\"}], \"scattergl\": [{\"marker\": {\"colorbar\": {\"outlinewidth\": 0, \"ticks\": \"\"}}, \"type\": \"scattergl\"}], \"scattermapbox\": [{\"marker\": {\"colorbar\": {\"outlinewidth\": 0, \"ticks\": \"\"}}, \"type\": \"scattermapbox\"}], \"scatterpolar\": [{\"marker\": {\"colorbar\": {\"outlinewidth\": 0, \"ticks\": \"\"}}, \"type\": \"scatterpolar\"}], \"scatterpolargl\": [{\"marker\": {\"colorbar\": {\"outlinewidth\": 0, \"ticks\": \"\"}}, \"type\": \"scatterpolargl\"}], \"scatterternary\": [{\"marker\": {\"colorbar\": {\"outlinewidth\": 0, \"ticks\": \"\"}}, \"type\": \"scatterternary\"}], \"surface\": [{\"colorbar\": {\"outlinewidth\": 0, \"ticks\": \"\"}, \"colorscale\": [[0.0, \"#0d0887\"], [0.1111111111111111, \"#46039f\"], [0.2222222222222222, \"#7201a8\"], [0.3333333333333333, \"#9c179e\"], [0.4444444444444444, \"#bd3786\"], [0.5555555555555556, \"#d8576b\"], [0.6666666666666666, \"#ed7953\"], [0.7777777777777778, \"#fb9f3a\"], [0.8888888888888888, \"#fdca26\"], [1.0, \"#f0f921\"]], \"type\": \"surface\"}], \"table\": [{\"cells\": {\"fill\": {\"color\": \"#EBF0F8\"}, \"line\": {\"color\": \"white\"}}, \"header\": {\"fill\": {\"color\": \"#C8D4E3\"}, \"line\": {\"color\": \"white\"}}, \"type\": \"table\"}]}, \"layout\": {\"annotationdefaults\": {\"arrowcolor\": \"#2a3f5f\", \"arrowhead\": 0, \"arrowwidth\": 1}, \"colorscale\": {\"diverging\": [[0, \"#8e0152\"], [0.1, \"#c51b7d\"], [0.2, \"#de77ae\"], [0.3, \"#f1b6da\"], [0.4, \"#fde0ef\"], [0.5, \"#f7f7f7\"], [0.6, \"#e6f5d0\"], [0.7, \"#b8e186\"], [0.8, \"#7fbc41\"], [0.9, \"#4d9221\"], [1, \"#276419\"]], \"sequential\": [[0.0, \"#0d0887\"], [0.1111111111111111, \"#46039f\"], [0.2222222222222222, \"#7201a8\"], [0.3333333333333333, \"#9c179e\"], [0.4444444444444444, \"#bd3786\"], [0.5555555555555556, \"#d8576b\"], [0.6666666666666666, \"#ed7953\"], [0.7777777777777778, \"#fb9f3a\"], [0.8888888888888888, \"#fdca26\"], [1.0, \"#f0f921\"]], \"sequentialminus\": [[0.0, \"#0d0887\"], [0.1111111111111111, \"#46039f\"], [0.2222222222222222, \"#7201a8\"], [0.3333333333333333, \"#9c179e\"], [0.4444444444444444, \"#bd3786\"], [0.5555555555555556, \"#d8576b\"], [0.6666666666666666, \"#ed7953\"], [0.7777777777777778, \"#fb9f3a\"], [0.8888888888888888, \"#fdca26\"], [1.0, \"#f0f921\"]]}, \"colorway\": [\"#636efa\", \"#EF553B\", \"#00cc96\", \"#ab63fa\", \"#FFA15A\", \"#19d3f3\", \"#FF6692\", \"#B6E880\", \"#FF97FF\", \"#FECB52\"], \"font\": {\"color\": \"#2a3f5f\"}, \"geo\": {\"bgcolor\": \"white\", \"lakecolor\": \"white\", \"landcolor\": \"#E5ECF6\", \"showlakes\": true, \"showland\": true, \"subunitcolor\": \"white\"}, \"hoverlabel\": {\"align\": \"left\"}, \"hovermode\": \"closest\", \"mapbox\": {\"style\": \"light\"}, \"paper_bgcolor\": \"white\", \"plot_bgcolor\": \"#E5ECF6\", \"polar\": {\"angularaxis\": {\"gridcolor\": \"white\", \"linecolor\": \"white\", \"ticks\": \"\"}, \"bgcolor\": \"#E5ECF6\", \"radialaxis\": {\"gridcolor\": \"white\", \"linecolor\": \"white\", \"ticks\": \"\"}}, \"scene\": {\"xaxis\": {\"backgroundcolor\": \"#E5ECF6\", \"gridcolor\": \"white\", \"gridwidth\": 2, \"linecolor\": \"white\", \"showbackground\": true, \"ticks\": \"\", \"zerolinecolor\": \"white\"}, \"yaxis\": {\"backgroundcolor\": \"#E5ECF6\", \"gridcolor\": \"white\", \"gridwidth\": 2, \"linecolor\": \"white\", \"showbackground\": true, \"ticks\": \"\", \"zerolinecolor\": \"white\"}, \"zaxis\": {\"backgroundcolor\": \"#E5ECF6\", \"gridcolor\": \"white\", \"gridwidth\": 2, \"linecolor\": \"white\", \"showbackground\": true, \"ticks\": \"\", \"zerolinecolor\": \"white\"}}, \"shapedefaults\": {\"line\": {\"color\": \"#2a3f5f\"}}, \"ternary\": {\"aaxis\": {\"gridcolor\": \"white\", \"linecolor\": \"white\", \"ticks\": \"\"}, \"baxis\": {\"gridcolor\": \"white\", \"linecolor\": \"white\", \"ticks\": \"\"}, \"bgcolor\": \"#E5ECF6\", \"caxis\": {\"gridcolor\": \"white\", \"linecolor\": \"white\", \"ticks\": \"\"}}, \"title\": {\"x\": 0.05}, \"xaxis\": {\"automargin\": true, \"gridcolor\": \"white\", \"linecolor\": \"white\", \"ticks\": \"\", \"zerolinecolor\": \"white\", \"zerolinewidth\": 2}, \"yaxis\": {\"automargin\": true, \"gridcolor\": \"white\", \"linecolor\": \"white\", \"ticks\": \"\", \"zerolinecolor\": \"white\", \"zerolinewidth\": 2}}}},\n",
       "                        {\"responsive\": true}\n",
       "                    ).then(function(){\n",
       "                            \n",
       "var gd = document.getElementById('ca0f2756-7791-436f-94cb-0f5406e0726f');\n",
       "var x = new MutationObserver(function (mutations, observer) {{\n",
       "        var display = window.getComputedStyle(gd).display;\n",
       "        if (!display || display === 'none') {{\n",
       "            console.log([gd, 'removed!']);\n",
       "            Plotly.purge(gd);\n",
       "            observer.disconnect();\n",
       "        }}\n",
       "}});\n",
       "\n",
       "// Listen for the removal of the full notebook cells\n",
       "var notebookContainer = gd.closest('#notebook-container');\n",
       "if (notebookContainer) {{\n",
       "    x.observe(notebookContainer, {childList: true});\n",
       "}}\n",
       "\n",
       "// Listen for the clearing of the current output cell\n",
       "var outputEl = gd.closest('.output');\n",
       "if (outputEl) {{\n",
       "    x.observe(outputEl, {childList: true});\n",
       "}}\n",
       "\n",
       "                        })\n",
       "                };\n",
       "                });\n",
       "            </script>\n",
       "        </div>"
      ]
     },
     "metadata": {},
     "output_type": "display_data"
    }
   ],
   "source": [
    "import plotly.graph_objects as go\n",
    "\n",
    "labels = artist_count.index\n",
    "values = artist_count.values\n",
    "\n",
    "fig = go.Figure(data=[go.Pie(labels=labels, values=values, hole=.63)])\n",
    "fig.show()"
   ]
  },
  {
   "cell_type": "markdown",
   "metadata": {},
   "source": [
    "From the data we can learn that artist with most occurences are \"Ariana Grande\", then followed by \"Shawn Mendes\", \"Justin Bieber\", \"Marion Jola\", and many others. Most of them only appeared once.\n",
    "\n",
    "**Note: The list may differs each time you run this, since the playlist keep getting updated**"
   ]
  },
  {
   "cell_type": "markdown",
   "metadata": {},
   "source": [
    "### Music Preferences Comparrison\n",
    "\n",
    "In this example, I will compare Indonesia's and Singapore's top chart's on spotify. These two playlist can be accessed in [here (Indonesia's)](https://open.spotify.com/playlist/0N5hxKlqFl6z2gVUywrdcA) and [here (Singapore's)](https://open.spotify.com/playlist/0cEPt12i4kitOqVLmyem8d)"
   ]
  },
  {
   "cell_type": "code",
   "execution_count": 44,
   "metadata": {},
   "outputs": [
    {
     "data": {
      "image/png": "[encoded data removed]",
      "text/plain": [
       "<Figure size 1440x360 with 2 Axes>"
      ]
     },
     "metadata": {
      "needs_background": "light"
     },
     "output_type": "display_data"
    }
   ],
   "source": [
    "import matplotlib.image as mpimg\n",
    "img_names = ['Indonesia_top_50.PNG', 'Singapore_top_50.PNG']\n",
    "img = []\n",
    "for i in img_names:\n",
    "    img.append(mpimg.imread('res/2/'+i))\n",
    "fig, ax = plt.subplots(1,2,figsize=(20,5))\n",
    "fig.subplots_adjust(hspace=0.1, wspace=0.1)\n",
    "for i in range(len(img)):\n",
    "        ax[i].imshow(img[i])\n",
    "        ax[i].set_title(img_names[i])\n",
    "        ax[i].axis('off')\n",
    "plt.show()"
   ]
  },
  {
   "cell_type": "code",
   "execution_count": 45,
   "metadata": {},
   "outputs": [],
   "source": [
    "playlist_id = '0N5hxKlqFl6z2gVUywrdcA'\n",
    "playlist_sg = '0cEPt12i4kitOqVLmyem8d'"
   ]
  },
  {
   "cell_type": "code",
   "execution_count": 46,
   "metadata": {
    "scrolled": true
   },
   "outputs": [
    {
     "name": "stderr",
     "output_type": "stream",
     "text": [
      "100%|██████████████████████████████████████████████████████████████████████████████████| 44/44 [00:06<00:00,  5.72it/s]\n"
     ]
    }
   ],
   "source": [
    "features_id = get_playlist_data(username, playlist_id)"
   ]
  },
  {
   "cell_type": "code",
   "execution_count": 47,
   "metadata": {},
   "outputs": [
    {
     "name": "stderr",
     "output_type": "stream",
     "text": [
      "100%|██████████████████████████████████████████████████████████████████████████████████| 52/52 [00:11<00:00,  4.71it/s]\n"
     ]
    }
   ],
   "source": [
    "features_sg = get_playlist_data(username, playlist_sg)"
   ]
  },
  {
   "cell_type": "markdown",
   "metadata": {},
   "source": [
    "We want to normalize them, so first let's combine the two dataframe. In order to keep them separated, let's create a new column called `location` filled with 'Indonesia' or 'Singapore'"
   ]
  },
  {
   "cell_type": "code",
   "execution_count": 48,
   "metadata": {},
   "outputs": [],
   "source": [
    "features_id['location'] = ['Indonesia']*features_id.shape[0]\n",
    "features_sg['location'] = ['Singapore']*features_sg.shape[0]"
   ]
  },
  {
   "cell_type": "code",
   "execution_count": 49,
   "metadata": {},
   "outputs": [
    {
     "data": {
      "text/html": [
       "<div>\n",
       "<style scoped>\n",
       "    .dataframe tbody tr th:only-of-type {\n",
       "        vertical-align: middle;\n",
       "    }\n",
       "\n",
       "    .dataframe tbody tr th {\n",
       "        vertical-align: top;\n",
       "    }\n",
       "\n",
       "    .dataframe thead th {\n",
       "        text-align: right;\n",
       "    }\n",
       "</style>\n",
       "<table border=\"1\" class=\"dataframe\">\n",
       "  <thead>\n",
       "    <tr style=\"text-align: right;\">\n",
       "      <th></th>\n",
       "      <th>acousticness</th>\n",
       "      <th>analysis_url</th>\n",
       "      <th>artists</th>\n",
       "      <th>danceability</th>\n",
       "      <th>duration</th>\n",
       "      <th>duration_ms</th>\n",
       "      <th>energy</th>\n",
       "      <th>id</th>\n",
       "      <th>instrumentalness</th>\n",
       "      <th>key</th>\n",
       "      <th>...</th>\n",
       "      <th>popularity</th>\n",
       "      <th>release_date</th>\n",
       "      <th>speechiness</th>\n",
       "      <th>tempo</th>\n",
       "      <th>time_signature</th>\n",
       "      <th>track_href</th>\n",
       "      <th>type</th>\n",
       "      <th>uri</th>\n",
       "      <th>valence</th>\n",
       "      <th>location</th>\n",
       "    </tr>\n",
       "  </thead>\n",
       "  <tbody>\n",
       "    <tr>\n",
       "      <th>91</th>\n",
       "      <td>0.0427</td>\n",
       "      <td>https://api.spotify.com/v1/audio-analysis/4y3O...</td>\n",
       "      <td>[Jonas Brothers]</td>\n",
       "      <td>0.842</td>\n",
       "      <td>181040</td>\n",
       "      <td>181040</td>\n",
       "      <td>0.734</td>\n",
       "      <td>4y3OI86AEP6PQoDE6olYhO</td>\n",
       "      <td>0.000000</td>\n",
       "      <td>1</td>\n",
       "      <td>...</td>\n",
       "      <td>87</td>\n",
       "      <td>2019-03-01</td>\n",
       "      <td>0.0588</td>\n",
       "      <td>137.958</td>\n",
       "      <td>4</td>\n",
       "      <td>https://api.spotify.com/v1/tracks/4y3OI86AEP6P...</td>\n",
       "      <td>audio_features</td>\n",
       "      <td>spotify:track:4y3OI86AEP6PQoDE6olYhO</td>\n",
       "      <td>0.952</td>\n",
       "      <td>Singapore</td>\n",
       "    </tr>\n",
       "    <tr>\n",
       "      <th>92</th>\n",
       "      <td>0.3150</td>\n",
       "      <td>https://api.spotify.com/v1/audio-analysis/76D5...</td>\n",
       "      <td>[brb.]</td>\n",
       "      <td>0.816</td>\n",
       "      <td>147891</td>\n",
       "      <td>147892</td>\n",
       "      <td>0.529</td>\n",
       "      <td>76D536xRk0FNg9kGPBxgdX</td>\n",
       "      <td>0.000002</td>\n",
       "      <td>8</td>\n",
       "      <td>...</td>\n",
       "      <td>50</td>\n",
       "      <td>2019-06-07</td>\n",
       "      <td>0.2140</td>\n",
       "      <td>92.522</td>\n",
       "      <td>4</td>\n",
       "      <td>https://api.spotify.com/v1/tracks/76D536xRk0FN...</td>\n",
       "      <td>audio_features</td>\n",
       "      <td>spotify:track:76D536xRk0FNg9kGPBxgdX</td>\n",
       "      <td>0.821</td>\n",
       "      <td>Singapore</td>\n",
       "    </tr>\n",
       "    <tr>\n",
       "      <th>93</th>\n",
       "      <td>0.4220</td>\n",
       "      <td>https://api.spotify.com/v1/audio-analysis/3xau...</td>\n",
       "      <td>[Joji]</td>\n",
       "      <td>0.552</td>\n",
       "      <td>180018</td>\n",
       "      <td>180019</td>\n",
       "      <td>0.650</td>\n",
       "      <td>3xaugmCyXrVkrDTXbFkMW3</td>\n",
       "      <td>0.000275</td>\n",
       "      <td>1</td>\n",
       "      <td>...</td>\n",
       "      <td>83</td>\n",
       "      <td>2019-06-14</td>\n",
       "      <td>0.1280</td>\n",
       "      <td>167.788</td>\n",
       "      <td>4</td>\n",
       "      <td>https://api.spotify.com/v1/tracks/3xaugmCyXrVk...</td>\n",
       "      <td>audio_features</td>\n",
       "      <td>spotify:track:3xaugmCyXrVkrDTXbFkMW3</td>\n",
       "      <td>0.316</td>\n",
       "      <td>Singapore</td>\n",
       "    </tr>\n",
       "    <tr>\n",
       "      <th>94</th>\n",
       "      <td>0.5050</td>\n",
       "      <td>https://api.spotify.com/v1/audio-analysis/6I5e...</td>\n",
       "      <td>[Jon Chua JX, FLANNEL ALBERT]</td>\n",
       "      <td>0.682</td>\n",
       "      <td>182500</td>\n",
       "      <td>182500</td>\n",
       "      <td>0.532</td>\n",
       "      <td>6I5e8RRQWXaYLw8iwWDxN2</td>\n",
       "      <td>0.000000</td>\n",
       "      <td>4</td>\n",
       "      <td>...</td>\n",
       "      <td>40</td>\n",
       "      <td>2019-07-26</td>\n",
       "      <td>0.0391</td>\n",
       "      <td>95.981</td>\n",
       "      <td>4</td>\n",
       "      <td>https://api.spotify.com/v1/tracks/6I5e8RRQWXaY...</td>\n",
       "      <td>audio_features</td>\n",
       "      <td>spotify:track:6I5e8RRQWXaYLw8iwWDxN2</td>\n",
       "      <td>0.469</td>\n",
       "      <td>Singapore</td>\n",
       "    </tr>\n",
       "    <tr>\n",
       "      <th>95</th>\n",
       "      <td>0.0706</td>\n",
       "      <td>https://api.spotify.com/v1/audio-analysis/7JCi...</td>\n",
       "      <td>[CHUNG HA]</td>\n",
       "      <td>0.751</td>\n",
       "      <td>213164</td>\n",
       "      <td>213164</td>\n",
       "      <td>0.726</td>\n",
       "      <td>7JCi89HGiURxFpr6NITY7q</td>\n",
       "      <td>0.000003</td>\n",
       "      <td>8</td>\n",
       "      <td>...</td>\n",
       "      <td>75</td>\n",
       "      <td>2019-06-24</td>\n",
       "      <td>0.0380</td>\n",
       "      <td>104.914</td>\n",
       "      <td>4</td>\n",
       "      <td>https://api.spotify.com/v1/tracks/7JCi89HGiURx...</td>\n",
       "      <td>audio_features</td>\n",
       "      <td>spotify:track:7JCi89HGiURxFpr6NITY7q</td>\n",
       "      <td>0.581</td>\n",
       "      <td>Singapore</td>\n",
       "    </tr>\n",
       "  </tbody>\n",
       "</table>\n",
       "<p>5 rows × 24 columns</p>\n",
       "</div>"
      ],
      "text/plain": [
       "    acousticness                                       analysis_url  \\\n",
       "91        0.0427  https://api.spotify.com/v1/audio-analysis/4y3O...   \n",
       "92        0.3150  https://api.spotify.com/v1/audio-analysis/76D5...   \n",
       "93        0.4220  https://api.spotify.com/v1/audio-analysis/3xau...   \n",
       "94        0.5050  https://api.spotify.com/v1/audio-analysis/6I5e...   \n",
       "95        0.0706  https://api.spotify.com/v1/audio-analysis/7JCi...   \n",
       "\n",
       "                          artists  danceability  duration  duration_ms  \\\n",
       "91               [Jonas Brothers]         0.842    181040       181040   \n",
       "92                         [brb.]         0.816    147891       147892   \n",
       "93                         [Joji]         0.552    180018       180019   \n",
       "94  [Jon Chua JX, FLANNEL ALBERT]         0.682    182500       182500   \n",
       "95                     [CHUNG HA]         0.751    213164       213164   \n",
       "\n",
       "    energy                      id  instrumentalness  key  ...  popularity  \\\n",
       "91   0.734  4y3OI86AEP6PQoDE6olYhO          0.000000    1  ...          87   \n",
       "92   0.529  76D536xRk0FNg9kGPBxgdX          0.000002    8  ...          50   \n",
       "93   0.650  3xaugmCyXrVkrDTXbFkMW3          0.000275    1  ...          83   \n",
       "94   0.532  6I5e8RRQWXaYLw8iwWDxN2          0.000000    4  ...          40   \n",
       "95   0.726  7JCi89HGiURxFpr6NITY7q          0.000003    8  ...          75   \n",
       "\n",
       "    release_date  speechiness    tempo  time_signature  \\\n",
       "91    2019-03-01       0.0588  137.958               4   \n",
       "92    2019-06-07       0.2140   92.522               4   \n",
       "93    2019-06-14       0.1280  167.788               4   \n",
       "94    2019-07-26       0.0391   95.981               4   \n",
       "95    2019-06-24       0.0380  104.914               4   \n",
       "\n",
       "                                           track_href            type  \\\n",
       "91  https://api.spotify.com/v1/tracks/4y3OI86AEP6P...  audio_features   \n",
       "92  https://api.spotify.com/v1/tracks/76D536xRk0FN...  audio_features   \n",
       "93  https://api.spotify.com/v1/tracks/3xaugmCyXrVk...  audio_features   \n",
       "94  https://api.spotify.com/v1/tracks/6I5e8RRQWXaY...  audio_features   \n",
       "95  https://api.spotify.com/v1/tracks/7JCi89HGiURx...  audio_features   \n",
       "\n",
       "                                     uri  valence   location  \n",
       "91  spotify:track:4y3OI86AEP6PQoDE6olYhO    0.952  Singapore  \n",
       "92  spotify:track:76D536xRk0FNg9kGPBxgdX    0.821  Singapore  \n",
       "93  spotify:track:3xaugmCyXrVkrDTXbFkMW3    0.316  Singapore  \n",
       "94  spotify:track:6I5e8RRQWXaYLw8iwWDxN2    0.469  Singapore  \n",
       "95  spotify:track:7JCi89HGiURxFpr6NITY7q    0.581  Singapore  \n",
       "\n",
       "[5 rows x 24 columns]"
      ]
     },
     "execution_count": 49,
     "metadata": {},
     "output_type": "execute_result"
    }
   ],
   "source": [
    "features_c = features_id.append(features_sg).reset_index(drop=True)\n",
    "features_c.tail()"
   ]
  },
  {
   "cell_type": "code",
   "execution_count": 50,
   "metadata": {},
   "outputs": [],
   "source": [
    "# drop unnecessary feature \n",
    "features_c.drop(columns=['analysis_url', 'id', 'track_href', 'uri', 'type', 'duration_ms'], inplace=True)"
   ]
  },
  {
   "cell_type": "code",
   "execution_count": 51,
   "metadata": {},
   "outputs": [],
   "source": [
    "# fit and transform to rescale features value \n",
    "spnorm = SpNormalizer(features_c)\n",
    "features_cn = spnorm.scale(features_c)"
   ]
  },
  {
   "cell_type": "code",
   "execution_count": 52,
   "metadata": {},
   "outputs": [
    {
     "data": {
      "text/plain": [
       "acousticness             0.320100\n",
       "danceability             0.621625\n",
       "duration            202342.875000\n",
       "energy                   0.572635\n",
       "instrumentalness         0.026520\n",
       "key                      5.312500\n",
       "liveness                 0.168669\n",
       "loudness                -6.863698\n",
       "mode                     0.645833\n",
       "popularity              75.052083\n",
       "speechiness              0.083392\n",
       "tempo                  119.335792\n",
       "time_signature           3.937500\n",
       "valence                  0.459906\n",
       "dtype: float64"
      ]
     },
     "execution_count": 52,
     "metadata": {},
     "output_type": "execute_result"
    }
   ],
   "source": [
    "features_c.select_dtypes(exclude='object').mean()"
   ]
  },
  {
   "cell_type": "code",
   "execution_count": 53,
   "metadata": {},
   "outputs": [
    {
     "data": {
      "text/plain": [
       "acousticness        0.320100\n",
       "danceability        0.621625\n",
       "duration            0.645082\n",
       "energy              0.572635\n",
       "instrumentalness    0.026520\n",
       "key                 0.442708\n",
       "liveness            0.168669\n",
       "loudness            0.885605\n",
       "mode                0.645833\n",
       "popularity          0.750521\n",
       "speechiness         0.083392\n",
       "tempo               0.627763\n",
       "time_signature      0.234375\n",
       "valence             0.459906\n",
       "dtype: float64"
      ]
     },
     "execution_count": 53,
     "metadata": {},
     "output_type": "execute_result"
    }
   ],
   "source": [
    "features_cn.select_dtypes(exclude='object').mean()"
   ]
  },
  {
   "cell_type": "code",
   "execution_count": 54,
   "metadata": {},
   "outputs": [],
   "source": [
    "features_id = features_cn [features_cn['location'] == 'Indonesia']\n",
    "features_sg = features_cn [features_cn['location'] == 'Singapore']"
   ]
  },
  {
   "cell_type": "code",
   "execution_count": 55,
   "metadata": {},
   "outputs": [
    {
     "data": {
      "image/png": "[encoded data removed]",
      "text/plain": [
       "<Figure size 432x288 with 1 Axes>"
      ]
     },
     "metadata": {
      "needs_background": "light"
     },
     "output_type": "display_data"
    }
   ],
   "source": [
    "N = len(features_cn.mean())\n",
    "ind = np.arange(N) \n",
    "\n",
    "width = 0.35  \n",
    "plt.barh(ind, features_id.mean() , width, label='Indonesia', color = 'lightslategray')\n",
    "plt.barh(ind + width, features_sg.mean(), width, label='Singapore', color = 'mediumvioletred')\n",
    "\n",
    "plt.xlabel('Mean', fontsize = 12)\n",
    "plt.title('Mean values of the audio features')\n",
    "plt.yticks(ind + width / 2, (list(features_sg)[:]), fontsize = 12)\n",
    "plt.legend(loc='best')\n",
    "plt.rcParams['figure.figsize'] =(8,8)\n",
    "style.use(\"seaborn\")\n",
    "plt.show()\n"
   ]
  },
  {
   "cell_type": "code",
   "execution_count": 56,
   "metadata": {},
   "outputs": [
    {
     "data": {
      "text/plain": [
       "<matplotlib.legend.Legend at 0x24f2fb4b630>"
      ]
     },
     "execution_count": 56,
     "metadata": {},
     "output_type": "execute_result"
    },
    {
     "data": {
      "image/png": "[encoded data removed]",
      "text/plain": [
       "<Figure size 1800x1800 with 1 Axes>"
      ]
     },
     "metadata": {},
     "output_type": "display_data"
    }
   ],
   "source": [
    "labels= list(features_id.select_dtypes(exclude='object').columns)\n",
    "stats= features_id.mean().tolist()\n",
    "stats2 = features_sg.mean().tolist()\n",
    "\n",
    "angles=np.linspace(0, 2*np.pi, len(labels), endpoint=False)\n",
    "\n",
    "stats = np.concatenate((stats,[stats[0]]))\n",
    "stats2 = np.concatenate((stats2,[stats2[0]])) \n",
    "angles = np.concatenate((angles,[angles[0]]))\n",
    "\n",
    "fig = plt.figure(figsize = (25,25))\n",
    "\n",
    "ax = fig.add_subplot(221, polar=True)\n",
    "ax.plot(angles, stats, 'o-', linewidth=2, label = \"Indonesia\", color= 'gray')\n",
    "ax.fill(angles, stats, alpha=0.25, facecolor='gray')\n",
    "ax.set_thetagrids(angles * 180/np.pi, labels , fontsize = 13)\n",
    "\n",
    "ax.set_rlabel_position(250)\n",
    "plt.yticks([0.2 , 0.4 , 0.6 , 0.8  ], [\"0.2\",'0.4', \"0.6\", \"0.8\"], color=\"grey\", size=12)\n",
    "plt.ylim(0,1)\n",
    "\n",
    "ax.plot(angles, stats2, 'o-', linewidth=2, label = \"Singapore\", color = 'm')\n",
    "ax.fill(angles, stats2, alpha=0.25, facecolor='m' )\n",
    "ax.set_title('Mean Values of the audio features', size=24)\n",
    "ax.grid(True)\n",
    "\n",
    "plt.legend(loc='best', bbox_to_anchor=(0.1, 0.1))"
   ]
  },
  {
   "cell_type": "markdown",
   "metadata": {},
   "source": [
    "<p style='text-align: justify;'>\n",
    "Based on the graph, there are no big different between Indonesia's and Singapore's audio features. The biggest differences may occur in `mode`, `accousticness`, and `energy`. \n",
    "\n",
    "Indonesia tend to listens to music with higher mode that Singapore. Higher mode means Major scales on the music, and lower mode means Minor scales. This could indicate the theme of the music, wether it is sad or happy. In sort, Indonesia listens more happy music than Singapore.\n",
    "\n",
    "High value in accoustic means the music is more accoustic. The graph shows that Indonesia listen to low accoustic music, but Singapore much lower. Energy means intensity or activity of the music. Indonesia have higher value of energy than Singapore. This could inference that Indonesia have a more intense music flavor than Singapore.\n",
    "\n",
    "</p>"
   ]
  },
  {
   "cell_type": "markdown",
   "metadata": {},
   "source": [
    "# Conclusion"
   ]
  },
  {
   "cell_type": "markdown",
   "metadata": {},
   "source": [
    "Spotify API gives us many access to the data, and enlarge the opportunities for data scientist to gain insight or create predictive models in the future.\n",
    "\n",
    "Our next step is to do a machine learning approach from the collected data."
   ]
  }
 ],
 "metadata": {
  "kernelspec": {
   "display_name": "Python 3",
   "language": "python",
   "name": "python3"
  },
  "language_info": {
   "codemirror_mode": {
    "name": "ipython",
    "version": 3
   },
   "file_extension": ".py",
   "mimetype": "text/x-python",
   "name": "python",
   "nbconvert_exporter": "python",
   "pygments_lexer": "ipython3",
   "version": "3.7.3"
  },
  "toc": {
   "base_numbering": 1,
   "nav_menu": {},
   "number_sections": true,
   "sideBar": true,
   "skip_h1_title": false,
   "title_cell": "Table of Contents",
   "title_sidebar": "Contents",
   "toc_cell": false,
   "toc_position": {
    "height": "calc(100% - 180px)",
    "left": "10px",
    "top": "150px",
    "width": "384px"
   },
   "toc_section_display": true,
   "toc_window_display": true
  },
  "varInspector": {
   "cols": {
    "lenName": 16,
    "lenType": 16,
    "lenVar": 40
   },
   "kernels_config": {
    "python": {
     "delete_cmd_postfix": "",
     "delete_cmd_prefix": "del ",
     "library": "var_list.py",
     "varRefreshCmd": "print(var_dic_list())"
    },
    "r": {
     "delete_cmd_postfix": ") ",
     "delete_cmd_prefix": "rm(",
     "library": "var_list.r",
     "varRefreshCmd": "cat(var_dic_list()) "
    }
   },
   "types_to_exclude": [
    "module",
    "function",
    "builtin_function_or_method",
    "instance",
    "_Feature"
   ],
   "window_display": false
  }
 },
 "nbformat": 4,
 "nbformat_minor": 2
}
